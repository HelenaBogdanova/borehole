{
 "cells": [
  {
   "cell_type": "markdown",
   "metadata": {},
   "source": [
    "# Выбор локации для скважины"
   ]
  },
  {
   "cell_type": "markdown",
   "metadata": {},
   "source": [
    "Допустим, вы работаете в добывающей компании «ГлавРосГосНефть». Нужно решить, где бурить новую скважину.\n",
    "\n",
    "Вам предоставлены пробы нефти в трёх регионах: в каждом 10 000 месторождений, где измерили качество нефти и объём её запасов. Постройте модель машинного обучения, которая поможет определить регион, где добыча принесёт наибольшую прибыль. Проанализируйте возможную прибыль и риски техникой *Bootstrap.*\n",
    "\n",
    "Шаги для выбора локации:\n",
    "\n",
    "- В избранном регионе ищут месторождения, для каждого определяют значения признаков;\n",
    "- Строят модель и оценивают объём запасов;\n",
    "- Выбирают месторождения с самым высокими оценками значений. Количество месторождений зависит от бюджета компании и стоимости разработки одной скважины;\n",
    "- Прибыль равна суммарной прибыли отобранных месторождений."
   ]
  },
  {
   "cell_type": "markdown",
   "metadata": {},
   "source": [
    "## Загрузка и подготовка данных"
   ]
  },
  {
   "cell_type": "markdown",
   "metadata": {},
   "source": [
    "Загрузим необходимые библиотеки (список будет пополняться в ходе выполнения проекта):"
   ]
  },
  {
   "cell_type": "code",
   "execution_count": 1,
   "metadata": {},
   "outputs": [],
   "source": [
    "import pandas as pd\n",
    "import matplotlib.pyplot as plt\n",
    "from sklearn.model_selection import train_test_split\n",
    "from sklearn.preprocessing import StandardScaler\n",
    "from sklearn.linear_model import LinearRegression\n",
    "from sklearn.metrics import mean_squared_error\n",
    "import numpy as np\n",
    "import seaborn as sns"
   ]
  },
  {
   "cell_type": "markdown",
   "metadata": {},
   "source": [
    "Загрузим файлы и выведем первые строки на экран:"
   ]
  },
  {
   "cell_type": "code",
   "execution_count": 2,
   "metadata": {},
   "outputs": [],
   "source": [
    "#открываем файлы\n",
    "df1 = pd.read_csv(\"C:\\\\Users\\\\Bogdanova\\\\Downloads\\\\geo_data_0.csv\")\n",
    "df2 = pd.read_csv(\"C:\\\\Users\\\\Bogdanova\\\\Downloads\\\\geo_data_1.csv\")\n",
    "df3 = pd.read_csv(\"C:\\\\Users\\\\Bogdanova\\\\Downloads\\\\geo_data_2.csv\")"
   ]
  },
  {
   "cell_type": "code",
   "execution_count": 3,
   "metadata": {},
   "outputs": [
    {
     "data": {
      "text/html": [
       "<div>\n",
       "<style scoped>\n",
       "    .dataframe tbody tr th:only-of-type {\n",
       "        vertical-align: middle;\n",
       "    }\n",
       "\n",
       "    .dataframe tbody tr th {\n",
       "        vertical-align: top;\n",
       "    }\n",
       "\n",
       "    .dataframe thead th {\n",
       "        text-align: right;\n",
       "    }\n",
       "</style>\n",
       "<table border=\"1\" class=\"dataframe\">\n",
       "  <thead>\n",
       "    <tr style=\"text-align: right;\">\n",
       "      <th></th>\n",
       "      <th>id</th>\n",
       "      <th>f0</th>\n",
       "      <th>f1</th>\n",
       "      <th>f2</th>\n",
       "      <th>product</th>\n",
       "    </tr>\n",
       "  </thead>\n",
       "  <tbody>\n",
       "    <tr>\n",
       "      <th>0</th>\n",
       "      <td>txEyH</td>\n",
       "      <td>0.705745</td>\n",
       "      <td>-0.497823</td>\n",
       "      <td>1.221170</td>\n",
       "      <td>105.280062</td>\n",
       "    </tr>\n",
       "    <tr>\n",
       "      <th>1</th>\n",
       "      <td>2acmU</td>\n",
       "      <td>1.334711</td>\n",
       "      <td>-0.340164</td>\n",
       "      <td>4.365080</td>\n",
       "      <td>73.037750</td>\n",
       "    </tr>\n",
       "    <tr>\n",
       "      <th>2</th>\n",
       "      <td>409Wp</td>\n",
       "      <td>1.022732</td>\n",
       "      <td>0.151990</td>\n",
       "      <td>1.419926</td>\n",
       "      <td>85.265647</td>\n",
       "    </tr>\n",
       "    <tr>\n",
       "      <th>3</th>\n",
       "      <td>iJLyR</td>\n",
       "      <td>-0.032172</td>\n",
       "      <td>0.139033</td>\n",
       "      <td>2.978566</td>\n",
       "      <td>168.620776</td>\n",
       "    </tr>\n",
       "    <tr>\n",
       "      <th>4</th>\n",
       "      <td>Xdl7t</td>\n",
       "      <td>1.988431</td>\n",
       "      <td>0.155413</td>\n",
       "      <td>4.751769</td>\n",
       "      <td>154.036647</td>\n",
       "    </tr>\n",
       "    <tr>\n",
       "      <th>5</th>\n",
       "      <td>wX4Hy</td>\n",
       "      <td>0.969570</td>\n",
       "      <td>0.489775</td>\n",
       "      <td>-0.735383</td>\n",
       "      <td>64.741541</td>\n",
       "    </tr>\n",
       "    <tr>\n",
       "      <th>6</th>\n",
       "      <td>tL6pL</td>\n",
       "      <td>0.645075</td>\n",
       "      <td>0.530656</td>\n",
       "      <td>1.780266</td>\n",
       "      <td>49.055285</td>\n",
       "    </tr>\n",
       "    <tr>\n",
       "      <th>7</th>\n",
       "      <td>BYPU6</td>\n",
       "      <td>-0.400648</td>\n",
       "      <td>0.808337</td>\n",
       "      <td>-5.624670</td>\n",
       "      <td>72.943292</td>\n",
       "    </tr>\n",
       "    <tr>\n",
       "      <th>8</th>\n",
       "      <td>j9Oui</td>\n",
       "      <td>0.643105</td>\n",
       "      <td>-0.551583</td>\n",
       "      <td>2.372141</td>\n",
       "      <td>113.356160</td>\n",
       "    </tr>\n",
       "    <tr>\n",
       "      <th>9</th>\n",
       "      <td>OLuZU</td>\n",
       "      <td>2.173381</td>\n",
       "      <td>0.563698</td>\n",
       "      <td>9.441852</td>\n",
       "      <td>127.910945</td>\n",
       "    </tr>\n",
       "  </tbody>\n",
       "</table>\n",
       "</div>"
      ],
      "text/plain": [
       "      id        f0        f1        f2     product\n",
       "0  txEyH  0.705745 -0.497823  1.221170  105.280062\n",
       "1  2acmU  1.334711 -0.340164  4.365080   73.037750\n",
       "2  409Wp  1.022732  0.151990  1.419926   85.265647\n",
       "3  iJLyR -0.032172  0.139033  2.978566  168.620776\n",
       "4  Xdl7t  1.988431  0.155413  4.751769  154.036647\n",
       "5  wX4Hy  0.969570  0.489775 -0.735383   64.741541\n",
       "6  tL6pL  0.645075  0.530656  1.780266   49.055285\n",
       "7  BYPU6 -0.400648  0.808337 -5.624670   72.943292\n",
       "8  j9Oui  0.643105 -0.551583  2.372141  113.356160\n",
       "9  OLuZU  2.173381  0.563698  9.441852  127.910945"
      ]
     },
     "metadata": {},
     "output_type": "display_data"
    },
    {
     "data": {
      "text/html": [
       "<div>\n",
       "<style scoped>\n",
       "    .dataframe tbody tr th:only-of-type {\n",
       "        vertical-align: middle;\n",
       "    }\n",
       "\n",
       "    .dataframe tbody tr th {\n",
       "        vertical-align: top;\n",
       "    }\n",
       "\n",
       "    .dataframe thead th {\n",
       "        text-align: right;\n",
       "    }\n",
       "</style>\n",
       "<table border=\"1\" class=\"dataframe\">\n",
       "  <thead>\n",
       "    <tr style=\"text-align: right;\">\n",
       "      <th></th>\n",
       "      <th>id</th>\n",
       "      <th>f0</th>\n",
       "      <th>f1</th>\n",
       "      <th>f2</th>\n",
       "      <th>product</th>\n",
       "    </tr>\n",
       "  </thead>\n",
       "  <tbody>\n",
       "    <tr>\n",
       "      <th>0</th>\n",
       "      <td>kBEdx</td>\n",
       "      <td>-15.001348</td>\n",
       "      <td>-8.276000</td>\n",
       "      <td>-0.005876</td>\n",
       "      <td>3.179103</td>\n",
       "    </tr>\n",
       "    <tr>\n",
       "      <th>1</th>\n",
       "      <td>62mP7</td>\n",
       "      <td>14.272088</td>\n",
       "      <td>-3.475083</td>\n",
       "      <td>0.999183</td>\n",
       "      <td>26.953261</td>\n",
       "    </tr>\n",
       "    <tr>\n",
       "      <th>2</th>\n",
       "      <td>vyE1P</td>\n",
       "      <td>6.263187</td>\n",
       "      <td>-5.948386</td>\n",
       "      <td>5.001160</td>\n",
       "      <td>134.766305</td>\n",
       "    </tr>\n",
       "    <tr>\n",
       "      <th>3</th>\n",
       "      <td>KcrkZ</td>\n",
       "      <td>-13.081196</td>\n",
       "      <td>-11.506057</td>\n",
       "      <td>4.999415</td>\n",
       "      <td>137.945408</td>\n",
       "    </tr>\n",
       "    <tr>\n",
       "      <th>4</th>\n",
       "      <td>AHL4O</td>\n",
       "      <td>12.702195</td>\n",
       "      <td>-8.147433</td>\n",
       "      <td>5.004363</td>\n",
       "      <td>134.766305</td>\n",
       "    </tr>\n",
       "    <tr>\n",
       "      <th>5</th>\n",
       "      <td>HHckp</td>\n",
       "      <td>-3.327590</td>\n",
       "      <td>-2.205276</td>\n",
       "      <td>3.003647</td>\n",
       "      <td>84.038886</td>\n",
       "    </tr>\n",
       "    <tr>\n",
       "      <th>6</th>\n",
       "      <td>h5Ujo</td>\n",
       "      <td>-11.142655</td>\n",
       "      <td>-10.133399</td>\n",
       "      <td>4.002382</td>\n",
       "      <td>110.992147</td>\n",
       "    </tr>\n",
       "    <tr>\n",
       "      <th>7</th>\n",
       "      <td>muH9x</td>\n",
       "      <td>4.234715</td>\n",
       "      <td>-0.001354</td>\n",
       "      <td>2.004588</td>\n",
       "      <td>53.906522</td>\n",
       "    </tr>\n",
       "    <tr>\n",
       "      <th>8</th>\n",
       "      <td>YiRkx</td>\n",
       "      <td>13.355129</td>\n",
       "      <td>-0.332068</td>\n",
       "      <td>4.998647</td>\n",
       "      <td>134.766305</td>\n",
       "    </tr>\n",
       "    <tr>\n",
       "      <th>9</th>\n",
       "      <td>jG6Gi</td>\n",
       "      <td>1.069227</td>\n",
       "      <td>-11.025667</td>\n",
       "      <td>4.997844</td>\n",
       "      <td>137.945408</td>\n",
       "    </tr>\n",
       "  </tbody>\n",
       "</table>\n",
       "</div>"
      ],
      "text/plain": [
       "      id         f0         f1        f2     product\n",
       "0  kBEdx -15.001348  -8.276000 -0.005876    3.179103\n",
       "1  62mP7  14.272088  -3.475083  0.999183   26.953261\n",
       "2  vyE1P   6.263187  -5.948386  5.001160  134.766305\n",
       "3  KcrkZ -13.081196 -11.506057  4.999415  137.945408\n",
       "4  AHL4O  12.702195  -8.147433  5.004363  134.766305\n",
       "5  HHckp  -3.327590  -2.205276  3.003647   84.038886\n",
       "6  h5Ujo -11.142655 -10.133399  4.002382  110.992147\n",
       "7  muH9x   4.234715  -0.001354  2.004588   53.906522\n",
       "8  YiRkx  13.355129  -0.332068  4.998647  134.766305\n",
       "9  jG6Gi   1.069227 -11.025667  4.997844  137.945408"
      ]
     },
     "metadata": {},
     "output_type": "display_data"
    },
    {
     "data": {
      "text/html": [
       "<div>\n",
       "<style scoped>\n",
       "    .dataframe tbody tr th:only-of-type {\n",
       "        vertical-align: middle;\n",
       "    }\n",
       "\n",
       "    .dataframe tbody tr th {\n",
       "        vertical-align: top;\n",
       "    }\n",
       "\n",
       "    .dataframe thead th {\n",
       "        text-align: right;\n",
       "    }\n",
       "</style>\n",
       "<table border=\"1\" class=\"dataframe\">\n",
       "  <thead>\n",
       "    <tr style=\"text-align: right;\">\n",
       "      <th></th>\n",
       "      <th>id</th>\n",
       "      <th>f0</th>\n",
       "      <th>f1</th>\n",
       "      <th>f2</th>\n",
       "      <th>product</th>\n",
       "    </tr>\n",
       "  </thead>\n",
       "  <tbody>\n",
       "    <tr>\n",
       "      <th>0</th>\n",
       "      <td>fwXo0</td>\n",
       "      <td>-1.146987</td>\n",
       "      <td>0.963328</td>\n",
       "      <td>-0.828965</td>\n",
       "      <td>27.758673</td>\n",
       "    </tr>\n",
       "    <tr>\n",
       "      <th>1</th>\n",
       "      <td>WJtFt</td>\n",
       "      <td>0.262778</td>\n",
       "      <td>0.269839</td>\n",
       "      <td>-2.530187</td>\n",
       "      <td>56.069697</td>\n",
       "    </tr>\n",
       "    <tr>\n",
       "      <th>2</th>\n",
       "      <td>ovLUW</td>\n",
       "      <td>0.194587</td>\n",
       "      <td>0.289035</td>\n",
       "      <td>-5.586433</td>\n",
       "      <td>62.871910</td>\n",
       "    </tr>\n",
       "    <tr>\n",
       "      <th>3</th>\n",
       "      <td>q6cA6</td>\n",
       "      <td>2.236060</td>\n",
       "      <td>-0.553760</td>\n",
       "      <td>0.930038</td>\n",
       "      <td>114.572842</td>\n",
       "    </tr>\n",
       "    <tr>\n",
       "      <th>4</th>\n",
       "      <td>WPMUX</td>\n",
       "      <td>-0.515993</td>\n",
       "      <td>1.716266</td>\n",
       "      <td>5.899011</td>\n",
       "      <td>149.600746</td>\n",
       "    </tr>\n",
       "    <tr>\n",
       "      <th>5</th>\n",
       "      <td>LzZXx</td>\n",
       "      <td>-0.758092</td>\n",
       "      <td>0.710691</td>\n",
       "      <td>2.585887</td>\n",
       "      <td>90.222465</td>\n",
       "    </tr>\n",
       "    <tr>\n",
       "      <th>6</th>\n",
       "      <td>WBHRv</td>\n",
       "      <td>-0.574891</td>\n",
       "      <td>0.317727</td>\n",
       "      <td>1.773745</td>\n",
       "      <td>45.641478</td>\n",
       "    </tr>\n",
       "    <tr>\n",
       "      <th>7</th>\n",
       "      <td>XO8fn</td>\n",
       "      <td>-1.906649</td>\n",
       "      <td>-2.458350</td>\n",
       "      <td>-0.177097</td>\n",
       "      <td>72.480640</td>\n",
       "    </tr>\n",
       "    <tr>\n",
       "      <th>8</th>\n",
       "      <td>ybmQ5</td>\n",
       "      <td>1.776292</td>\n",
       "      <td>-0.279356</td>\n",
       "      <td>3.004156</td>\n",
       "      <td>106.616832</td>\n",
       "    </tr>\n",
       "    <tr>\n",
       "      <th>9</th>\n",
       "      <td>OilcN</td>\n",
       "      <td>-1.214452</td>\n",
       "      <td>-0.439314</td>\n",
       "      <td>5.922514</td>\n",
       "      <td>52.954532</td>\n",
       "    </tr>\n",
       "  </tbody>\n",
       "</table>\n",
       "</div>"
      ],
      "text/plain": [
       "      id        f0        f1        f2     product\n",
       "0  fwXo0 -1.146987  0.963328 -0.828965   27.758673\n",
       "1  WJtFt  0.262778  0.269839 -2.530187   56.069697\n",
       "2  ovLUW  0.194587  0.289035 -5.586433   62.871910\n",
       "3  q6cA6  2.236060 -0.553760  0.930038  114.572842\n",
       "4  WPMUX -0.515993  1.716266  5.899011  149.600746\n",
       "5  LzZXx -0.758092  0.710691  2.585887   90.222465\n",
       "6  WBHRv -0.574891  0.317727  1.773745   45.641478\n",
       "7  XO8fn -1.906649 -2.458350 -0.177097   72.480640\n",
       "8  ybmQ5  1.776292 -0.279356  3.004156  106.616832\n",
       "9  OilcN -1.214452 -0.439314  5.922514   52.954532"
      ]
     },
     "metadata": {},
     "output_type": "display_data"
    }
   ],
   "source": [
    "#выводим файлы на экран\n",
    "for n in df1, df2, df3:\n",
    "    display(n.head(10))\n"
   ]
  },
  {
   "cell_type": "markdown",
   "metadata": {},
   "source": [
    "Просмотрим информацию о файлах:"
   ]
  },
  {
   "cell_type": "code",
   "execution_count": 4,
   "metadata": {},
   "outputs": [
    {
     "name": "stdout",
     "output_type": "stream",
     "text": [
      "<class 'pandas.core.frame.DataFrame'>\n",
      "RangeIndex: 100000 entries, 0 to 99999\n",
      "Data columns (total 5 columns):\n",
      " #   Column   Non-Null Count   Dtype  \n",
      "---  ------   --------------   -----  \n",
      " 0   id       100000 non-null  object \n",
      " 1   f0       100000 non-null  float64\n",
      " 2   f1       100000 non-null  float64\n",
      " 3   f2       100000 non-null  float64\n",
      " 4   product  100000 non-null  float64\n",
      "dtypes: float64(4), object(1)\n",
      "memory usage: 3.8+ MB\n"
     ]
    },
    {
     "data": {
      "text/plain": [
       "None"
      ]
     },
     "metadata": {},
     "output_type": "display_data"
    },
    {
     "name": "stdout",
     "output_type": "stream",
     "text": [
      "<class 'pandas.core.frame.DataFrame'>\n",
      "RangeIndex: 100000 entries, 0 to 99999\n",
      "Data columns (total 5 columns):\n",
      " #   Column   Non-Null Count   Dtype  \n",
      "---  ------   --------------   -----  \n",
      " 0   id       100000 non-null  object \n",
      " 1   f0       100000 non-null  float64\n",
      " 2   f1       100000 non-null  float64\n",
      " 3   f2       100000 non-null  float64\n",
      " 4   product  100000 non-null  float64\n",
      "dtypes: float64(4), object(1)\n",
      "memory usage: 3.8+ MB\n"
     ]
    },
    {
     "data": {
      "text/plain": [
       "None"
      ]
     },
     "metadata": {},
     "output_type": "display_data"
    },
    {
     "name": "stdout",
     "output_type": "stream",
     "text": [
      "<class 'pandas.core.frame.DataFrame'>\n",
      "RangeIndex: 100000 entries, 0 to 99999\n",
      "Data columns (total 5 columns):\n",
      " #   Column   Non-Null Count   Dtype  \n",
      "---  ------   --------------   -----  \n",
      " 0   id       100000 non-null  object \n",
      " 1   f0       100000 non-null  float64\n",
      " 2   f1       100000 non-null  float64\n",
      " 3   f2       100000 non-null  float64\n",
      " 4   product  100000 non-null  float64\n",
      "dtypes: float64(4), object(1)\n",
      "memory usage: 3.8+ MB\n"
     ]
    },
    {
     "data": {
      "text/plain": [
       "None"
      ]
     },
     "metadata": {},
     "output_type": "display_data"
    }
   ],
   "source": [
    "for n in df1, df2, df3:\n",
    "    display(n.info())"
   ]
  },
  {
   "cell_type": "markdown",
   "metadata": {},
   "source": [
    "Пропуски в данных отсутсвуют. Проверим данные на наличие янвых дубликатов:"
   ]
  },
  {
   "cell_type": "code",
   "execution_count": 5,
   "metadata": {},
   "outputs": [
    {
     "name": "stdout",
     "output_type": "stream",
     "text": [
      "Количество явных дубликатов региона: 0\n",
      "Количество явных дубликатов региона: 0\n",
      "Количество явных дубликатов региона: 0\n"
     ]
    }
   ],
   "source": [
    "for n in df1, df2, df3: \n",
    "        print('Количество явных дубликатов региона:', n.duplicated().sum())"
   ]
  },
  {
   "cell_type": "code",
   "execution_count": 6,
   "metadata": {},
   "outputs": [],
   "source": [
    "#print('Количество явных дубликатов первого региона:', df1.duplicated().sum())"
   ]
  },
  {
   "cell_type": "code",
   "execution_count": 7,
   "metadata": {},
   "outputs": [],
   "source": [
    "#print('Количество явных дубликатов второго региона:', df2.duplicated().sum())"
   ]
  },
  {
   "cell_type": "code",
   "execution_count": 8,
   "metadata": {},
   "outputs": [],
   "source": [
    "#print('Количество явных дубликатов третьего региона:', df2.duplicated().sum())"
   ]
  },
  {
   "cell_type": "markdown",
   "metadata": {},
   "source": [
    "Явных дубликатов не обнаружено. Проверим данные на неявные дубликаты по столбцу с уникальными значениями:"
   ]
  },
  {
   "cell_type": "code",
   "execution_count": 9,
   "metadata": {},
   "outputs": [
    {
     "data": {
      "text/html": [
       "<div>\n",
       "<style scoped>\n",
       "    .dataframe tbody tr th:only-of-type {\n",
       "        vertical-align: middle;\n",
       "    }\n",
       "\n",
       "    .dataframe tbody tr th {\n",
       "        vertical-align: top;\n",
       "    }\n",
       "\n",
       "    .dataframe thead th {\n",
       "        text-align: right;\n",
       "    }\n",
       "</style>\n",
       "<table border=\"1\" class=\"dataframe\">\n",
       "  <thead>\n",
       "    <tr style=\"text-align: right;\">\n",
       "      <th></th>\n",
       "      <th>id</th>\n",
       "      <th>f0</th>\n",
       "      <th>f1</th>\n",
       "      <th>f2</th>\n",
       "      <th>product</th>\n",
       "    </tr>\n",
       "  </thead>\n",
       "  <tbody>\n",
       "    <tr>\n",
       "      <th>66136</th>\n",
       "      <td>74z30</td>\n",
       "      <td>1.084962</td>\n",
       "      <td>-0.312358</td>\n",
       "      <td>6.990771</td>\n",
       "      <td>127.643327</td>\n",
       "    </tr>\n",
       "    <tr>\n",
       "      <th>64022</th>\n",
       "      <td>74z30</td>\n",
       "      <td>0.741456</td>\n",
       "      <td>0.459229</td>\n",
       "      <td>5.153109</td>\n",
       "      <td>140.771492</td>\n",
       "    </tr>\n",
       "    <tr>\n",
       "      <th>51970</th>\n",
       "      <td>A5aEY</td>\n",
       "      <td>-0.180335</td>\n",
       "      <td>0.935548</td>\n",
       "      <td>-2.094773</td>\n",
       "      <td>33.020205</td>\n",
       "    </tr>\n",
       "    <tr>\n",
       "      <th>3389</th>\n",
       "      <td>A5aEY</td>\n",
       "      <td>-0.039949</td>\n",
       "      <td>0.156872</td>\n",
       "      <td>0.209861</td>\n",
       "      <td>89.249364</td>\n",
       "    </tr>\n",
       "    <tr>\n",
       "      <th>69163</th>\n",
       "      <td>AGS9W</td>\n",
       "      <td>-0.933795</td>\n",
       "      <td>0.116194</td>\n",
       "      <td>-3.655896</td>\n",
       "      <td>19.230453</td>\n",
       "    </tr>\n",
       "    <tr>\n",
       "      <th>42529</th>\n",
       "      <td>AGS9W</td>\n",
       "      <td>1.454747</td>\n",
       "      <td>-0.479651</td>\n",
       "      <td>0.683380</td>\n",
       "      <td>126.370504</td>\n",
       "    </tr>\n",
       "    <tr>\n",
       "      <th>931</th>\n",
       "      <td>HZww2</td>\n",
       "      <td>0.755284</td>\n",
       "      <td>0.368511</td>\n",
       "      <td>1.863211</td>\n",
       "      <td>30.681774</td>\n",
       "    </tr>\n",
       "    <tr>\n",
       "      <th>7530</th>\n",
       "      <td>HZww2</td>\n",
       "      <td>1.061194</td>\n",
       "      <td>-0.373969</td>\n",
       "      <td>10.430210</td>\n",
       "      <td>158.828695</td>\n",
       "    </tr>\n",
       "    <tr>\n",
       "      <th>63593</th>\n",
       "      <td>QcMuo</td>\n",
       "      <td>0.635635</td>\n",
       "      <td>-0.473422</td>\n",
       "      <td>0.862670</td>\n",
       "      <td>64.578675</td>\n",
       "    </tr>\n",
       "    <tr>\n",
       "      <th>1949</th>\n",
       "      <td>QcMuo</td>\n",
       "      <td>0.506563</td>\n",
       "      <td>-0.323775</td>\n",
       "      <td>-2.215583</td>\n",
       "      <td>75.496502</td>\n",
       "    </tr>\n",
       "    <tr>\n",
       "      <th>75715</th>\n",
       "      <td>Tdehs</td>\n",
       "      <td>0.112079</td>\n",
       "      <td>0.430296</td>\n",
       "      <td>3.218993</td>\n",
       "      <td>60.964018</td>\n",
       "    </tr>\n",
       "    <tr>\n",
       "      <th>21426</th>\n",
       "      <td>Tdehs</td>\n",
       "      <td>0.829407</td>\n",
       "      <td>0.298807</td>\n",
       "      <td>-0.049563</td>\n",
       "      <td>96.035308</td>\n",
       "    </tr>\n",
       "    <tr>\n",
       "      <th>92341</th>\n",
       "      <td>TtcGQ</td>\n",
       "      <td>0.110711</td>\n",
       "      <td>1.022689</td>\n",
       "      <td>0.911381</td>\n",
       "      <td>101.318008</td>\n",
       "    </tr>\n",
       "    <tr>\n",
       "      <th>60140</th>\n",
       "      <td>TtcGQ</td>\n",
       "      <td>0.569276</td>\n",
       "      <td>-0.104876</td>\n",
       "      <td>6.440215</td>\n",
       "      <td>85.350186</td>\n",
       "    </tr>\n",
       "    <tr>\n",
       "      <th>89582</th>\n",
       "      <td>bsk9y</td>\n",
       "      <td>0.398908</td>\n",
       "      <td>-0.400253</td>\n",
       "      <td>10.122376</td>\n",
       "      <td>163.433078</td>\n",
       "    </tr>\n",
       "    <tr>\n",
       "      <th>97785</th>\n",
       "      <td>bsk9y</td>\n",
       "      <td>0.378429</td>\n",
       "      <td>0.005837</td>\n",
       "      <td>0.160827</td>\n",
       "      <td>160.637302</td>\n",
       "    </tr>\n",
       "    <tr>\n",
       "      <th>41724</th>\n",
       "      <td>bxg6G</td>\n",
       "      <td>-0.823752</td>\n",
       "      <td>0.546319</td>\n",
       "      <td>3.630479</td>\n",
       "      <td>93.007798</td>\n",
       "    </tr>\n",
       "    <tr>\n",
       "      <th>1364</th>\n",
       "      <td>bxg6G</td>\n",
       "      <td>0.411645</td>\n",
       "      <td>0.856830</td>\n",
       "      <td>-3.653440</td>\n",
       "      <td>73.604260</td>\n",
       "    </tr>\n",
       "    <tr>\n",
       "      <th>16633</th>\n",
       "      <td>fiKDv</td>\n",
       "      <td>0.157341</td>\n",
       "      <td>1.028359</td>\n",
       "      <td>5.585586</td>\n",
       "      <td>95.817889</td>\n",
       "    </tr>\n",
       "    <tr>\n",
       "      <th>90815</th>\n",
       "      <td>fiKDv</td>\n",
       "      <td>0.049883</td>\n",
       "      <td>0.841313</td>\n",
       "      <td>6.394613</td>\n",
       "      <td>137.346586</td>\n",
       "    </tr>\n",
       "  </tbody>\n",
       "</table>\n",
       "</div>"
      ],
      "text/plain": [
       "          id        f0        f1         f2     product\n",
       "66136  74z30  1.084962 -0.312358   6.990771  127.643327\n",
       "64022  74z30  0.741456  0.459229   5.153109  140.771492\n",
       "51970  A5aEY -0.180335  0.935548  -2.094773   33.020205\n",
       "3389   A5aEY -0.039949  0.156872   0.209861   89.249364\n",
       "69163  AGS9W -0.933795  0.116194  -3.655896   19.230453\n",
       "42529  AGS9W  1.454747 -0.479651   0.683380  126.370504\n",
       "931    HZww2  0.755284  0.368511   1.863211   30.681774\n",
       "7530   HZww2  1.061194 -0.373969  10.430210  158.828695\n",
       "63593  QcMuo  0.635635 -0.473422   0.862670   64.578675\n",
       "1949   QcMuo  0.506563 -0.323775  -2.215583   75.496502\n",
       "75715  Tdehs  0.112079  0.430296   3.218993   60.964018\n",
       "21426  Tdehs  0.829407  0.298807  -0.049563   96.035308\n",
       "92341  TtcGQ  0.110711  1.022689   0.911381  101.318008\n",
       "60140  TtcGQ  0.569276 -0.104876   6.440215   85.350186\n",
       "89582  bsk9y  0.398908 -0.400253  10.122376  163.433078\n",
       "97785  bsk9y  0.378429  0.005837   0.160827  160.637302\n",
       "41724  bxg6G -0.823752  0.546319   3.630479   93.007798\n",
       "1364   bxg6G  0.411645  0.856830  -3.653440   73.604260\n",
       "16633  fiKDv  0.157341  1.028359   5.585586   95.817889\n",
       "90815  fiKDv  0.049883  0.841313   6.394613  137.346586"
      ]
     },
     "metadata": {},
     "output_type": "display_data"
    },
    {
     "data": {
      "text/html": [
       "<div>\n",
       "<style scoped>\n",
       "    .dataframe tbody tr th:only-of-type {\n",
       "        vertical-align: middle;\n",
       "    }\n",
       "\n",
       "    .dataframe tbody tr th {\n",
       "        vertical-align: top;\n",
       "    }\n",
       "\n",
       "    .dataframe thead th {\n",
       "        text-align: right;\n",
       "    }\n",
       "</style>\n",
       "<table border=\"1\" class=\"dataframe\">\n",
       "  <thead>\n",
       "    <tr style=\"text-align: right;\">\n",
       "      <th></th>\n",
       "      <th>id</th>\n",
       "      <th>f0</th>\n",
       "      <th>f1</th>\n",
       "      <th>f2</th>\n",
       "      <th>product</th>\n",
       "    </tr>\n",
       "  </thead>\n",
       "  <tbody>\n",
       "    <tr>\n",
       "      <th>5849</th>\n",
       "      <td>5ltQ6</td>\n",
       "      <td>-3.435401</td>\n",
       "      <td>-12.296043</td>\n",
       "      <td>1.999796</td>\n",
       "      <td>57.085625</td>\n",
       "    </tr>\n",
       "    <tr>\n",
       "      <th>84461</th>\n",
       "      <td>5ltQ6</td>\n",
       "      <td>18.213839</td>\n",
       "      <td>2.191999</td>\n",
       "      <td>3.993869</td>\n",
       "      <td>107.813044</td>\n",
       "    </tr>\n",
       "    <tr>\n",
       "      <th>1305</th>\n",
       "      <td>LHZR0</td>\n",
       "      <td>11.170835</td>\n",
       "      <td>-1.945066</td>\n",
       "      <td>3.002872</td>\n",
       "      <td>80.859783</td>\n",
       "    </tr>\n",
       "    <tr>\n",
       "      <th>41906</th>\n",
       "      <td>LHZR0</td>\n",
       "      <td>-8.989672</td>\n",
       "      <td>-4.286607</td>\n",
       "      <td>2.009139</td>\n",
       "      <td>57.085625</td>\n",
       "    </tr>\n",
       "    <tr>\n",
       "      <th>2721</th>\n",
       "      <td>bfPNe</td>\n",
       "      <td>-9.494442</td>\n",
       "      <td>-5.463692</td>\n",
       "      <td>4.006042</td>\n",
       "      <td>110.992147</td>\n",
       "    </tr>\n",
       "    <tr>\n",
       "      <th>82178</th>\n",
       "      <td>bfPNe</td>\n",
       "      <td>-6.202799</td>\n",
       "      <td>-4.820045</td>\n",
       "      <td>2.995107</td>\n",
       "      <td>84.038886</td>\n",
       "    </tr>\n",
       "    <tr>\n",
       "      <th>47591</th>\n",
       "      <td>wt4Uk</td>\n",
       "      <td>-9.091098</td>\n",
       "      <td>-8.109279</td>\n",
       "      <td>-0.002314</td>\n",
       "      <td>3.179103</td>\n",
       "    </tr>\n",
       "    <tr>\n",
       "      <th>82873</th>\n",
       "      <td>wt4Uk</td>\n",
       "      <td>10.259972</td>\n",
       "      <td>-9.376355</td>\n",
       "      <td>4.994297</td>\n",
       "      <td>134.766305</td>\n",
       "    </tr>\n",
       "  </tbody>\n",
       "</table>\n",
       "</div>"
      ],
      "text/plain": [
       "          id         f0         f1        f2     product\n",
       "5849   5ltQ6  -3.435401 -12.296043  1.999796   57.085625\n",
       "84461  5ltQ6  18.213839   2.191999  3.993869  107.813044\n",
       "1305   LHZR0  11.170835  -1.945066  3.002872   80.859783\n",
       "41906  LHZR0  -8.989672  -4.286607  2.009139   57.085625\n",
       "2721   bfPNe  -9.494442  -5.463692  4.006042  110.992147\n",
       "82178  bfPNe  -6.202799  -4.820045  2.995107   84.038886\n",
       "47591  wt4Uk  -9.091098  -8.109279 -0.002314    3.179103\n",
       "82873  wt4Uk  10.259972  -9.376355  4.994297  134.766305"
      ]
     },
     "metadata": {},
     "output_type": "display_data"
    },
    {
     "data": {
      "text/html": [
       "<div>\n",
       "<style scoped>\n",
       "    .dataframe tbody tr th:only-of-type {\n",
       "        vertical-align: middle;\n",
       "    }\n",
       "\n",
       "    .dataframe tbody tr th {\n",
       "        vertical-align: top;\n",
       "    }\n",
       "\n",
       "    .dataframe thead th {\n",
       "        text-align: right;\n",
       "    }\n",
       "</style>\n",
       "<table border=\"1\" class=\"dataframe\">\n",
       "  <thead>\n",
       "    <tr style=\"text-align: right;\">\n",
       "      <th></th>\n",
       "      <th>id</th>\n",
       "      <th>f0</th>\n",
       "      <th>f1</th>\n",
       "      <th>f2</th>\n",
       "      <th>product</th>\n",
       "    </tr>\n",
       "  </thead>\n",
       "  <tbody>\n",
       "    <tr>\n",
       "      <th>45404</th>\n",
       "      <td>KUPhW</td>\n",
       "      <td>0.231846</td>\n",
       "      <td>-1.698941</td>\n",
       "      <td>4.990775</td>\n",
       "      <td>11.716299</td>\n",
       "    </tr>\n",
       "    <tr>\n",
       "      <th>55967</th>\n",
       "      <td>KUPhW</td>\n",
       "      <td>1.211150</td>\n",
       "      <td>3.176408</td>\n",
       "      <td>5.543540</td>\n",
       "      <td>132.831802</td>\n",
       "    </tr>\n",
       "    <tr>\n",
       "      <th>11449</th>\n",
       "      <td>VF7Jo</td>\n",
       "      <td>2.122656</td>\n",
       "      <td>-0.858275</td>\n",
       "      <td>5.746001</td>\n",
       "      <td>181.716817</td>\n",
       "    </tr>\n",
       "    <tr>\n",
       "      <th>49564</th>\n",
       "      <td>VF7Jo</td>\n",
       "      <td>-0.883115</td>\n",
       "      <td>0.560537</td>\n",
       "      <td>0.723601</td>\n",
       "      <td>136.233420</td>\n",
       "    </tr>\n",
       "    <tr>\n",
       "      <th>44378</th>\n",
       "      <td>Vcm5J</td>\n",
       "      <td>-1.229484</td>\n",
       "      <td>-2.439204</td>\n",
       "      <td>1.222909</td>\n",
       "      <td>137.968290</td>\n",
       "    </tr>\n",
       "    <tr>\n",
       "      <th>95090</th>\n",
       "      <td>Vcm5J</td>\n",
       "      <td>2.587702</td>\n",
       "      <td>1.986875</td>\n",
       "      <td>2.482245</td>\n",
       "      <td>92.327572</td>\n",
       "    </tr>\n",
       "    <tr>\n",
       "      <th>28039</th>\n",
       "      <td>xCHr8</td>\n",
       "      <td>1.633027</td>\n",
       "      <td>0.368135</td>\n",
       "      <td>-2.378367</td>\n",
       "      <td>6.120525</td>\n",
       "    </tr>\n",
       "    <tr>\n",
       "      <th>43233</th>\n",
       "      <td>xCHr8</td>\n",
       "      <td>-0.847066</td>\n",
       "      <td>2.101796</td>\n",
       "      <td>5.597130</td>\n",
       "      <td>184.388641</td>\n",
       "    </tr>\n",
       "  </tbody>\n",
       "</table>\n",
       "</div>"
      ],
      "text/plain": [
       "          id        f0        f1        f2     product\n",
       "45404  KUPhW  0.231846 -1.698941  4.990775   11.716299\n",
       "55967  KUPhW  1.211150  3.176408  5.543540  132.831802\n",
       "11449  VF7Jo  2.122656 -0.858275  5.746001  181.716817\n",
       "49564  VF7Jo -0.883115  0.560537  0.723601  136.233420\n",
       "44378  Vcm5J -1.229484 -2.439204  1.222909  137.968290\n",
       "95090  Vcm5J  2.587702  1.986875  2.482245   92.327572\n",
       "28039  xCHr8  1.633027  0.368135 -2.378367    6.120525\n",
       "43233  xCHr8 -0.847066  2.101796  5.597130  184.388641"
      ]
     },
     "metadata": {},
     "output_type": "display_data"
    }
   ],
   "source": [
    "#выведем id номера\n",
    "for n in df1, df2, df3: \n",
    "    display(n[n['id'].isin(n['id'][n['id'].duplicated()])].sort_values('id'))"
   ]
  },
  {
   "cell_type": "markdown",
   "metadata": {},
   "source": [
    "Выявлены уникальные идентификаторы скважины по каждому региону, но т.к. f0, f1, f2 — важные признаки и они не задваиваются, оставим данные строки.\n",
    "\n",
    "Рассмотрим распределение данных:\n",
    "\n",
    "**Регион 1**"
   ]
  },
  {
   "cell_type": "code",
   "execution_count": 10,
   "metadata": {},
   "outputs": [
    {
     "data": {
      "text/html": [
       "<div>\n",
       "<style scoped>\n",
       "    .dataframe tbody tr th:only-of-type {\n",
       "        vertical-align: middle;\n",
       "    }\n",
       "\n",
       "    .dataframe tbody tr th {\n",
       "        vertical-align: top;\n",
       "    }\n",
       "\n",
       "    .dataframe thead th {\n",
       "        text-align: right;\n",
       "    }\n",
       "</style>\n",
       "<table border=\"1\" class=\"dataframe\">\n",
       "  <thead>\n",
       "    <tr style=\"text-align: right;\">\n",
       "      <th></th>\n",
       "      <th>f0</th>\n",
       "      <th>f1</th>\n",
       "      <th>f2</th>\n",
       "      <th>product</th>\n",
       "    </tr>\n",
       "  </thead>\n",
       "  <tbody>\n",
       "    <tr>\n",
       "      <th>count</th>\n",
       "      <td>100000.000000</td>\n",
       "      <td>100000.000000</td>\n",
       "      <td>100000.000000</td>\n",
       "      <td>100000.000000</td>\n",
       "    </tr>\n",
       "    <tr>\n",
       "      <th>mean</th>\n",
       "      <td>0.500419</td>\n",
       "      <td>0.250143</td>\n",
       "      <td>2.502647</td>\n",
       "      <td>92.500000</td>\n",
       "    </tr>\n",
       "    <tr>\n",
       "      <th>std</th>\n",
       "      <td>0.871832</td>\n",
       "      <td>0.504433</td>\n",
       "      <td>3.248248</td>\n",
       "      <td>44.288691</td>\n",
       "    </tr>\n",
       "    <tr>\n",
       "      <th>min</th>\n",
       "      <td>-1.408605</td>\n",
       "      <td>-0.848218</td>\n",
       "      <td>-12.088328</td>\n",
       "      <td>0.000000</td>\n",
       "    </tr>\n",
       "    <tr>\n",
       "      <th>25%</th>\n",
       "      <td>-0.072580</td>\n",
       "      <td>-0.200881</td>\n",
       "      <td>0.287748</td>\n",
       "      <td>56.497507</td>\n",
       "    </tr>\n",
       "    <tr>\n",
       "      <th>50%</th>\n",
       "      <td>0.502360</td>\n",
       "      <td>0.250252</td>\n",
       "      <td>2.515969</td>\n",
       "      <td>91.849972</td>\n",
       "    </tr>\n",
       "    <tr>\n",
       "      <th>75%</th>\n",
       "      <td>1.073581</td>\n",
       "      <td>0.700646</td>\n",
       "      <td>4.715088</td>\n",
       "      <td>128.564089</td>\n",
       "    </tr>\n",
       "    <tr>\n",
       "      <th>max</th>\n",
       "      <td>2.362331</td>\n",
       "      <td>1.343769</td>\n",
       "      <td>16.003790</td>\n",
       "      <td>185.364347</td>\n",
       "    </tr>\n",
       "  </tbody>\n",
       "</table>\n",
       "</div>"
      ],
      "text/plain": [
       "                  f0             f1             f2        product\n",
       "count  100000.000000  100000.000000  100000.000000  100000.000000\n",
       "mean        0.500419       0.250143       2.502647      92.500000\n",
       "std         0.871832       0.504433       3.248248      44.288691\n",
       "min        -1.408605      -0.848218     -12.088328       0.000000\n",
       "25%        -0.072580      -0.200881       0.287748      56.497507\n",
       "50%         0.502360       0.250252       2.515969      91.849972\n",
       "75%         1.073581       0.700646       4.715088     128.564089\n",
       "max         2.362331       1.343769      16.003790     185.364347"
      ]
     },
     "execution_count": 10,
     "metadata": {},
     "output_type": "execute_result"
    }
   ],
   "source": [
    "df1.describe()"
   ]
  },
  {
   "cell_type": "code",
   "execution_count": 11,
   "metadata": {},
   "outputs": [
    {
     "data": {
      "image/png": "[encoded data removed]",
      "text/plain": [
       "<Figure size 640x480 with 1 Axes>"
      ]
     },
     "metadata": {},
     "output_type": "display_data"
    }
   ],
   "source": [
    "plt.hist(df1.f0)\n",
    "plt.xlabel('F0');\n",
    "plt.ylabel('Количество');\n",
    "plt.title('F0 (регион 1)');"
   ]
  },
  {
   "cell_type": "code",
   "execution_count": 12,
   "metadata": {},
   "outputs": [
    {
     "data": {
      "image/png": "[encoded data removed]",
      "text/plain": [
       "<Figure size 640x480 with 1 Axes>"
      ]
     },
     "metadata": {},
     "output_type": "display_data"
    }
   ],
   "source": [
    "plt.hist(df1.f1)\n",
    "plt.xlabel('F1');\n",
    "plt.ylabel('Количество');\n",
    "plt.title('F1 (регион 1)');"
   ]
  },
  {
   "cell_type": "code",
   "execution_count": 13,
   "metadata": {},
   "outputs": [
    {
     "data": {
      "image/png": "[encoded data removed]",
      "text/plain": [
       "<Figure size 640x480 with 1 Axes>"
      ]
     },
     "metadata": {},
     "output_type": "display_data"
    }
   ],
   "source": [
    "plt.hist(df1.f2)\n",
    "plt.xlabel('F2');\n",
    "plt.ylabel('Количество');\n",
    "plt.title('F2 (регион 1)');"
   ]
  },
  {
   "cell_type": "markdown",
   "metadata": {},
   "source": [
    "Данные по региону 1 имеют форму близкую к нормальному распределению. Среднее и медиана близки по значениям."
   ]
  },
  {
   "cell_type": "markdown",
   "metadata": {},
   "source": [
    "**Регион 2:**"
   ]
  },
  {
   "cell_type": "code",
   "execution_count": 14,
   "metadata": {},
   "outputs": [
    {
     "data": {
      "text/html": [
       "<div>\n",
       "<style scoped>\n",
       "    .dataframe tbody tr th:only-of-type {\n",
       "        vertical-align: middle;\n",
       "    }\n",
       "\n",
       "    .dataframe tbody tr th {\n",
       "        vertical-align: top;\n",
       "    }\n",
       "\n",
       "    .dataframe thead th {\n",
       "        text-align: right;\n",
       "    }\n",
       "</style>\n",
       "<table border=\"1\" class=\"dataframe\">\n",
       "  <thead>\n",
       "    <tr style=\"text-align: right;\">\n",
       "      <th></th>\n",
       "      <th>f0</th>\n",
       "      <th>f1</th>\n",
       "      <th>f2</th>\n",
       "      <th>product</th>\n",
       "    </tr>\n",
       "  </thead>\n",
       "  <tbody>\n",
       "    <tr>\n",
       "      <th>count</th>\n",
       "      <td>100000.000000</td>\n",
       "      <td>100000.000000</td>\n",
       "      <td>100000.000000</td>\n",
       "      <td>100000.000000</td>\n",
       "    </tr>\n",
       "    <tr>\n",
       "      <th>mean</th>\n",
       "      <td>1.141296</td>\n",
       "      <td>-4.796579</td>\n",
       "      <td>2.494541</td>\n",
       "      <td>68.825000</td>\n",
       "    </tr>\n",
       "    <tr>\n",
       "      <th>std</th>\n",
       "      <td>8.965932</td>\n",
       "      <td>5.119872</td>\n",
       "      <td>1.703572</td>\n",
       "      <td>45.944423</td>\n",
       "    </tr>\n",
       "    <tr>\n",
       "      <th>min</th>\n",
       "      <td>-31.609576</td>\n",
       "      <td>-26.358598</td>\n",
       "      <td>-0.018144</td>\n",
       "      <td>0.000000</td>\n",
       "    </tr>\n",
       "    <tr>\n",
       "      <th>25%</th>\n",
       "      <td>-6.298551</td>\n",
       "      <td>-8.267985</td>\n",
       "      <td>1.000021</td>\n",
       "      <td>26.953261</td>\n",
       "    </tr>\n",
       "    <tr>\n",
       "      <th>50%</th>\n",
       "      <td>1.153055</td>\n",
       "      <td>-4.813172</td>\n",
       "      <td>2.011479</td>\n",
       "      <td>57.085625</td>\n",
       "    </tr>\n",
       "    <tr>\n",
       "      <th>75%</th>\n",
       "      <td>8.621015</td>\n",
       "      <td>-1.332816</td>\n",
       "      <td>3.999904</td>\n",
       "      <td>107.813044</td>\n",
       "    </tr>\n",
       "    <tr>\n",
       "      <th>max</th>\n",
       "      <td>29.421755</td>\n",
       "      <td>18.734063</td>\n",
       "      <td>5.019721</td>\n",
       "      <td>137.945408</td>\n",
       "    </tr>\n",
       "  </tbody>\n",
       "</table>\n",
       "</div>"
      ],
      "text/plain": [
       "                  f0             f1             f2        product\n",
       "count  100000.000000  100000.000000  100000.000000  100000.000000\n",
       "mean        1.141296      -4.796579       2.494541      68.825000\n",
       "std         8.965932       5.119872       1.703572      45.944423\n",
       "min       -31.609576     -26.358598      -0.018144       0.000000\n",
       "25%        -6.298551      -8.267985       1.000021      26.953261\n",
       "50%         1.153055      -4.813172       2.011479      57.085625\n",
       "75%         8.621015      -1.332816       3.999904     107.813044\n",
       "max        29.421755      18.734063       5.019721     137.945408"
      ]
     },
     "execution_count": 14,
     "metadata": {},
     "output_type": "execute_result"
    }
   ],
   "source": [
    "df2.describe()"
   ]
  },
  {
   "cell_type": "code",
   "execution_count": 15,
   "metadata": {},
   "outputs": [
    {
     "data": {
      "image/png": "[encoded data removed]",
      "text/plain": [
       "<Figure size 640x480 with 1 Axes>"
      ]
     },
     "metadata": {},
     "output_type": "display_data"
    }
   ],
   "source": [
    "plt.hist(df2.f0)\n",
    "plt.xlabel('F0');\n",
    "plt.ylabel('Количество');\n",
    "plt.title('F0 (регион 2)');"
   ]
  },
  {
   "cell_type": "code",
   "execution_count": 16,
   "metadata": {},
   "outputs": [
    {
     "data": {
      "image/png": "[encoded data removed]",
      "text/plain": [
       "<Figure size 640x480 with 1 Axes>"
      ]
     },
     "metadata": {},
     "output_type": "display_data"
    }
   ],
   "source": [
    "plt.hist(df2.f1)\n",
    "plt.xlabel('F1');\n",
    "plt.ylabel('Количество');\n",
    "plt.title('F1 (регион 2)');"
   ]
  },
  {
   "cell_type": "code",
   "execution_count": 17,
   "metadata": {},
   "outputs": [
    {
     "data": {
      "image/png": "[encoded data removed]",
      "text/plain": [
       "<Figure size 640x480 with 1 Axes>"
      ]
     },
     "metadata": {},
     "output_type": "display_data"
    }
   ],
   "source": [
    "plt.hist(df2.f2)\n",
    "plt.xlabel('F2');\n",
    "plt.ylabel('Количество');\n",
    "plt.title('F2 (регион 2)');"
   ]
  },
  {
   "cell_type": "markdown",
   "metadata": {},
   "source": [
    "Данные F0, F1 по региону 2 имеют форму близкую к нормальному распределению.\n",
    "\n",
    "Данные F2 по региону 2 распределены не нормально."
   ]
  },
  {
   "cell_type": "markdown",
   "metadata": {},
   "source": [
    "**Регион 3:**"
   ]
  },
  {
   "cell_type": "code",
   "execution_count": 18,
   "metadata": {},
   "outputs": [
    {
     "data": {
      "text/html": [
       "<div>\n",
       "<style scoped>\n",
       "    .dataframe tbody tr th:only-of-type {\n",
       "        vertical-align: middle;\n",
       "    }\n",
       "\n",
       "    .dataframe tbody tr th {\n",
       "        vertical-align: top;\n",
       "    }\n",
       "\n",
       "    .dataframe thead th {\n",
       "        text-align: right;\n",
       "    }\n",
       "</style>\n",
       "<table border=\"1\" class=\"dataframe\">\n",
       "  <thead>\n",
       "    <tr style=\"text-align: right;\">\n",
       "      <th></th>\n",
       "      <th>f0</th>\n",
       "      <th>f1</th>\n",
       "      <th>f2</th>\n",
       "      <th>product</th>\n",
       "    </tr>\n",
       "  </thead>\n",
       "  <tbody>\n",
       "    <tr>\n",
       "      <th>count</th>\n",
       "      <td>100000.000000</td>\n",
       "      <td>100000.000000</td>\n",
       "      <td>100000.000000</td>\n",
       "      <td>100000.000000</td>\n",
       "    </tr>\n",
       "    <tr>\n",
       "      <th>mean</th>\n",
       "      <td>0.002023</td>\n",
       "      <td>-0.002081</td>\n",
       "      <td>2.495128</td>\n",
       "      <td>95.000000</td>\n",
       "    </tr>\n",
       "    <tr>\n",
       "      <th>std</th>\n",
       "      <td>1.732045</td>\n",
       "      <td>1.730417</td>\n",
       "      <td>3.473445</td>\n",
       "      <td>44.749921</td>\n",
       "    </tr>\n",
       "    <tr>\n",
       "      <th>min</th>\n",
       "      <td>-8.760004</td>\n",
       "      <td>-7.084020</td>\n",
       "      <td>-11.970335</td>\n",
       "      <td>0.000000</td>\n",
       "    </tr>\n",
       "    <tr>\n",
       "      <th>25%</th>\n",
       "      <td>-1.162288</td>\n",
       "      <td>-1.174820</td>\n",
       "      <td>0.130359</td>\n",
       "      <td>59.450441</td>\n",
       "    </tr>\n",
       "    <tr>\n",
       "      <th>50%</th>\n",
       "      <td>0.009424</td>\n",
       "      <td>-0.009482</td>\n",
       "      <td>2.484236</td>\n",
       "      <td>94.925613</td>\n",
       "    </tr>\n",
       "    <tr>\n",
       "      <th>75%</th>\n",
       "      <td>1.158535</td>\n",
       "      <td>1.163678</td>\n",
       "      <td>4.858794</td>\n",
       "      <td>130.595027</td>\n",
       "    </tr>\n",
       "    <tr>\n",
       "      <th>max</th>\n",
       "      <td>7.238262</td>\n",
       "      <td>7.844801</td>\n",
       "      <td>16.739402</td>\n",
       "      <td>190.029838</td>\n",
       "    </tr>\n",
       "  </tbody>\n",
       "</table>\n",
       "</div>"
      ],
      "text/plain": [
       "                  f0             f1             f2        product\n",
       "count  100000.000000  100000.000000  100000.000000  100000.000000\n",
       "mean        0.002023      -0.002081       2.495128      95.000000\n",
       "std         1.732045       1.730417       3.473445      44.749921\n",
       "min        -8.760004      -7.084020     -11.970335       0.000000\n",
       "25%        -1.162288      -1.174820       0.130359      59.450441\n",
       "50%         0.009424      -0.009482       2.484236      94.925613\n",
       "75%         1.158535       1.163678       4.858794     130.595027\n",
       "max         7.238262       7.844801      16.739402     190.029838"
      ]
     },
     "execution_count": 18,
     "metadata": {},
     "output_type": "execute_result"
    }
   ],
   "source": [
    "df3.describe()"
   ]
  },
  {
   "cell_type": "code",
   "execution_count": 19,
   "metadata": {},
   "outputs": [
    {
     "data": {
      "image/png": "[encoded data removed]",
      "text/plain": [
       "<Figure size 640x480 with 1 Axes>"
      ]
     },
     "metadata": {},
     "output_type": "display_data"
    }
   ],
   "source": [
    "plt.hist(df3.f0)\n",
    "plt.xlabel('F0');\n",
    "plt.ylabel('Количество');\n",
    "plt.title('F0 (регион 3)');"
   ]
  },
  {
   "cell_type": "code",
   "execution_count": 20,
   "metadata": {},
   "outputs": [
    {
     "data": {
      "image/png": "[encoded data removed]",
      "text/plain": [
       "<Figure size 640x480 with 1 Axes>"
      ]
     },
     "metadata": {},
     "output_type": "display_data"
    }
   ],
   "source": [
    "plt.hist(df3.f1)\n",
    "plt.xlabel('F1');\n",
    "plt.ylabel('Количество');\n",
    "plt.title('F1 (регион 3)');"
   ]
  },
  {
   "cell_type": "code",
   "execution_count": 21,
   "metadata": {},
   "outputs": [
    {
     "data": {
      "image/png": "[encoded data removed]",
      "text/plain": [
       "<Figure size 640x480 with 1 Axes>"
      ]
     },
     "metadata": {},
     "output_type": "display_data"
    }
   ],
   "source": [
    "plt.hist(df3.f2)\n",
    "plt.xlabel('F2');\n",
    "plt.ylabel('Количество');\n",
    "plt.title('F2 (регион 3)');"
   ]
  },
  {
   "cell_type": "markdown",
   "metadata": {},
   "source": [
    "Данные по региону 3 имеют форму близкую к нормальному распределению.\n",
    "\n",
    "**Рассмотрим зависимость объёма запасов в скважине от параметров f0, f1, f2**\n",
    "\n",
    "**Регион 1**"
   ]
  },
  {
   "cell_type": "code",
   "execution_count": 22,
   "metadata": {},
   "outputs": [
    {
     "data": {
      "text/html": [
       "<div>\n",
       "<style scoped>\n",
       "    .dataframe tbody tr th:only-of-type {\n",
       "        vertical-align: middle;\n",
       "    }\n",
       "\n",
       "    .dataframe tbody tr th {\n",
       "        vertical-align: top;\n",
       "    }\n",
       "\n",
       "    .dataframe thead th {\n",
       "        text-align: right;\n",
       "    }\n",
       "</style>\n",
       "<table border=\"1\" class=\"dataframe\">\n",
       "  <thead>\n",
       "    <tr style=\"text-align: right;\">\n",
       "      <th></th>\n",
       "      <th>f0</th>\n",
       "      <th>f1</th>\n",
       "      <th>f2</th>\n",
       "      <th>product</th>\n",
       "    </tr>\n",
       "  </thead>\n",
       "  <tbody>\n",
       "    <tr>\n",
       "      <th>f0</th>\n",
       "      <td>1.000000</td>\n",
       "      <td>-0.440723</td>\n",
       "      <td>-0.003153</td>\n",
       "      <td>0.143536</td>\n",
       "    </tr>\n",
       "    <tr>\n",
       "      <th>f1</th>\n",
       "      <td>-0.440723</td>\n",
       "      <td>1.000000</td>\n",
       "      <td>0.001724</td>\n",
       "      <td>-0.192356</td>\n",
       "    </tr>\n",
       "    <tr>\n",
       "      <th>f2</th>\n",
       "      <td>-0.003153</td>\n",
       "      <td>0.001724</td>\n",
       "      <td>1.000000</td>\n",
       "      <td>0.483663</td>\n",
       "    </tr>\n",
       "    <tr>\n",
       "      <th>product</th>\n",
       "      <td>0.143536</td>\n",
       "      <td>-0.192356</td>\n",
       "      <td>0.483663</td>\n",
       "      <td>1.000000</td>\n",
       "    </tr>\n",
       "  </tbody>\n",
       "</table>\n",
       "</div>"
      ],
      "text/plain": [
       "               f0        f1        f2   product\n",
       "f0       1.000000 -0.440723 -0.003153  0.143536\n",
       "f1      -0.440723  1.000000  0.001724 -0.192356\n",
       "f2      -0.003153  0.001724  1.000000  0.483663\n",
       "product  0.143536 -0.192356  0.483663  1.000000"
      ]
     },
     "execution_count": 22,
     "metadata": {},
     "output_type": "execute_result"
    }
   ],
   "source": [
    "df1.corr()"
   ]
  },
  {
   "cell_type": "markdown",
   "metadata": {},
   "source": [
    "**Регион 2**"
   ]
  },
  {
   "cell_type": "code",
   "execution_count": 23,
   "metadata": {},
   "outputs": [
    {
     "data": {
      "text/html": [
       "<div>\n",
       "<style scoped>\n",
       "    .dataframe tbody tr th:only-of-type {\n",
       "        vertical-align: middle;\n",
       "    }\n",
       "\n",
       "    .dataframe tbody tr th {\n",
       "        vertical-align: top;\n",
       "    }\n",
       "\n",
       "    .dataframe thead th {\n",
       "        text-align: right;\n",
       "    }\n",
       "</style>\n",
       "<table border=\"1\" class=\"dataframe\">\n",
       "  <thead>\n",
       "    <tr style=\"text-align: right;\">\n",
       "      <th></th>\n",
       "      <th>f0</th>\n",
       "      <th>f1</th>\n",
       "      <th>f2</th>\n",
       "      <th>product</th>\n",
       "    </tr>\n",
       "  </thead>\n",
       "  <tbody>\n",
       "    <tr>\n",
       "      <th>f0</th>\n",
       "      <td>1.000000</td>\n",
       "      <td>0.182287</td>\n",
       "      <td>-0.001777</td>\n",
       "      <td>-0.030491</td>\n",
       "    </tr>\n",
       "    <tr>\n",
       "      <th>f1</th>\n",
       "      <td>0.182287</td>\n",
       "      <td>1.000000</td>\n",
       "      <td>-0.002595</td>\n",
       "      <td>-0.010155</td>\n",
       "    </tr>\n",
       "    <tr>\n",
       "      <th>f2</th>\n",
       "      <td>-0.001777</td>\n",
       "      <td>-0.002595</td>\n",
       "      <td>1.000000</td>\n",
       "      <td>0.999397</td>\n",
       "    </tr>\n",
       "    <tr>\n",
       "      <th>product</th>\n",
       "      <td>-0.030491</td>\n",
       "      <td>-0.010155</td>\n",
       "      <td>0.999397</td>\n",
       "      <td>1.000000</td>\n",
       "    </tr>\n",
       "  </tbody>\n",
       "</table>\n",
       "</div>"
      ],
      "text/plain": [
       "               f0        f1        f2   product\n",
       "f0       1.000000  0.182287 -0.001777 -0.030491\n",
       "f1       0.182287  1.000000 -0.002595 -0.010155\n",
       "f2      -0.001777 -0.002595  1.000000  0.999397\n",
       "product -0.030491 -0.010155  0.999397  1.000000"
      ]
     },
     "execution_count": 23,
     "metadata": {},
     "output_type": "execute_result"
    }
   ],
   "source": [
    "df2.corr()"
   ]
  },
  {
   "cell_type": "markdown",
   "metadata": {},
   "source": [
    "**Регион 3**"
   ]
  },
  {
   "cell_type": "code",
   "execution_count": 24,
   "metadata": {},
   "outputs": [
    {
     "data": {
      "text/html": [
       "<div>\n",
       "<style scoped>\n",
       "    .dataframe tbody tr th:only-of-type {\n",
       "        vertical-align: middle;\n",
       "    }\n",
       "\n",
       "    .dataframe tbody tr th {\n",
       "        vertical-align: top;\n",
       "    }\n",
       "\n",
       "    .dataframe thead th {\n",
       "        text-align: right;\n",
       "    }\n",
       "</style>\n",
       "<table border=\"1\" class=\"dataframe\">\n",
       "  <thead>\n",
       "    <tr style=\"text-align: right;\">\n",
       "      <th></th>\n",
       "      <th>f0</th>\n",
       "      <th>f1</th>\n",
       "      <th>f2</th>\n",
       "      <th>product</th>\n",
       "    </tr>\n",
       "  </thead>\n",
       "  <tbody>\n",
       "    <tr>\n",
       "      <th>f0</th>\n",
       "      <td>1.000000</td>\n",
       "      <td>0.000528</td>\n",
       "      <td>-0.000448</td>\n",
       "      <td>-0.001987</td>\n",
       "    </tr>\n",
       "    <tr>\n",
       "      <th>f1</th>\n",
       "      <td>0.000528</td>\n",
       "      <td>1.000000</td>\n",
       "      <td>0.000779</td>\n",
       "      <td>-0.001012</td>\n",
       "    </tr>\n",
       "    <tr>\n",
       "      <th>f2</th>\n",
       "      <td>-0.000448</td>\n",
       "      <td>0.000779</td>\n",
       "      <td>1.000000</td>\n",
       "      <td>0.445871</td>\n",
       "    </tr>\n",
       "    <tr>\n",
       "      <th>product</th>\n",
       "      <td>-0.001987</td>\n",
       "      <td>-0.001012</td>\n",
       "      <td>0.445871</td>\n",
       "      <td>1.000000</td>\n",
       "    </tr>\n",
       "  </tbody>\n",
       "</table>\n",
       "</div>"
      ],
      "text/plain": [
       "               f0        f1        f2   product\n",
       "f0       1.000000  0.000528 -0.000448 -0.001987\n",
       "f1       0.000528  1.000000  0.000779 -0.001012\n",
       "f2      -0.000448  0.000779  1.000000  0.445871\n",
       "product -0.001987 -0.001012  0.445871  1.000000"
      ]
     },
     "execution_count": 24,
     "metadata": {},
     "output_type": "execute_result"
    }
   ],
   "source": [
    "df3.corr()"
   ]
  },
  {
   "cell_type": "markdown",
   "metadata": {},
   "source": [
    "В регионе 2 выявлена сильная корреляционная зависимость между параметром f2 и показателем product.\n",
    "\n",
    "**Выводы:**\n",
    "\n",
    "- Проведен анализ данных по всем выборкам. Пропусков не обнаружено, явные и неявные дубликаты не обнаружены;\n",
    "- Произведен анализ распределения данных по регионам. По региону 2 значения параметра f2 распределены ненормально, при этом выявлена сильная корреляционная зависимость между параметром f2 и показателем product."
   ]
  },
  {
   "cell_type": "markdown",
   "metadata": {},
   "source": [
    "## Обучение и проверка модели"
   ]
  },
  {
   "cell_type": "markdown",
   "metadata": {},
   "source": [
    "Проведем обучение моделей по регионам.\n",
    "\n",
    "**Регион 1**\n",
    "\n",
    "Удалим ненужные при обучении модели столбцы:"
   ]
  },
  {
   "cell_type": "code",
   "execution_count": 25,
   "metadata": {},
   "outputs": [],
   "source": [
    "df1 = df1.drop('id', axis = 1)"
   ]
  },
  {
   "cell_type": "markdown",
   "metadata": {},
   "source": [
    "Выполним извлечение признаков и целевых признаков:"
   ]
  },
  {
   "cell_type": "code",
   "execution_count": 26,
   "metadata": {},
   "outputs": [],
   "source": [
    "#извлекаем признаки\n",
    "features1 = df1.drop(['product'],axis=1)\n",
    "#извлекаем целевые признаки\n",
    "target1 = df1['product']"
   ]
  },
  {
   "cell_type": "markdown",
   "metadata": {},
   "source": [
    "Разделим исходные данные на обучающую и валидационную выборки в соотношении 75:25:"
   ]
  },
  {
   "cell_type": "code",
   "execution_count": 27,
   "metadata": {},
   "outputs": [],
   "source": [
    "features1_train, features1_valid, target1_train, target1_valid = train_test_split(\n",
    "    features1, target1, test_size=0.25, random_state=12345\n",
    ")"
   ]
  },
  {
   "cell_type": "markdown",
   "metadata": {},
   "source": [
    "Проверим размеры выборок:"
   ]
  },
  {
   "cell_type": "code",
   "execution_count": 28,
   "metadata": {},
   "outputs": [
    {
     "name": "stdout",
     "output_type": "stream",
     "text": [
      "Размер обучающей выборки: 75000\n",
      "Размер валидационной выборки: 25000\n"
     ]
    }
   ],
   "source": [
    "print('Размер обучающей выборки:', len(features1_train))\n",
    "print('Размер валидационной выборки:',len(features1_valid))"
   ]
  },
  {
   "cell_type": "markdown",
   "metadata": {},
   "source": [
    "Стандартизируем тестовую и валидационную выборку:"
   ]
  },
  {
   "cell_type": "code",
   "execution_count": 29,
   "metadata": {},
   "outputs": [],
   "source": [
    "scaler1 = StandardScaler()\n",
    "scaler1.fit(features1_train)\n",
    "features1_train_st = scaler1.transform(features1_train)\n",
    "features1_valid_st = scaler1.transform(features1_valid)"
   ]
  },
  {
   "cell_type": "markdown",
   "metadata": {},
   "source": [
    "Согласно заданию для обучения модели подходит только линейная регрессия:"
   ]
  },
  {
   "cell_type": "code",
   "execution_count": 30,
   "metadata": {},
   "outputs": [
    {
     "name": "stdout",
     "output_type": "stream",
     "text": [
      "RMSE модели: 37.5794217150813\n",
      "Средний запас предсказанного сырья: 92.59256778438035\n"
     ]
    }
   ],
   "source": [
    "model_1 = LinearRegression()\n",
    "model_1.fit(features1_train_st, target1_train)\n",
    "predictions1_valid = model_1.predict(features1_valid_st)\n",
    "#считаем метрику rmse\n",
    "result1 = mean_squared_error(target1_valid, predictions1_valid)**0.5\n",
    "#средний запас предсказанного сырья \n",
    "reserve1 = predictions1_valid.mean()\n",
    "print(\"RMSE модели:\", result1)\n",
    "print(\"Средний запас предсказанного сырья:\", reserve1)"
   ]
  },
  {
   "cell_type": "markdown",
   "metadata": {},
   "source": [
    "**Регион 2**\n",
    "\n",
    "Удалим ненужные при обучении модели столбцы:"
   ]
  },
  {
   "cell_type": "code",
   "execution_count": 31,
   "metadata": {},
   "outputs": [],
   "source": [
    "df2 = df2.drop('id', axis = 1)"
   ]
  },
  {
   "cell_type": "markdown",
   "metadata": {},
   "source": [
    "Выполним извлечение признаков и целевых признаков:"
   ]
  },
  {
   "cell_type": "code",
   "execution_count": 32,
   "metadata": {},
   "outputs": [],
   "source": [
    "#извлекаем признаки\n",
    "features2 = df2.drop(['product'],axis=1)\n",
    "#извлекаем целевые признаки\n",
    "target2 = df2['product']"
   ]
  },
  {
   "cell_type": "markdown",
   "metadata": {},
   "source": [
    "Разделим исходные данные на обучающую и валидационную выборки в соотношении 75:25:"
   ]
  },
  {
   "cell_type": "code",
   "execution_count": 33,
   "metadata": {},
   "outputs": [],
   "source": [
    "features2_train, features2_valid, target2_train, target2_valid = train_test_split(\n",
    "    features2, target2, test_size=0.25, random_state=12345\n",
    ")"
   ]
  },
  {
   "cell_type": "markdown",
   "metadata": {},
   "source": [
    "Проверим размеры выборок:"
   ]
  },
  {
   "cell_type": "code",
   "execution_count": 34,
   "metadata": {},
   "outputs": [
    {
     "name": "stdout",
     "output_type": "stream",
     "text": [
      "Размер обучающей выборки: 75000\n",
      "Размер валидационной выборки: 25000\n"
     ]
    }
   ],
   "source": [
    "print('Размер обучающей выборки:', len(features2_train))\n",
    "print('Размер валидационной выборки:',len(features2_valid))"
   ]
  },
  {
   "cell_type": "markdown",
   "metadata": {},
   "source": [
    "Стандартизируем тестовую и валидационную выборку:"
   ]
  },
  {
   "cell_type": "code",
   "execution_count": 35,
   "metadata": {},
   "outputs": [],
   "source": [
    "scaler2 = StandardScaler()\n",
    "scaler2.fit(features1_train)\n",
    "features2_train_st = scaler2.transform(features2_train)\n",
    "features2_valid_st = scaler2.transform(features2_valid)"
   ]
  },
  {
   "cell_type": "markdown",
   "metadata": {},
   "source": [
    "Согласно заданию для обучения модели подходит только линейная регрессия:"
   ]
  },
  {
   "cell_type": "code",
   "execution_count": 36,
   "metadata": {},
   "outputs": [
    {
     "name": "stdout",
     "output_type": "stream",
     "text": [
      "RMSE модели: 0.8930992867756168\n",
      "Средний запас предсказанного сырья: 68.728546895446\n"
     ]
    }
   ],
   "source": [
    "model_2 = LinearRegression()\n",
    "model_2.fit(features2_train_st, target2_train)\n",
    "predictions2_valid = model_2.predict(features2_valid_st)\n",
    "#считаем метрику rmse\n",
    "result2 = mean_squared_error(target2_valid, predictions2_valid)**0.5\n",
    "#средний запас предсказанного сырья \n",
    "reserve2 = predictions2_valid.mean()\n",
    "print(\"RMSE модели:\", result2)\n",
    "print(\"Средний запас предсказанного сырья:\", reserve2)"
   ]
  },
  {
   "cell_type": "markdown",
   "metadata": {},
   "source": [
    "**Регион 3**\n",
    "\n",
    "Удалим ненужные при обучении модели столбцы:"
   ]
  },
  {
   "cell_type": "code",
   "execution_count": 37,
   "metadata": {},
   "outputs": [],
   "source": [
    "df3 = df3.drop('id', axis = 1)"
   ]
  },
  {
   "cell_type": "markdown",
   "metadata": {},
   "source": [
    "Выполним извлечение признаков и целевых признаков:"
   ]
  },
  {
   "cell_type": "code",
   "execution_count": 38,
   "metadata": {},
   "outputs": [],
   "source": [
    "#извлекаем признаки\n",
    "features3 = df3.drop(['product'],axis=1)\n",
    "#извлекаем целевые признаки\n",
    "target3 = df3['product']"
   ]
  },
  {
   "cell_type": "markdown",
   "metadata": {},
   "source": [
    "Разделим исходные данные на обучающую и валидационную выборки в соотношении 75:25:"
   ]
  },
  {
   "cell_type": "code",
   "execution_count": 39,
   "metadata": {},
   "outputs": [],
   "source": [
    "features3_train, features3_valid, target3_train, target3_valid = train_test_split(\n",
    "    features3, target3, test_size=0.25, random_state=12345\n",
    ")"
   ]
  },
  {
   "cell_type": "markdown",
   "metadata": {},
   "source": [
    "Проверим размеры выборок:"
   ]
  },
  {
   "cell_type": "code",
   "execution_count": 40,
   "metadata": {},
   "outputs": [
    {
     "name": "stdout",
     "output_type": "stream",
     "text": [
      "Размер обучающей выборки: 75000\n",
      "Размер валидационной выборки: 25000\n"
     ]
    }
   ],
   "source": [
    "print('Размер обучающей выборки:', len(features3_train))\n",
    "print('Размер валидационной выборки:',len(features3_valid))"
   ]
  },
  {
   "cell_type": "markdown",
   "metadata": {},
   "source": [
    "Стандартизируем тестовую и валидационную выборку:"
   ]
  },
  {
   "cell_type": "code",
   "execution_count": 41,
   "metadata": {},
   "outputs": [],
   "source": [
    "scaler3 = StandardScaler()\n",
    "scaler3.fit(features3_train)\n",
    "features3_train_st = scaler3.transform(features3_train)\n",
    "features3_valid_st = scaler3.transform(features3_valid)"
   ]
  },
  {
   "cell_type": "markdown",
   "metadata": {},
   "source": [
    "Согласно заданию для обучения модели подходит только линейная регрессия:"
   ]
  },
  {
   "cell_type": "code",
   "execution_count": 42,
   "metadata": {},
   "outputs": [
    {
     "name": "stdout",
     "output_type": "stream",
     "text": [
      "RMSE модели: 40.02970873393434\n",
      "Средний запас предсказанного сырья: 94.96504596800489\n"
     ]
    }
   ],
   "source": [
    "model_3 = LinearRegression()\n",
    "model_3.fit(features3_train_st, target3_train)\n",
    "predictions3_valid = model_3.predict(features3_valid_st)\n",
    "#считаем метрику rmse\n",
    "result3 = mean_squared_error(target3_valid, predictions3_valid)**0.5\n",
    "#средний запас предсказанного сырья \n",
    "reserve3 = predictions3_valid.mean()\n",
    "print(\"RMSE модели:\", result3)\n",
    "print(\"Средний запас предсказанного сырья:\", reserve3)"
   ]
  },
  {
   "cell_type": "markdown",
   "metadata": {},
   "source": [
    "**Вывод:** \n",
    "\n",
    "- для обучения моделей применена модель линейной регрессии;\n",
    "- результаты по первому и третьему региону схожи RMSE модели близок к значению 40, средний запас предсказанного сырья в пределах 92-94;\n",
    "- самый лучший коэффциент RMSE у второго региона, но при этом самый низкий средний запас предсказанного сырья."
   ]
  },
  {
   "cell_type": "markdown",
   "metadata": {},
   "source": [
    "## Подготовка к расчёту прибыли"
   ]
  },
  {
   "cell_type": "markdown",
   "metadata": {},
   "source": [
    "Для расчётов сохраним ключевые значения в отдельных переменных:"
   ]
  },
  {
   "cell_type": "code",
   "execution_count": 43,
   "metadata": {},
   "outputs": [],
   "source": [
    "BUDGET = 10000000000\n",
    "MAX_BOREHOLES = 500\n",
    "BEST_BOREHOLES = 200\n",
    "REVENUE_BARREL = 450000\n",
    "LOSSES = 0.025"
   ]
  },
  {
   "cell_type": "markdown",
   "metadata": {},
   "source": [
    "Рассчитаем достаточный объём сырья для безубыточной разработки новой скважины:"
   ]
  },
  {
   "cell_type": "code",
   "execution_count": 44,
   "metadata": {},
   "outputs": [
    {
     "name": "stdout",
     "output_type": "stream",
     "text": [
      "Точка безубыточности по региону: 22222.222222222223\n",
      "Достаточный объём сырья для безубыточной разработки новой скважины: 111.11111111111111\n"
     ]
    }
   ],
   "source": [
    "#определим точку безубыточности по региону\n",
    "break_even_point = BUDGET / REVENUE_BARREL\n",
    "#определим достаточный объём сырья для безубыточной разработки новой скважины\n",
    "break_even_volume = break_even_point / BEST_BOREHOLES\n",
    "print('Точка безубыточности по региону:', break_even_point)\n",
    "print('Достаточный объём сырья для безубыточной разработки новой скважины:', break_even_volume)"
   ]
  },
  {
   "cell_type": "markdown",
   "metadata": {},
   "source": [
    "**Вывод:** средний запас сырья в скважинах ниже, чем достаточный объём сырья для безубыточной разработки новой скважины.\n",
    "\n",
    "Рассмотрим запас сырья в скважинах по квантилям:"
   ]
  },
  {
   "cell_type": "code",
   "execution_count": 45,
   "metadata": {},
   "outputs": [
    {
     "name": "stdout",
     "output_type": "stream",
     "text": [
      "             product       product2       product3\n",
      "count  100000.000000  100000.000000  100000.000000\n",
      "mean       92.500000      68.825000      95.000000\n",
      "std        44.288691      45.944423      44.749921\n",
      "min         0.000000       0.000000       0.000000\n",
      "25%        56.497507      26.953261      59.450441\n",
      "50%        91.849972      57.085625      94.925613\n",
      "75%       128.564089     107.813044     130.595027\n",
      "max       185.364347     137.945408     190.029838\n"
     ]
    }
   ],
   "source": [
    "product_describe = df1['product'].describe().to_frame().join(df2['product'].describe().to_frame(), rsuffix=\"2\")\\\n",
    ".join(df3['product'].describe().to_frame(), rsuffix=\"3\")\n",
    "print(product_describe)"
   ]
  },
  {
   "cell_type": "markdown",
   "metadata": {},
   "source": [
    "**Вывод:** в регионе 1 и 3 около 25% скважин входят в интервал безубыточности, в регионе 2 данное значение менее 25%."
   ]
  },
  {
   "cell_type": "markdown",
   "metadata": {},
   "source": [
    "## Расчёт прибыли и рисков "
   ]
  },
  {
   "cell_type": "markdown",
   "metadata": {},
   "source": [
    "Согласно заданию региона исследуют 500 точек, из которых с помощью машинного обучения выбирают 200 лучших для разработки. Константу 200 мы зафиксировали ранее в переменной BEST_BOREHOLES. Просуммируем целевое значение объёма сырья, соответствующее этим предсказаниям и рассчитаем прибыль для полученного объёма сырья:"
   ]
  },
  {
   "cell_type": "code",
   "execution_count": 46,
   "metadata": {},
   "outputs": [
    {
     "name": "stdout",
     "output_type": "stream",
     "text": [
      "Прибыль для полученного объёма сырья в первом регионе: 3320826043.1398506\n",
      "Прибыль для полученного объёма сырья во втором регионе: 2415086696.681511\n",
      "Прибыль для полученного объёма сырья в третьем регионе: 2710349963.5998325\n"
     ]
    }
   ],
   "source": [
    "def revenue(target, predict):\n",
    "    target_best = (target.reset_index(drop = True)[pd.Series(predict).sort_values(ascending=False)[:BEST_BOREHOLES].index])\n",
    "    target_sum = target_best.sum()\n",
    "    return (target_sum * REVENUE_BARREL) - BUDGET\n",
    "\n",
    "print('Прибыль для полученного объёма сырья в первом регионе:', revenue(target1_valid, predictions1_valid))\n",
    "print('Прибыль для полученного объёма сырья во втором регионе:', revenue(target2_valid, predictions2_valid))\n",
    "print('Прибыль для полученного объёма сырья в третьем регионе:', revenue(target3_valid, predictions3_valid))"
   ]
  },
  {
   "cell_type": "markdown",
   "metadata": {},
   "source": [
    "Применим технику Bootstrap с 1000 выборок, чтобы найти распределение прибыли. Найдем среднюю прибыль, 95%-й доверительный интервал и риск убытков:"
   ]
  },
  {
   "cell_type": "code",
   "execution_count": 47,
   "metadata": {},
   "outputs": [
    {
     "name": "stdout",
     "output_type": "stream",
     "text": [
      "Средняя прибыль лучших для разработки скважин региона 1 - 396164984.8\n",
      "Риск убытков региона 1 - 6.9 %\n",
      "95%-й доверительный итервал для региона 1 лучших для разработки скважин лежит между: (-111215545.89049526, 909766941.5534226) \n",
      "\n",
      "Средняя прибыль лучших для разработки скважин региона 2 - 456045105.79\n",
      "Риск убытков региона 2 - 1.5 %\n",
      "95%-й доверительный итервал для региона 2 лучших для разработки скважин лежит между: (33820509.39898363, 852289453.866036) \n",
      "\n",
      "Средняя прибыль лучших для разработки скважин региона 3 - 404403866.57\n",
      "Риск убытков региона 3 - 7.6 %\n",
      "95%-й доверительный итервал для региона 3 лучших для разработки скважин лежит между: (-163350413.39560106, 950359574.9237995)\n"
     ]
    }
   ],
   "source": [
    "def interval(target, predict, n):\n",
    "    subsamples = []\n",
    "    state = np.random.RandomState(12345)\n",
    "    for i in range(1000):\n",
    "        subsample = pd.Series(predict).sample(n = MAX_BOREHOLES, replace=True, random_state = state)\n",
    "        subsamples.append(revenue(target, subsample))\n",
    "    subsamples = pd.Series(subsamples)\n",
    "    print('Средняя прибыль лучших для разработки скважин региона', n, '-', round(subsamples.mean(), 2))\n",
    "    print('Риск убытков региона', n, '-', len(subsamples[subsamples < 0]) / len(subsamples)*100,'%')\n",
    "    \n",
    "    lower = subsamples.quantile(LOSSES)\n",
    "    upper = subsamples.quantile(1-LOSSES)\n",
    "    return lower, upper\n",
    "print('95%-й доверительный итервал для региона 1 лучших для разработки скважин лежит между:',\n",
    "      interval(target1_valid, predictions1_valid, 1), '\\n')\n",
    "\n",
    "print('95%-й доверительный итервал для региона 2 лучших для разработки скважин лежит между:',\n",
    "      interval(target2_valid, predictions2_valid, 2), '\\n')\n",
    "\n",
    "print('95%-й доверительный итервал для региона 3 лучших для разработки скважин лежит между:',\n",
    "      interval(target3_valid, predictions3_valid, 3))"
   ]
  },
  {
   "cell_type": "code",
   "execution_count": 48,
   "metadata": {},
   "outputs": [
    {
     "data": {
      "image/png": "[encoded data removed]",
      "text/plain": [
       "<Figure size 1500x1500 with 1 Axes>"
      ]
     },
     "metadata": {},
     "output_type": "display_data"
    }
   ],
   "source": [
    "def distribution(target, predict):\n",
    "    subsamples = []\n",
    "    state = np.random.RandomState(12345)\n",
    "    for i in range(1000):\n",
    "        subsample = pd.Series(predict).sample(n = MAX_BOREHOLES, replace=True, random_state = state)\n",
    "        subsamples.append(revenue(target, subsample))\n",
    "    return pd.Series(subsamples)\n",
    "distribution1 = distribution(target1_valid, predictions1_valid)\n",
    "distribution2 = distribution(target2_valid, predictions2_valid)\n",
    "distribution3 = distribution(target3_valid, predictions3_valid)\n",
    "plt.subplots(figsize=(15,15))\n",
    "sns.histplot(distribution1, label=\"region 1\", kde=True, stat=\"density\", linewidth=0, color = 'red')\n",
    "sns.histplot(distribution2, label=\"region 2\", kde=True, stat=\"density\", linewidth=0, color = 'green')\n",
    "sns.histplot(distribution3, label=\"region 3\", kde=True, stat=\"density\", linewidth=0)\n",
    "plt.axvline(0, c=\"r\", label=\"\");\n",
    "plt.legend();"
   ]
  },
  {
   "cell_type": "markdown",
   "metadata": {},
   "source": [
    "**Выводы:**\n",
    "\n",
    "\n",
    "- согласно заданию вероятность убытков меньше 2.5% (переменная LOSSES). Данному критерию соответствует регион 2 - 1.5%;\n",
    "- лучшая средняя прибыль для разработки скважин у региона 2 - 456 045 105.79;\n",
    "- 95%-й доверительный интервал для региона 2 лежит в позитивном поле: 33 820 509.40 - 852 289 453.87;\n",
    "- на основе вышеизложенного предполагаемый регион для разработки скважин - 2, т.к. по данному региону наименьшая вероятность убытков, лучшая средняя прибыль для разработки скважин, 95%-й доверительный интервал лежит в позитивном поле, самый лучший коэффциент RMSE.\n"
   ]
  }
 ],
 "metadata": {
  "ExecuteTimeLog": [
   {
    "duration": 95,
    "start_time": "2023-05-14T14:12:12.897Z"
   },
   {
    "duration": 2351,
    "start_time": "2023-05-14T14:12:17.565Z"
   },
   {
    "duration": 1725,
    "start_time": "2023-05-14T14:13:43.896Z"
   },
   {
    "duration": 29,
    "start_time": "2023-05-14T14:14:23.424Z"
   },
   {
    "duration": 14,
    "start_time": "2023-05-14T14:14:31.022Z"
   },
   {
    "duration": 9,
    "start_time": "2023-05-14T14:14:46.216Z"
   },
   {
    "duration": 14,
    "start_time": "2023-05-14T14:14:50.830Z"
   },
   {
    "duration": 9,
    "start_time": "2023-05-14T14:14:57.479Z"
   },
   {
    "duration": 14,
    "start_time": "2023-05-14T14:15:02.569Z"
   },
   {
    "duration": 11,
    "start_time": "2023-05-14T14:15:11.015Z"
   },
   {
    "duration": 19,
    "start_time": "2023-05-14T14:15:19.944Z"
   },
   {
    "duration": 27,
    "start_time": "2023-05-14T14:51:54.990Z"
   },
   {
    "duration": 21,
    "start_time": "2023-05-14T14:52:07.942Z"
   },
   {
    "duration": 24,
    "start_time": "2023-05-14T14:52:08.371Z"
   },
   {
    "duration": 128,
    "start_time": "2023-05-14T14:58:16.281Z"
   },
   {
    "duration": 58,
    "start_time": "2023-05-14T14:58:22.526Z"
   },
   {
    "duration": 50,
    "start_time": "2023-05-14T14:58:39.377Z"
   },
   {
    "duration": 43,
    "start_time": "2023-05-14T14:58:45.993Z"
   },
   {
    "duration": 49,
    "start_time": "2023-05-14T14:59:14.426Z"
   },
   {
    "duration": 1171,
    "start_time": "2023-05-14T15:00:45.450Z"
   },
   {
    "duration": 24,
    "start_time": "2023-05-14T15:01:00.677Z"
   },
   {
    "duration": 57,
    "start_time": "2023-05-14T15:05:15.498Z"
   },
   {
    "duration": 388,
    "start_time": "2023-05-14T15:06:45.577Z"
   },
   {
    "duration": 99,
    "start_time": "2023-05-14T15:06:56.264Z"
   },
   {
    "duration": 65,
    "start_time": "2023-05-14T15:07:59.609Z"
   },
   {
    "duration": 58,
    "start_time": "2023-05-14T15:08:13.264Z"
   },
   {
    "duration": 59,
    "start_time": "2023-05-14T15:08:19.080Z"
   },
   {
    "duration": 67,
    "start_time": "2023-05-14T15:11:08.322Z"
   },
   {
    "duration": 151,
    "start_time": "2023-05-14T15:11:14.297Z"
   },
   {
    "duration": 44,
    "start_time": "2023-05-14T15:11:27.041Z"
   },
   {
    "duration": 32,
    "start_time": "2023-05-14T15:11:41.048Z"
   },
   {
    "duration": 32,
    "start_time": "2023-05-14T15:11:54.086Z"
   },
   {
    "duration": 189,
    "start_time": "2023-05-14T16:22:56.299Z"
   },
   {
    "duration": 205,
    "start_time": "2023-05-14T16:24:02.640Z"
   },
   {
    "duration": 192,
    "start_time": "2023-05-14T16:24:19.383Z"
   },
   {
    "duration": 301,
    "start_time": "2023-05-14T16:24:50.803Z"
   },
   {
    "duration": 158,
    "start_time": "2023-05-14T16:25:23.969Z"
   },
   {
    "duration": 156,
    "start_time": "2023-05-14T16:25:34.106Z"
   },
   {
    "duration": 152,
    "start_time": "2023-05-14T16:25:38.615Z"
   },
   {
    "duration": 143,
    "start_time": "2023-05-14T16:25:43.682Z"
   },
   {
    "duration": 193,
    "start_time": "2023-05-14T16:27:46.587Z"
   },
   {
    "duration": 141,
    "start_time": "2023-05-14T16:29:10.722Z"
   },
   {
    "duration": 162,
    "start_time": "2023-05-14T16:29:24.131Z"
   },
   {
    "duration": 161,
    "start_time": "2023-05-14T16:30:33.537Z"
   },
   {
    "duration": 137,
    "start_time": "2023-05-14T16:30:57.618Z"
   },
   {
    "duration": 161,
    "start_time": "2023-05-14T16:31:23.145Z"
   },
   {
    "duration": 150,
    "start_time": "2023-05-14T16:31:41.721Z"
   },
   {
    "duration": 258,
    "start_time": "2023-05-14T16:32:26.940Z"
   },
   {
    "duration": 181,
    "start_time": "2023-05-14T16:32:28.844Z"
   },
   {
    "duration": 216,
    "start_time": "2023-05-14T16:32:52.436Z"
   },
   {
    "duration": 140,
    "start_time": "2023-05-14T16:33:18.378Z"
   },
   {
    "duration": 49,
    "start_time": "2023-05-14T16:42:41.670Z"
   },
   {
    "duration": 37,
    "start_time": "2023-05-14T16:43:01.078Z"
   },
   {
    "duration": 35,
    "start_time": "2023-05-14T16:43:22.114Z"
   },
   {
    "duration": 15,
    "start_time": "2023-05-14T17:08:48.675Z"
   },
   {
    "duration": 10,
    "start_time": "2023-05-14T17:21:59.884Z"
   },
   {
    "duration": 14,
    "start_time": "2023-05-14T17:22:07.575Z"
   },
   {
    "duration": 15,
    "start_time": "2023-05-14T17:30:11.201Z"
   },
   {
    "duration": 15,
    "start_time": "2023-05-14T17:30:28.793Z"
   },
   {
    "duration": 14,
    "start_time": "2023-05-14T17:30:37.129Z"
   },
   {
    "duration": 3,
    "start_time": "2023-05-14T17:40:01.025Z"
   },
   {
    "duration": 48,
    "start_time": "2023-05-15T16:32:46.202Z"
   },
   {
    "duration": 1511,
    "start_time": "2023-05-15T16:32:55.873Z"
   },
   {
    "duration": 1551,
    "start_time": "2023-05-15T16:32:57.386Z"
   },
   {
    "duration": 15,
    "start_time": "2023-05-15T16:32:58.938Z"
   },
   {
    "duration": 9,
    "start_time": "2023-05-15T16:32:58.956Z"
   },
   {
    "duration": 11,
    "start_time": "2023-05-15T16:32:58.967Z"
   },
   {
    "duration": 33,
    "start_time": "2023-05-15T16:32:58.980Z"
   },
   {
    "duration": 15,
    "start_time": "2023-05-15T16:32:59.015Z"
   },
   {
    "duration": 14,
    "start_time": "2023-05-15T16:32:59.032Z"
   },
   {
    "duration": 43,
    "start_time": "2023-05-15T16:32:59.047Z"
   },
   {
    "duration": 65,
    "start_time": "2023-05-15T16:32:59.093Z"
   },
   {
    "duration": 40,
    "start_time": "2023-05-15T16:32:59.159Z"
   },
   {
    "duration": 46,
    "start_time": "2023-05-15T16:32:59.200Z"
   },
   {
    "duration": 36,
    "start_time": "2023-05-15T16:32:59.248Z"
   },
   {
    "duration": 39,
    "start_time": "2023-05-15T16:32:59.286Z"
   },
   {
    "duration": 38,
    "start_time": "2023-05-15T16:32:59.327Z"
   },
   {
    "duration": 178,
    "start_time": "2023-05-15T16:32:59.367Z"
   },
   {
    "duration": 172,
    "start_time": "2023-05-15T16:32:59.547Z"
   },
   {
    "duration": 166,
    "start_time": "2023-05-15T16:32:59.725Z"
   },
   {
    "duration": 50,
    "start_time": "2023-05-15T16:32:59.893Z"
   },
   {
    "duration": 143,
    "start_time": "2023-05-15T16:32:59.945Z"
   },
   {
    "duration": 142,
    "start_time": "2023-05-15T16:33:00.090Z"
   },
   {
    "duration": 222,
    "start_time": "2023-05-15T16:33:00.233Z"
   },
   {
    "duration": 36,
    "start_time": "2023-05-15T16:33:00.457Z"
   },
   {
    "duration": 164,
    "start_time": "2023-05-15T16:33:00.494Z"
   },
   {
    "duration": 148,
    "start_time": "2023-05-15T16:33:00.660Z"
   },
   {
    "duration": 163,
    "start_time": "2023-05-15T16:33:00.809Z"
   },
   {
    "duration": 16,
    "start_time": "2023-05-15T16:33:00.973Z"
   },
   {
    "duration": 41,
    "start_time": "2023-05-15T16:33:00.992Z"
   },
   {
    "duration": 27,
    "start_time": "2023-05-15T16:33:01.035Z"
   },
   {
    "duration": 20,
    "start_time": "2023-05-15T16:33:01.064Z"
   },
   {
    "duration": 5,
    "start_time": "2023-05-15T16:34:38.254Z"
   },
   {
    "duration": 115,
    "start_time": "2023-05-15T16:42:24.071Z"
   },
   {
    "duration": 3,
    "start_time": "2023-05-15T16:42:53.311Z"
   },
   {
    "duration": 12,
    "start_time": "2023-05-15T16:42:58.748Z"
   },
   {
    "duration": 3,
    "start_time": "2023-05-15T16:43:58.360Z"
   },
   {
    "duration": 12,
    "start_time": "2023-05-15T16:45:46.240Z"
   },
   {
    "duration": 3,
    "start_time": "2023-05-15T16:46:12.496Z"
   },
   {
    "duration": 16,
    "start_time": "2023-05-15T16:46:17.688Z"
   },
   {
    "duration": 11,
    "start_time": "2023-05-15T16:46:25.458Z"
   },
   {
    "duration": 12,
    "start_time": "2023-05-15T16:47:26.736Z"
   },
   {
    "duration": 9,
    "start_time": "2023-05-15T16:50:13.162Z"
   },
   {
    "duration": 3,
    "start_time": "2023-05-15T16:50:29.497Z"
   },
   {
    "duration": 12,
    "start_time": "2023-05-15T16:50:36.809Z"
   },
   {
    "duration": 106,
    "start_time": "2023-05-15T16:53:47.119Z"
   },
   {
    "duration": 4,
    "start_time": "2023-05-15T16:54:02.809Z"
   },
   {
    "duration": 19,
    "start_time": "2023-05-15T16:54:07.833Z"
   },
   {
    "duration": 10,
    "start_time": "2023-05-15T16:55:13.075Z"
   },
   {
    "duration": 11,
    "start_time": "2023-05-15T17:00:20.332Z"
   },
   {
    "duration": 82,
    "start_time": "2023-05-15T17:01:14.243Z"
   },
   {
    "duration": 12,
    "start_time": "2023-05-15T17:01:19.230Z"
   },
   {
    "duration": 13,
    "start_time": "2023-05-15T17:01:38.157Z"
   },
   {
    "duration": 6,
    "start_time": "2023-05-15T17:03:02.679Z"
   },
   {
    "duration": 11,
    "start_time": "2023-05-15T17:03:35.925Z"
   },
   {
    "duration": 7,
    "start_time": "2023-05-15T17:03:42.717Z"
   },
   {
    "duration": 27,
    "start_time": "2023-05-15T17:03:43.579Z"
   },
   {
    "duration": 4,
    "start_time": "2023-05-15T17:04:10.196Z"
   },
   {
    "duration": 12,
    "start_time": "2023-05-15T17:04:40.996Z"
   },
   {
    "duration": 23,
    "start_time": "2023-05-15T17:05:22.380Z"
   },
   {
    "duration": 15,
    "start_time": "2023-05-15T17:05:28.104Z"
   },
   {
    "duration": 136,
    "start_time": "2023-05-15T17:07:11.139Z"
   },
   {
    "duration": 2021,
    "start_time": "2023-05-15T17:07:24.742Z"
   },
   {
    "duration": 6,
    "start_time": "2023-05-15T17:09:04.740Z"
   },
   {
    "duration": 6,
    "start_time": "2023-05-15T17:09:33.942Z"
   },
   {
    "duration": 12,
    "start_time": "2023-05-15T17:10:30.792Z"
   },
   {
    "duration": 20,
    "start_time": "2023-05-15T17:10:33.383Z"
   },
   {
    "duration": 5,
    "start_time": "2023-05-15T17:10:34.293Z"
   },
   {
    "duration": 47,
    "start_time": "2023-05-15T17:11:09.774Z"
   },
   {
    "duration": 4,
    "start_time": "2023-05-15T17:11:15.366Z"
   },
   {
    "duration": 6,
    "start_time": "2023-05-15T17:11:15.893Z"
   },
   {
    "duration": 13,
    "start_time": "2023-05-15T17:11:16.469Z"
   },
   {
    "duration": 4,
    "start_time": "2023-05-15T17:11:16.981Z"
   },
   {
    "duration": 11,
    "start_time": "2023-05-15T17:11:17.613Z"
   },
   {
    "duration": 13,
    "start_time": "2023-05-15T17:11:20.357Z"
   },
   {
    "duration": 17,
    "start_time": "2023-05-15T17:11:23.014Z"
   },
   {
    "duration": 1441,
    "start_time": "2023-05-15T17:11:31.436Z"
   },
   {
    "duration": 390,
    "start_time": "2023-05-15T17:11:32.880Z"
   },
   {
    "duration": 14,
    "start_time": "2023-05-15T17:11:33.272Z"
   },
   {
    "duration": 10,
    "start_time": "2023-05-15T17:11:33.288Z"
   },
   {
    "duration": 42,
    "start_time": "2023-05-15T17:11:33.300Z"
   },
   {
    "duration": 17,
    "start_time": "2023-05-15T17:11:33.344Z"
   },
   {
    "duration": 14,
    "start_time": "2023-05-15T17:11:33.362Z"
   },
   {
    "duration": 15,
    "start_time": "2023-05-15T17:11:33.378Z"
   },
   {
    "duration": 72,
    "start_time": "2023-05-15T17:11:33.394Z"
   },
   {
    "duration": 41,
    "start_time": "2023-05-15T17:11:33.468Z"
   },
   {
    "duration": 66,
    "start_time": "2023-05-15T17:11:33.511Z"
   },
   {
    "duration": 32,
    "start_time": "2023-05-15T17:11:33.579Z"
   },
   {
    "duration": 45,
    "start_time": "2023-05-15T17:11:33.613Z"
   },
   {
    "duration": 32,
    "start_time": "2023-05-15T17:11:33.660Z"
   },
   {
    "duration": 66,
    "start_time": "2023-05-15T17:11:33.693Z"
   },
   {
    "duration": 212,
    "start_time": "2023-05-15T17:11:33.761Z"
   },
   {
    "duration": 149,
    "start_time": "2023-05-15T17:11:33.974Z"
   },
   {
    "duration": 140,
    "start_time": "2023-05-15T17:11:34.132Z"
   },
   {
    "duration": 61,
    "start_time": "2023-05-15T17:11:34.274Z"
   },
   {
    "duration": 140,
    "start_time": "2023-05-15T17:11:34.337Z"
   },
   {
    "duration": 158,
    "start_time": "2023-05-15T17:11:34.479Z"
   },
   {
    "duration": 233,
    "start_time": "2023-05-15T17:11:34.642Z"
   },
   {
    "duration": 50,
    "start_time": "2023-05-15T17:11:34.877Z"
   },
   {
    "duration": 161,
    "start_time": "2023-05-15T17:11:34.929Z"
   },
   {
    "duration": 151,
    "start_time": "2023-05-15T17:11:35.092Z"
   },
   {
    "duration": 154,
    "start_time": "2023-05-15T17:11:35.244Z"
   },
   {
    "duration": 14,
    "start_time": "2023-05-15T17:11:35.400Z"
   },
   {
    "duration": 19,
    "start_time": "2023-05-15T17:11:35.429Z"
   },
   {
    "duration": 15,
    "start_time": "2023-05-15T17:11:35.450Z"
   },
   {
    "duration": 6,
    "start_time": "2023-05-15T17:11:35.467Z"
   },
   {
    "duration": 29,
    "start_time": "2023-05-15T17:11:35.474Z"
   },
   {
    "duration": 68,
    "start_time": "2023-05-15T17:11:35.505Z"
   },
   {
    "duration": 4,
    "start_time": "2023-05-15T17:11:35.574Z"
   },
   {
    "duration": 14,
    "start_time": "2023-05-15T17:11:35.580Z"
   },
   {
    "duration": 38,
    "start_time": "2023-05-15T17:11:35.596Z"
   },
   {
    "duration": 10,
    "start_time": "2023-05-15T17:11:35.636Z"
   },
   {
    "duration": 85,
    "start_time": "2023-05-15T17:11:35.648Z"
   },
   {
    "duration": 22,
    "start_time": "2023-05-15T17:11:35.735Z"
   },
   {
    "duration": 5,
    "start_time": "2023-05-15T17:11:35.759Z"
   },
   {
    "duration": 16,
    "start_time": "2023-05-15T17:11:35.766Z"
   },
   {
    "duration": 55,
    "start_time": "2023-05-15T17:11:35.783Z"
   },
   {
    "duration": 5,
    "start_time": "2023-05-15T17:11:35.841Z"
   },
   {
    "duration": 7,
    "start_time": "2023-05-15T17:11:35.926Z"
   },
   {
    "duration": 106,
    "start_time": "2023-05-15T17:11:35.935Z"
   },
   {
    "duration": 4,
    "start_time": "2023-05-15T17:11:36.043Z"
   },
   {
    "duration": 19,
    "start_time": "2023-05-15T17:11:36.048Z"
   },
   {
    "duration": 16,
    "start_time": "2023-05-15T17:12:01.560Z"
   },
   {
    "duration": 15,
    "start_time": "2023-05-15T17:12:38.326Z"
   },
   {
    "duration": 1379,
    "start_time": "2023-05-15T17:12:50.073Z"
   },
   {
    "duration": 372,
    "start_time": "2023-05-15T17:12:51.454Z"
   },
   {
    "duration": 15,
    "start_time": "2023-05-15T17:12:51.827Z"
   },
   {
    "duration": 11,
    "start_time": "2023-05-15T17:12:51.844Z"
   },
   {
    "duration": 18,
    "start_time": "2023-05-15T17:12:51.857Z"
   },
   {
    "duration": 30,
    "start_time": "2023-05-15T17:12:51.877Z"
   },
   {
    "duration": 21,
    "start_time": "2023-05-15T17:12:51.909Z"
   },
   {
    "duration": 13,
    "start_time": "2023-05-15T17:12:51.932Z"
   },
   {
    "duration": 49,
    "start_time": "2023-05-15T17:12:51.947Z"
   },
   {
    "duration": 62,
    "start_time": "2023-05-15T17:12:51.998Z"
   },
   {
    "duration": 42,
    "start_time": "2023-05-15T17:12:52.062Z"
   },
   {
    "duration": 45,
    "start_time": "2023-05-15T17:12:52.106Z"
   },
   {
    "duration": 30,
    "start_time": "2023-05-15T17:12:52.153Z"
   },
   {
    "duration": 51,
    "start_time": "2023-05-15T17:12:52.187Z"
   },
   {
    "duration": 39,
    "start_time": "2023-05-15T17:12:52.240Z"
   },
   {
    "duration": 185,
    "start_time": "2023-05-15T17:12:52.281Z"
   },
   {
    "duration": 165,
    "start_time": "2023-05-15T17:12:52.468Z"
   },
   {
    "duration": 145,
    "start_time": "2023-05-15T17:12:52.635Z"
   },
   {
    "duration": 46,
    "start_time": "2023-05-15T17:12:52.782Z"
   },
   {
    "duration": 147,
    "start_time": "2023-05-15T17:12:52.830Z"
   },
   {
    "duration": 141,
    "start_time": "2023-05-15T17:12:52.979Z"
   },
   {
    "duration": 226,
    "start_time": "2023-05-15T17:12:53.124Z"
   },
   {
    "duration": 42,
    "start_time": "2023-05-15T17:12:53.352Z"
   },
   {
    "duration": 172,
    "start_time": "2023-05-15T17:12:53.395Z"
   },
   {
    "duration": 140,
    "start_time": "2023-05-15T17:12:53.569Z"
   },
   {
    "duration": 138,
    "start_time": "2023-05-15T17:12:53.711Z"
   },
   {
    "duration": 16,
    "start_time": "2023-05-15T17:12:53.850Z"
   },
   {
    "duration": 14,
    "start_time": "2023-05-15T17:12:53.867Z"
   },
   {
    "duration": 13,
    "start_time": "2023-05-15T17:12:53.882Z"
   },
   {
    "duration": 4,
    "start_time": "2023-05-15T17:12:53.925Z"
   },
   {
    "duration": 12,
    "start_time": "2023-05-15T17:12:53.931Z"
   },
   {
    "duration": 21,
    "start_time": "2023-05-15T17:12:53.945Z"
   },
   {
    "duration": 5,
    "start_time": "2023-05-15T17:12:53.967Z"
   },
   {
    "duration": 15,
    "start_time": "2023-05-15T17:12:53.973Z"
   },
   {
    "duration": 45,
    "start_time": "2023-05-15T17:12:53.989Z"
   },
   {
    "duration": 106,
    "start_time": "2023-05-15T17:12:54.036Z"
   },
   {
    "duration": 6,
    "start_time": "2023-05-15T17:12:54.144Z"
   },
   {
    "duration": 18,
    "start_time": "2023-05-15T17:12:54.152Z"
   },
   {
    "duration": 52,
    "start_time": "2023-05-15T17:12:54.172Z"
   },
   {
    "duration": 12,
    "start_time": "2023-05-15T17:12:54.226Z"
   },
   {
    "duration": 84,
    "start_time": "2023-05-15T17:12:54.242Z"
   },
   {
    "duration": 7,
    "start_time": "2023-05-15T17:12:54.329Z"
   },
   {
    "duration": 92,
    "start_time": "2023-05-15T17:12:54.339Z"
   },
   {
    "duration": 15,
    "start_time": "2023-05-15T17:12:54.432Z"
   },
   {
    "duration": 4,
    "start_time": "2023-05-15T17:12:54.448Z"
   },
   {
    "duration": 18,
    "start_time": "2023-05-15T17:12:54.454Z"
   },
   {
    "duration": 57,
    "start_time": "2023-05-15T17:12:54.474Z"
   },
   {
    "duration": 1388,
    "start_time": "2023-05-15T17:13:31.585Z"
   },
   {
    "duration": 370,
    "start_time": "2023-05-15T17:13:32.975Z"
   },
   {
    "duration": 19,
    "start_time": "2023-05-15T17:13:33.347Z"
   },
   {
    "duration": 11,
    "start_time": "2023-05-15T17:13:33.368Z"
   },
   {
    "duration": 13,
    "start_time": "2023-05-15T17:13:33.380Z"
   },
   {
    "duration": 43,
    "start_time": "2023-05-15T17:13:33.394Z"
   },
   {
    "duration": 15,
    "start_time": "2023-05-15T17:13:33.438Z"
   },
   {
    "duration": 13,
    "start_time": "2023-05-15T17:13:33.455Z"
   },
   {
    "duration": 71,
    "start_time": "2023-05-15T17:13:33.470Z"
   },
   {
    "duration": 44,
    "start_time": "2023-05-15T17:13:33.543Z"
   },
   {
    "duration": 61,
    "start_time": "2023-05-15T17:13:33.589Z"
   },
   {
    "duration": 34,
    "start_time": "2023-05-15T17:13:33.652Z"
   },
   {
    "duration": 46,
    "start_time": "2023-05-15T17:13:33.688Z"
   },
   {
    "duration": 30,
    "start_time": "2023-05-15T17:13:33.736Z"
   },
   {
    "duration": 64,
    "start_time": "2023-05-15T17:13:33.769Z"
   },
   {
    "duration": 189,
    "start_time": "2023-05-15T17:13:33.834Z"
   },
   {
    "duration": 138,
    "start_time": "2023-05-15T17:13:34.025Z"
   },
   {
    "duration": 141,
    "start_time": "2023-05-15T17:13:34.165Z"
   },
   {
    "duration": 43,
    "start_time": "2023-05-15T17:13:34.308Z"
   },
   {
    "duration": 140,
    "start_time": "2023-05-15T17:13:34.353Z"
   },
   {
    "duration": 144,
    "start_time": "2023-05-15T17:13:34.495Z"
   },
   {
    "duration": 252,
    "start_time": "2023-05-15T17:13:34.641Z"
   },
   {
    "duration": 44,
    "start_time": "2023-05-15T17:13:34.895Z"
   },
   {
    "duration": 158,
    "start_time": "2023-05-15T17:13:34.941Z"
   },
   {
    "duration": 151,
    "start_time": "2023-05-15T17:13:35.101Z"
   },
   {
    "duration": 144,
    "start_time": "2023-05-15T17:13:35.254Z"
   },
   {
    "duration": 15,
    "start_time": "2023-05-15T17:13:35.399Z"
   },
   {
    "duration": 15,
    "start_time": "2023-05-15T17:13:35.427Z"
   },
   {
    "duration": 15,
    "start_time": "2023-05-15T17:13:35.444Z"
   },
   {
    "duration": 4,
    "start_time": "2023-05-15T17:13:35.461Z"
   },
   {
    "duration": 9,
    "start_time": "2023-05-15T17:13:35.466Z"
   },
   {
    "duration": 20,
    "start_time": "2023-05-15T17:13:35.477Z"
   },
   {
    "duration": 28,
    "start_time": "2023-05-15T17:13:35.499Z"
   },
   {
    "duration": 16,
    "start_time": "2023-05-15T17:13:35.529Z"
   },
   {
    "duration": 83,
    "start_time": "2023-05-15T17:13:35.547Z"
   },
   {
    "duration": 6,
    "start_time": "2023-05-15T17:13:35.632Z"
   },
   {
    "duration": 90,
    "start_time": "2023-05-15T17:13:35.639Z"
   },
   {
    "duration": 18,
    "start_time": "2023-05-15T17:13:35.731Z"
   },
   {
    "duration": 4,
    "start_time": "2023-05-15T17:13:35.751Z"
   },
   {
    "duration": 16,
    "start_time": "2023-05-15T17:13:35.756Z"
   },
   {
    "duration": 152,
    "start_time": "2023-05-15T17:13:35.775Z"
   },
   {
    "duration": 4,
    "start_time": "2023-05-15T17:13:35.929Z"
   },
   {
    "duration": 30,
    "start_time": "2023-05-15T17:13:35.934Z"
   },
   {
    "duration": 61,
    "start_time": "2023-05-15T17:13:35.966Z"
   },
   {
    "duration": 4,
    "start_time": "2023-05-15T17:13:36.029Z"
   },
   {
    "duration": 48,
    "start_time": "2023-05-15T17:13:36.034Z"
   },
   {
    "duration": 45,
    "start_time": "2023-05-15T17:13:36.084Z"
   },
   {
    "duration": 111,
    "start_time": "2023-05-15T17:47:05.551Z"
   },
   {
    "duration": 3,
    "start_time": "2023-05-15T17:47:08.526Z"
   },
   {
    "duration": 4,
    "start_time": "2023-05-15T17:47:09.428Z"
   },
   {
    "duration": 3,
    "start_time": "2023-05-15T17:47:18.055Z"
   },
   {
    "duration": 4,
    "start_time": "2023-05-15T17:51:31.809Z"
   },
   {
    "duration": 4,
    "start_time": "2023-05-15T17:51:35.375Z"
   },
   {
    "duration": 1644,
    "start_time": "2023-05-15T17:56:37.002Z"
   },
   {
    "duration": 372,
    "start_time": "2023-05-15T17:56:38.648Z"
   },
   {
    "duration": 14,
    "start_time": "2023-05-15T17:56:39.022Z"
   },
   {
    "duration": 24,
    "start_time": "2023-05-15T17:56:39.038Z"
   },
   {
    "duration": 36,
    "start_time": "2023-05-15T17:56:39.064Z"
   },
   {
    "duration": 24,
    "start_time": "2023-05-15T17:56:39.102Z"
   },
   {
    "duration": 20,
    "start_time": "2023-05-15T17:56:39.128Z"
   },
   {
    "duration": 16,
    "start_time": "2023-05-15T17:56:39.150Z"
   },
   {
    "duration": 47,
    "start_time": "2023-05-15T17:56:39.168Z"
   },
   {
    "duration": 40,
    "start_time": "2023-05-15T17:56:39.225Z"
   },
   {
    "duration": 38,
    "start_time": "2023-05-15T17:56:39.267Z"
   },
   {
    "duration": 46,
    "start_time": "2023-05-15T17:56:39.307Z"
   },
   {
    "duration": 36,
    "start_time": "2023-05-15T17:56:39.354Z"
   },
   {
    "duration": 45,
    "start_time": "2023-05-15T17:56:39.392Z"
   },
   {
    "duration": 54,
    "start_time": "2023-05-15T17:56:39.439Z"
   },
   {
    "duration": 226,
    "start_time": "2023-05-15T17:56:39.495Z"
   },
   {
    "duration": 192,
    "start_time": "2023-05-15T17:56:39.726Z"
   },
   {
    "duration": 148,
    "start_time": "2023-05-15T17:56:39.920Z"
   },
   {
    "duration": 38,
    "start_time": "2023-05-15T17:56:40.070Z"
   },
   {
    "duration": 152,
    "start_time": "2023-05-15T17:56:40.109Z"
   },
   {
    "duration": 138,
    "start_time": "2023-05-15T17:56:40.263Z"
   },
   {
    "duration": 227,
    "start_time": "2023-05-15T17:56:40.403Z"
   },
   {
    "duration": 35,
    "start_time": "2023-05-15T17:56:40.632Z"
   },
   {
    "duration": 168,
    "start_time": "2023-05-15T17:56:40.668Z"
   },
   {
    "duration": 155,
    "start_time": "2023-05-15T17:56:40.838Z"
   },
   {
    "duration": 139,
    "start_time": "2023-05-15T17:56:40.995Z"
   },
   {
    "duration": 14,
    "start_time": "2023-05-15T17:56:41.135Z"
   },
   {
    "duration": 15,
    "start_time": "2023-05-15T17:56:41.152Z"
   },
   {
    "duration": 25,
    "start_time": "2023-05-15T17:56:41.169Z"
   },
   {
    "duration": 16,
    "start_time": "2023-05-15T17:56:41.196Z"
   },
   {
    "duration": 20,
    "start_time": "2023-05-15T17:56:41.213Z"
   },
   {
    "duration": 42,
    "start_time": "2023-05-15T17:56:41.234Z"
   },
   {
    "duration": 33,
    "start_time": "2023-05-15T17:56:41.278Z"
   },
   {
    "duration": 39,
    "start_time": "2023-05-15T17:56:41.313Z"
   },
   {
    "duration": 44,
    "start_time": "2023-05-15T17:56:41.354Z"
   },
   {
    "duration": 35,
    "start_time": "2023-05-15T17:56:41.400Z"
   },
   {
    "duration": 92,
    "start_time": "2023-05-15T17:56:41.437Z"
   },
   {
    "duration": 15,
    "start_time": "2023-05-15T17:56:41.532Z"
   },
   {
    "duration": 13,
    "start_time": "2023-05-15T17:56:41.549Z"
   },
   {
    "duration": 21,
    "start_time": "2023-05-15T17:56:41.563Z"
   },
   {
    "duration": 41,
    "start_time": "2023-05-15T17:56:41.586Z"
   },
   {
    "duration": 95,
    "start_time": "2023-05-15T17:56:41.630Z"
   },
   {
    "duration": 18,
    "start_time": "2023-05-15T17:56:41.727Z"
   },
   {
    "duration": 25,
    "start_time": "2023-05-15T17:56:41.747Z"
   },
   {
    "duration": 4,
    "start_time": "2023-05-15T17:56:41.774Z"
   },
   {
    "duration": 23,
    "start_time": "2023-05-15T17:56:41.780Z"
   },
   {
    "duration": 22,
    "start_time": "2023-05-15T17:56:41.804Z"
   },
   {
    "duration": 4,
    "start_time": "2023-05-15T17:56:41.829Z"
   },
   {
    "duration": 192,
    "start_time": "2023-05-15T17:56:41.835Z"
   },
   {
    "duration": 54,
    "start_time": "2023-05-16T16:14:53.200Z"
   },
   {
    "duration": 1849,
    "start_time": "2023-05-16T16:14:58.213Z"
   },
   {
    "duration": 988,
    "start_time": "2023-05-16T16:15:00.065Z"
   },
   {
    "duration": 20,
    "start_time": "2023-05-16T16:15:01.055Z"
   },
   {
    "duration": 55,
    "start_time": "2023-05-16T16:15:01.086Z"
   },
   {
    "duration": 73,
    "start_time": "2023-05-16T16:15:01.143Z"
   },
   {
    "duration": 69,
    "start_time": "2023-05-16T16:15:01.218Z"
   },
   {
    "duration": 55,
    "start_time": "2023-05-16T16:15:01.289Z"
   },
   {
    "duration": 107,
    "start_time": "2023-05-16T16:15:01.346Z"
   },
   {
    "duration": 80,
    "start_time": "2023-05-16T16:15:01.455Z"
   },
   {
    "duration": 75,
    "start_time": "2023-05-16T16:15:01.537Z"
   },
   {
    "duration": 72,
    "start_time": "2023-05-16T16:15:01.615Z"
   },
   {
    "duration": 42,
    "start_time": "2023-05-16T16:15:01.694Z"
   },
   {
    "duration": 64,
    "start_time": "2023-05-16T16:15:01.738Z"
   },
   {
    "duration": 41,
    "start_time": "2023-05-16T16:15:01.808Z"
   },
   {
    "duration": 93,
    "start_time": "2023-05-16T16:15:01.851Z"
   },
   {
    "duration": 193,
    "start_time": "2023-05-16T16:15:01.946Z"
   },
   {
    "duration": 167,
    "start_time": "2023-05-16T16:15:02.141Z"
   },
   {
    "duration": 191,
    "start_time": "2023-05-16T16:15:02.310Z"
   },
   {
    "duration": 42,
    "start_time": "2023-05-16T16:15:02.503Z"
   },
   {
    "duration": 172,
    "start_time": "2023-05-16T16:15:02.547Z"
   },
   {
    "duration": 180,
    "start_time": "2023-05-16T16:15:02.721Z"
   },
   {
    "duration": 268,
    "start_time": "2023-05-16T16:15:02.903Z"
   },
   {
    "duration": 53,
    "start_time": "2023-05-16T16:15:03.175Z"
   },
   {
    "duration": 188,
    "start_time": "2023-05-16T16:15:03.229Z"
   },
   {
    "duration": 189,
    "start_time": "2023-05-16T16:15:03.419Z"
   },
   {
    "duration": 178,
    "start_time": "2023-05-16T16:15:03.611Z"
   },
   {
    "duration": 22,
    "start_time": "2023-05-16T16:15:03.790Z"
   },
   {
    "duration": 17,
    "start_time": "2023-05-16T16:15:03.814Z"
   },
   {
    "duration": 18,
    "start_time": "2023-05-16T16:15:03.833Z"
   },
   {
    "duration": 25,
    "start_time": "2023-05-16T16:15:03.853Z"
   },
   {
    "duration": 23,
    "start_time": "2023-05-16T16:15:03.888Z"
   },
   {
    "duration": 37,
    "start_time": "2023-05-16T16:15:03.913Z"
   },
   {
    "duration": 48,
    "start_time": "2023-05-16T16:15:03.953Z"
   },
   {
    "duration": 46,
    "start_time": "2023-05-16T16:15:04.003Z"
   },
   {
    "duration": 65,
    "start_time": "2023-05-16T16:15:04.051Z"
   },
   {
    "duration": 70,
    "start_time": "2023-05-16T16:15:04.118Z"
   },
   {
    "duration": 115,
    "start_time": "2023-05-16T16:15:04.191Z"
   },
   {
    "duration": 25,
    "start_time": "2023-05-16T16:15:04.308Z"
   },
   {
    "duration": 5,
    "start_time": "2023-05-16T16:15:04.334Z"
   },
   {
    "duration": 22,
    "start_time": "2023-05-16T16:15:04.341Z"
   },
   {
    "duration": 27,
    "start_time": "2023-05-16T16:15:04.368Z"
   },
   {
    "duration": 72,
    "start_time": "2023-05-16T16:15:04.403Z"
   },
   {
    "duration": 51,
    "start_time": "2023-05-16T16:15:04.478Z"
   },
   {
    "duration": 65,
    "start_time": "2023-05-16T16:15:04.531Z"
   },
   {
    "duration": 29,
    "start_time": "2023-05-16T16:15:04.601Z"
   },
   {
    "duration": 23,
    "start_time": "2023-05-16T16:15:04.633Z"
   },
   {
    "duration": 29,
    "start_time": "2023-05-16T16:15:04.658Z"
   },
   {
    "duration": 129,
    "start_time": "2023-05-16T16:15:04.690Z"
   },
   {
    "duration": 9,
    "start_time": "2023-05-16T16:15:04.822Z"
   },
   {
    "duration": 77,
    "start_time": "2023-05-16T16:15:04.833Z"
   },
   {
    "duration": 43,
    "start_time": "2023-05-16T16:15:32.448Z"
   },
   {
    "duration": 38,
    "start_time": "2023-05-16T16:15:50.163Z"
   },
   {
    "duration": 3,
    "start_time": "2023-05-16T16:15:59.501Z"
   },
   {
    "duration": 5,
    "start_time": "2023-05-16T16:16:00.400Z"
   },
   {
    "duration": 172,
    "start_time": "2023-05-16T16:32:23.051Z"
   },
   {
    "duration": 36,
    "start_time": "2023-05-16T16:33:12.168Z"
   },
   {
    "duration": 24,
    "start_time": "2023-05-16T16:33:46.216Z"
   },
   {
    "duration": 31,
    "start_time": "2023-05-16T16:34:06.253Z"
   },
   {
    "duration": 23,
    "start_time": "2023-05-16T16:35:10.492Z"
   },
   {
    "duration": 32,
    "start_time": "2023-05-16T16:35:59.610Z"
   },
   {
    "duration": 1649,
    "start_time": "2023-05-16T16:36:11.316Z"
   },
   {
    "duration": 531,
    "start_time": "2023-05-16T16:36:12.968Z"
   },
   {
    "duration": 31,
    "start_time": "2023-05-16T16:36:13.501Z"
   },
   {
    "duration": 26,
    "start_time": "2023-05-16T16:36:13.534Z"
   },
   {
    "duration": 22,
    "start_time": "2023-05-16T16:36:13.562Z"
   },
   {
    "duration": 60,
    "start_time": "2023-05-16T16:36:13.586Z"
   },
   {
    "duration": 17,
    "start_time": "2023-05-16T16:36:13.648Z"
   },
   {
    "duration": 22,
    "start_time": "2023-05-16T16:36:13.667Z"
   },
   {
    "duration": 103,
    "start_time": "2023-05-16T16:36:13.691Z"
   },
   {
    "duration": 57,
    "start_time": "2023-05-16T16:36:13.797Z"
   },
   {
    "duration": 77,
    "start_time": "2023-05-16T16:36:13.857Z"
   },
   {
    "duration": 64,
    "start_time": "2023-05-16T16:36:13.936Z"
   },
   {
    "duration": 41,
    "start_time": "2023-05-16T16:36:14.005Z"
   },
   {
    "duration": 37,
    "start_time": "2023-05-16T16:36:14.049Z"
   },
   {
    "duration": 84,
    "start_time": "2023-05-16T16:36:14.089Z"
   },
   {
    "duration": 234,
    "start_time": "2023-05-16T16:36:14.178Z"
   },
   {
    "duration": 210,
    "start_time": "2023-05-16T16:36:14.417Z"
   },
   {
    "duration": 179,
    "start_time": "2023-05-16T16:36:14.630Z"
   },
   {
    "duration": 42,
    "start_time": "2023-05-16T16:36:14.815Z"
   },
   {
    "duration": 179,
    "start_time": "2023-05-16T16:36:14.859Z"
   },
   {
    "duration": 184,
    "start_time": "2023-05-16T16:36:15.040Z"
   },
   {
    "duration": 275,
    "start_time": "2023-05-16T16:36:15.226Z"
   },
   {
    "duration": 45,
    "start_time": "2023-05-16T16:36:15.503Z"
   },
   {
    "duration": 207,
    "start_time": "2023-05-16T16:36:15.549Z"
   },
   {
    "duration": 187,
    "start_time": "2023-05-16T16:36:15.758Z"
   },
   {
    "duration": 220,
    "start_time": "2023-05-16T16:36:15.948Z"
   },
   {
    "duration": 31,
    "start_time": "2023-05-16T16:36:16.170Z"
   },
   {
    "duration": 41,
    "start_time": "2023-05-16T16:36:16.209Z"
   },
   {
    "duration": 26,
    "start_time": "2023-05-16T16:36:16.252Z"
   },
   {
    "duration": 39,
    "start_time": "2023-05-16T16:36:16.294Z"
   },
   {
    "duration": 12,
    "start_time": "2023-05-16T16:36:16.335Z"
   },
   {
    "duration": 25,
    "start_time": "2023-05-16T16:36:16.350Z"
   },
   {
    "duration": 13,
    "start_time": "2023-05-16T16:36:16.377Z"
   },
   {
    "duration": 59,
    "start_time": "2023-05-16T16:36:16.395Z"
   },
   {
    "duration": 42,
    "start_time": "2023-05-16T16:36:16.456Z"
   },
   {
    "duration": 109,
    "start_time": "2023-05-16T16:36:16.500Z"
   },
   {
    "duration": 36,
    "start_time": "2023-05-16T16:36:16.611Z"
   },
   {
    "duration": 29,
    "start_time": "2023-05-16T16:36:16.649Z"
   },
   {
    "duration": 36,
    "start_time": "2023-05-16T16:36:16.679Z"
   },
   {
    "duration": 19,
    "start_time": "2023-05-16T16:36:16.719Z"
   },
   {
    "duration": 50,
    "start_time": "2023-05-16T16:36:16.742Z"
   },
   {
    "duration": 9,
    "start_time": "2023-05-16T16:36:16.795Z"
   },
   {
    "duration": 57,
    "start_time": "2023-05-16T16:36:16.878Z"
   },
   {
    "duration": 22,
    "start_time": "2023-05-16T16:36:16.937Z"
   },
   {
    "duration": 16,
    "start_time": "2023-05-16T16:36:16.961Z"
   },
   {
    "duration": 41,
    "start_time": "2023-05-16T16:36:16.989Z"
   },
   {
    "duration": 66,
    "start_time": "2023-05-16T16:36:17.031Z"
   },
   {
    "duration": 16,
    "start_time": "2023-05-16T16:36:17.105Z"
   },
   {
    "duration": 41,
    "start_time": "2023-05-16T16:36:17.177Z"
   },
   {
    "duration": 33,
    "start_time": "2023-05-16T16:36:17.221Z"
   },
   {
    "duration": 160,
    "start_time": "2023-05-16T16:36:17.257Z"
   },
   {
    "duration": 43,
    "start_time": "2023-05-16T17:49:42.899Z"
   },
   {
    "duration": 39,
    "start_time": "2023-05-16T17:50:23.052Z"
   },
   {
    "duration": 19,
    "start_time": "2023-05-16T18:44:40.197Z"
   },
   {
    "duration": 16,
    "start_time": "2023-05-16T18:45:39.490Z"
   },
   {
    "duration": 31,
    "start_time": "2023-05-16T18:46:21.893Z"
   },
   {
    "duration": 27,
    "start_time": "2023-05-16T18:49:50.003Z"
   },
   {
    "duration": 27,
    "start_time": "2023-05-16T18:50:19.109Z"
   },
   {
    "duration": 30,
    "start_time": "2023-05-16T18:51:13.147Z"
   },
   {
    "duration": 21,
    "start_time": "2023-05-16T18:51:54.650Z"
   },
   {
    "duration": 16,
    "start_time": "2023-05-16T18:52:09.146Z"
   },
   {
    "duration": 34,
    "start_time": "2023-05-16T18:52:24.180Z"
   },
   {
    "duration": 24,
    "start_time": "2023-05-16T18:52:49.986Z"
   },
   {
    "duration": 19,
    "start_time": "2023-05-16T18:54:35.297Z"
   },
   {
    "duration": 22,
    "start_time": "2023-05-16T18:55:01.923Z"
   },
   {
    "duration": 18,
    "start_time": "2023-05-16T18:55:14.339Z"
   },
   {
    "duration": 28,
    "start_time": "2023-05-16T18:56:06.355Z"
   },
   {
    "duration": 21,
    "start_time": "2023-05-16T18:56:35.313Z"
   },
   {
    "duration": 6,
    "start_time": "2023-05-16T19:02:59.652Z"
   },
   {
    "duration": 21,
    "start_time": "2023-05-16T19:03:33.789Z"
   },
   {
    "duration": 20,
    "start_time": "2023-05-16T19:03:54.919Z"
   },
   {
    "duration": 6,
    "start_time": "2023-05-16T19:04:30.915Z"
   },
   {
    "duration": 4,
    "start_time": "2023-05-16T19:04:34.852Z"
   },
   {
    "duration": 1191,
    "start_time": "2023-05-16T19:04:38.514Z"
   },
   {
    "duration": 3663,
    "start_time": "2023-05-16T19:04:49.893Z"
   },
   {
    "duration": 3871,
    "start_time": "2023-05-16T19:05:20.891Z"
   },
   {
    "duration": 1616,
    "start_time": "2023-05-16T19:09:12.980Z"
   },
   {
    "duration": 489,
    "start_time": "2023-05-16T19:09:14.602Z"
   },
   {
    "duration": 21,
    "start_time": "2023-05-16T19:09:15.096Z"
   },
   {
    "duration": 19,
    "start_time": "2023-05-16T19:09:15.119Z"
   },
   {
    "duration": 14,
    "start_time": "2023-05-16T19:09:15.140Z"
   },
   {
    "duration": 31,
    "start_time": "2023-05-16T19:09:15.156Z"
   },
   {
    "duration": 40,
    "start_time": "2023-05-16T19:09:15.192Z"
   },
   {
    "duration": 16,
    "start_time": "2023-05-16T19:09:15.234Z"
   },
   {
    "duration": 69,
    "start_time": "2023-05-16T19:09:15.252Z"
   },
   {
    "duration": 69,
    "start_time": "2023-05-16T19:09:15.324Z"
   },
   {
    "duration": 64,
    "start_time": "2023-05-16T19:09:15.397Z"
   },
   {
    "duration": 69,
    "start_time": "2023-05-16T19:09:15.463Z"
   },
   {
    "duration": 77,
    "start_time": "2023-05-16T19:09:15.534Z"
   },
   {
    "duration": 64,
    "start_time": "2023-05-16T19:09:15.617Z"
   },
   {
    "duration": 51,
    "start_time": "2023-05-16T19:09:15.685Z"
   },
   {
    "duration": 273,
    "start_time": "2023-05-16T19:09:15.739Z"
   },
   {
    "duration": 219,
    "start_time": "2023-05-16T19:09:16.020Z"
   },
   {
    "duration": 211,
    "start_time": "2023-05-16T19:09:16.242Z"
   },
   {
    "duration": 60,
    "start_time": "2023-05-16T19:09:16.455Z"
   },
   {
    "duration": 176,
    "start_time": "2023-05-16T19:09:16.518Z"
   },
   {
    "duration": 149,
    "start_time": "2023-05-16T19:09:16.704Z"
   },
   {
    "duration": 275,
    "start_time": "2023-05-16T19:09:16.855Z"
   },
   {
    "duration": 75,
    "start_time": "2023-05-16T19:09:17.132Z"
   },
   {
    "duration": 192,
    "start_time": "2023-05-16T19:09:17.210Z"
   },
   {
    "duration": 197,
    "start_time": "2023-05-16T19:09:17.410Z"
   },
   {
    "duration": 156,
    "start_time": "2023-05-16T19:09:17.612Z"
   },
   {
    "duration": 32,
    "start_time": "2023-05-16T19:09:17.770Z"
   },
   {
    "duration": 40,
    "start_time": "2023-05-16T19:09:17.812Z"
   },
   {
    "duration": 31,
    "start_time": "2023-05-16T19:09:17.854Z"
   },
   {
    "duration": 28,
    "start_time": "2023-05-16T19:09:17.886Z"
   },
   {
    "duration": 42,
    "start_time": "2023-05-16T19:09:17.917Z"
   },
   {
    "duration": 55,
    "start_time": "2023-05-16T19:09:17.962Z"
   },
   {
    "duration": 46,
    "start_time": "2023-05-16T19:09:18.019Z"
   },
   {
    "duration": 59,
    "start_time": "2023-05-16T19:09:18.067Z"
   },
   {
    "duration": 19,
    "start_time": "2023-05-16T19:09:18.129Z"
   },
   {
    "duration": 28,
    "start_time": "2023-05-16T19:09:18.149Z"
   },
   {
    "duration": 134,
    "start_time": "2023-05-16T19:09:18.179Z"
   },
   {
    "duration": 45,
    "start_time": "2023-05-16T19:09:18.314Z"
   },
   {
    "duration": 13,
    "start_time": "2023-05-16T19:09:18.362Z"
   },
   {
    "duration": 67,
    "start_time": "2023-05-16T19:09:18.385Z"
   },
   {
    "duration": 85,
    "start_time": "2023-05-16T19:09:18.458Z"
   },
   {
    "duration": 145,
    "start_time": "2023-05-16T19:09:18.579Z"
   },
   {
    "duration": 14,
    "start_time": "2023-05-16T19:09:18.726Z"
   },
   {
    "duration": 63,
    "start_time": "2023-05-16T19:09:18.742Z"
   },
   {
    "duration": 28,
    "start_time": "2023-05-16T19:09:18.811Z"
   },
   {
    "duration": 28,
    "start_time": "2023-05-16T19:09:18.841Z"
   },
   {
    "duration": 56,
    "start_time": "2023-05-16T19:09:18.872Z"
   },
   {
    "duration": 174,
    "start_time": "2023-05-16T19:09:18.930Z"
   },
   {
    "duration": 28,
    "start_time": "2023-05-16T19:09:19.107Z"
   },
   {
    "duration": 87,
    "start_time": "2023-05-16T19:09:19.137Z"
   },
   {
    "duration": 26,
    "start_time": "2023-05-16T19:09:19.226Z"
   },
   {
    "duration": 160,
    "start_time": "2023-05-16T19:09:19.254Z"
   },
   {
    "duration": 23,
    "start_time": "2023-05-16T19:09:39.393Z"
   },
   {
    "duration": 30,
    "start_time": "2023-05-16T19:09:40.828Z"
   },
   {
    "duration": 9726,
    "start_time": "2023-05-16T19:10:05.937Z"
   },
   {
    "duration": 33,
    "start_time": "2023-05-16T19:11:02.496Z"
   },
   {
    "duration": 3521,
    "start_time": "2023-05-16T19:11:16.696Z"
   },
   {
    "duration": 3423,
    "start_time": "2023-05-16T19:13:59.003Z"
   },
   {
    "duration": 3476,
    "start_time": "2023-05-16T19:14:53.497Z"
   },
   {
    "duration": 3356,
    "start_time": "2023-05-16T19:15:19.705Z"
   },
   {
    "duration": 3379,
    "start_time": "2023-05-16T19:15:38.189Z"
   },
   {
    "duration": 3633,
    "start_time": "2023-05-16T19:16:24.336Z"
   },
   {
    "duration": 1737,
    "start_time": "2023-05-16T19:17:41.696Z"
   },
   {
    "duration": 525,
    "start_time": "2023-05-16T19:17:43.438Z"
   },
   {
    "duration": 25,
    "start_time": "2023-05-16T19:17:43.964Z"
   },
   {
    "duration": 64,
    "start_time": "2023-05-16T19:17:43.992Z"
   },
   {
    "duration": 91,
    "start_time": "2023-05-16T19:17:44.060Z"
   },
   {
    "duration": 38,
    "start_time": "2023-05-16T19:17:44.153Z"
   },
   {
    "duration": 26,
    "start_time": "2023-05-16T19:17:44.198Z"
   },
   {
    "duration": 33,
    "start_time": "2023-05-16T19:17:44.227Z"
   },
   {
    "duration": 169,
    "start_time": "2023-05-16T19:17:44.262Z"
   },
   {
    "duration": 93,
    "start_time": "2023-05-16T19:17:44.433Z"
   },
   {
    "duration": 72,
    "start_time": "2023-05-16T19:17:44.529Z"
   },
   {
    "duration": 46,
    "start_time": "2023-05-16T19:17:44.611Z"
   },
   {
    "duration": 65,
    "start_time": "2023-05-16T19:17:44.658Z"
   },
   {
    "duration": 81,
    "start_time": "2023-05-16T19:17:44.727Z"
   },
   {
    "duration": 62,
    "start_time": "2023-05-16T19:17:44.809Z"
   },
   {
    "duration": 307,
    "start_time": "2023-05-16T19:17:44.874Z"
   },
   {
    "duration": 212,
    "start_time": "2023-05-16T19:17:45.184Z"
   },
   {
    "duration": 188,
    "start_time": "2023-05-16T19:17:45.398Z"
   },
   {
    "duration": 51,
    "start_time": "2023-05-16T19:17:45.588Z"
   },
   {
    "duration": 180,
    "start_time": "2023-05-16T19:17:45.653Z"
   },
   {
    "duration": 215,
    "start_time": "2023-05-16T19:17:45.835Z"
   },
   {
    "duration": 329,
    "start_time": "2023-05-16T19:17:46.052Z"
   },
   {
    "duration": 48,
    "start_time": "2023-05-16T19:17:46.383Z"
   },
   {
    "duration": 240,
    "start_time": "2023-05-16T19:17:46.446Z"
   },
   {
    "duration": 242,
    "start_time": "2023-05-16T19:17:46.697Z"
   },
   {
    "duration": 191,
    "start_time": "2023-05-16T19:17:46.941Z"
   },
   {
    "duration": 18,
    "start_time": "2023-05-16T19:17:47.135Z"
   },
   {
    "duration": 42,
    "start_time": "2023-05-16T19:17:47.155Z"
   },
   {
    "duration": 51,
    "start_time": "2023-05-16T19:17:47.199Z"
   },
   {
    "duration": 9,
    "start_time": "2023-05-16T19:17:47.253Z"
   },
   {
    "duration": 22,
    "start_time": "2023-05-16T19:17:47.264Z"
   },
   {
    "duration": 66,
    "start_time": "2023-05-16T19:17:47.289Z"
   },
   {
    "duration": 5,
    "start_time": "2023-05-16T19:17:47.357Z"
   },
   {
    "duration": 68,
    "start_time": "2023-05-16T19:17:47.364Z"
   },
   {
    "duration": 30,
    "start_time": "2023-05-16T19:17:47.434Z"
   },
   {
    "duration": 39,
    "start_time": "2023-05-16T19:17:47.466Z"
   },
   {
    "duration": 105,
    "start_time": "2023-05-16T19:17:47.511Z"
   },
   {
    "duration": 69,
    "start_time": "2023-05-16T19:17:47.625Z"
   },
   {
    "duration": 31,
    "start_time": "2023-05-16T19:17:47.703Z"
   },
   {
    "duration": 22,
    "start_time": "2023-05-16T19:17:47.739Z"
   },
   {
    "duration": 126,
    "start_time": "2023-05-16T19:17:47.765Z"
   },
   {
    "duration": 68,
    "start_time": "2023-05-16T19:17:47.904Z"
   },
   {
    "duration": 69,
    "start_time": "2023-05-16T19:17:47.974Z"
   },
   {
    "duration": 49,
    "start_time": "2023-05-16T19:17:48.045Z"
   },
   {
    "duration": 39,
    "start_time": "2023-05-16T19:17:48.098Z"
   },
   {
    "duration": 44,
    "start_time": "2023-05-16T19:17:48.141Z"
   },
   {
    "duration": 57,
    "start_time": "2023-05-16T19:17:48.189Z"
   },
   {
    "duration": 134,
    "start_time": "2023-05-16T19:17:48.249Z"
   },
   {
    "duration": 27,
    "start_time": "2023-05-16T19:17:48.402Z"
   },
   {
    "duration": 35,
    "start_time": "2023-05-16T19:17:48.431Z"
   },
   {
    "duration": 37,
    "start_time": "2023-05-16T19:17:48.468Z"
   },
   {
    "duration": 3771,
    "start_time": "2023-05-16T19:17:48.507Z"
   },
   {
    "duration": 3579,
    "start_time": "2023-05-16T19:18:24.017Z"
   },
   {
    "duration": 3451,
    "start_time": "2023-05-16T19:20:43.916Z"
   },
   {
    "duration": 3374,
    "start_time": "2023-05-16T19:20:57.505Z"
   },
   {
    "duration": 1662,
    "start_time": "2023-05-16T19:21:30.084Z"
   },
   {
    "duration": 507,
    "start_time": "2023-05-16T19:21:31.749Z"
   },
   {
    "duration": 47,
    "start_time": "2023-05-16T19:21:32.258Z"
   },
   {
    "duration": 29,
    "start_time": "2023-05-16T19:21:32.312Z"
   },
   {
    "duration": 16,
    "start_time": "2023-05-16T19:21:32.343Z"
   },
   {
    "duration": 67,
    "start_time": "2023-05-16T19:21:32.361Z"
   },
   {
    "duration": 19,
    "start_time": "2023-05-16T19:21:32.430Z"
   },
   {
    "duration": 18,
    "start_time": "2023-05-16T19:21:32.451Z"
   },
   {
    "duration": 79,
    "start_time": "2023-05-16T19:21:32.471Z"
   },
   {
    "duration": 75,
    "start_time": "2023-05-16T19:21:32.554Z"
   },
   {
    "duration": 72,
    "start_time": "2023-05-16T19:21:32.632Z"
   },
   {
    "duration": 42,
    "start_time": "2023-05-16T19:21:32.710Z"
   },
   {
    "duration": 54,
    "start_time": "2023-05-16T19:21:32.754Z"
   },
   {
    "duration": 81,
    "start_time": "2023-05-16T19:21:32.819Z"
   },
   {
    "duration": 72,
    "start_time": "2023-05-16T19:21:32.906Z"
   },
   {
    "duration": 237,
    "start_time": "2023-05-16T19:21:32.980Z"
   },
   {
    "duration": 165,
    "start_time": "2023-05-16T19:21:33.220Z"
   },
   {
    "duration": 182,
    "start_time": "2023-05-16T19:21:33.388Z"
   },
   {
    "duration": 51,
    "start_time": "2023-05-16T19:21:33.585Z"
   },
   {
    "duration": 193,
    "start_time": "2023-05-16T19:21:33.638Z"
   },
   {
    "duration": 180,
    "start_time": "2023-05-16T19:21:33.837Z"
   },
   {
    "duration": 281,
    "start_time": "2023-05-16T19:21:34.022Z"
   },
   {
    "duration": 45,
    "start_time": "2023-05-16T19:21:34.305Z"
   },
   {
    "duration": 217,
    "start_time": "2023-05-16T19:21:34.352Z"
   },
   {
    "duration": 231,
    "start_time": "2023-05-16T19:21:34.574Z"
   },
   {
    "duration": 190,
    "start_time": "2023-05-16T19:21:34.807Z"
   },
   {
    "duration": 23,
    "start_time": "2023-05-16T19:21:35.001Z"
   },
   {
    "duration": 69,
    "start_time": "2023-05-16T19:21:35.033Z"
   },
   {
    "duration": 54,
    "start_time": "2023-05-16T19:21:35.104Z"
   },
   {
    "duration": 5,
    "start_time": "2023-05-16T19:21:35.160Z"
   },
   {
    "duration": 67,
    "start_time": "2023-05-16T19:21:35.167Z"
   },
   {
    "duration": 23,
    "start_time": "2023-05-16T19:21:35.236Z"
   },
   {
    "duration": 4,
    "start_time": "2023-05-16T19:21:35.262Z"
   },
   {
    "duration": 73,
    "start_time": "2023-05-16T19:21:35.267Z"
   },
   {
    "duration": 135,
    "start_time": "2023-05-16T19:21:35.342Z"
   },
   {
    "duration": 12,
    "start_time": "2023-05-16T19:21:35.479Z"
   },
   {
    "duration": 49,
    "start_time": "2023-05-16T19:21:35.494Z"
   },
   {
    "duration": 53,
    "start_time": "2023-05-16T19:21:35.546Z"
   },
   {
    "duration": 43,
    "start_time": "2023-05-16T19:21:35.605Z"
   },
   {
    "duration": 85,
    "start_time": "2023-05-16T19:21:35.650Z"
   },
   {
    "duration": 72,
    "start_time": "2023-05-16T19:21:35.738Z"
   },
   {
    "duration": 25,
    "start_time": "2023-05-16T19:21:35.816Z"
   },
   {
    "duration": 62,
    "start_time": "2023-05-16T19:21:35.875Z"
   },
   {
    "duration": 31,
    "start_time": "2023-05-16T19:21:35.939Z"
   },
   {
    "duration": 14,
    "start_time": "2023-05-16T19:21:35.980Z"
   },
   {
    "duration": 66,
    "start_time": "2023-05-16T19:21:35.997Z"
   },
   {
    "duration": 76,
    "start_time": "2023-05-16T19:21:36.065Z"
   },
   {
    "duration": 146,
    "start_time": "2023-05-16T19:21:36.181Z"
   },
   {
    "duration": 27,
    "start_time": "2023-05-16T19:21:36.331Z"
   },
   {
    "duration": 57,
    "start_time": "2023-05-16T19:21:36.362Z"
   },
   {
    "duration": 37,
    "start_time": "2023-05-16T19:21:36.422Z"
   },
   {
    "duration": 3584,
    "start_time": "2023-05-16T19:21:36.461Z"
   },
   {
    "duration": 3483,
    "start_time": "2023-05-16T19:22:25.514Z"
   },
   {
    "duration": 59,
    "start_time": "2023-05-16T19:23:07.199Z"
   },
   {
    "duration": 3433,
    "start_time": "2023-05-16T19:23:24.660Z"
   },
   {
    "duration": 20,
    "start_time": "2023-05-16T19:26:19.313Z"
   },
   {
    "duration": 1586,
    "start_time": "2023-05-16T19:27:23.093Z"
   },
   {
    "duration": 3712,
    "start_time": "2023-05-16T19:27:32.819Z"
   },
   {
    "duration": 1271,
    "start_time": "2023-05-17T17:39:33.725Z"
   },
   {
    "duration": 667,
    "start_time": "2023-05-17T17:39:34.998Z"
   },
   {
    "duration": 13,
    "start_time": "2023-05-17T17:39:35.666Z"
   },
   {
    "duration": 8,
    "start_time": "2023-05-17T17:39:35.681Z"
   },
   {
    "duration": 13,
    "start_time": "2023-05-17T17:39:35.691Z"
   },
   {
    "duration": 27,
    "start_time": "2023-05-17T17:39:35.706Z"
   },
   {
    "duration": 11,
    "start_time": "2023-05-17T17:39:35.734Z"
   },
   {
    "duration": 14,
    "start_time": "2023-05-17T17:39:35.747Z"
   },
   {
    "duration": 45,
    "start_time": "2023-05-17T17:39:35.763Z"
   },
   {
    "duration": 35,
    "start_time": "2023-05-17T17:39:35.811Z"
   },
   {
    "duration": 53,
    "start_time": "2023-05-17T17:39:35.848Z"
   },
   {
    "duration": 26,
    "start_time": "2023-05-17T17:39:35.903Z"
   },
   {
    "duration": 24,
    "start_time": "2023-05-17T17:39:35.931Z"
   },
   {
    "duration": 43,
    "start_time": "2023-05-17T17:39:35.957Z"
   },
   {
    "duration": 42,
    "start_time": "2023-05-17T17:39:36.002Z"
   },
   {
    "duration": 187,
    "start_time": "2023-05-17T17:39:36.046Z"
   },
   {
    "duration": 109,
    "start_time": "2023-05-17T17:39:36.235Z"
   },
   {
    "duration": 121,
    "start_time": "2023-05-17T17:39:36.345Z"
   },
   {
    "duration": 37,
    "start_time": "2023-05-17T17:39:36.467Z"
   },
   {
    "duration": 107,
    "start_time": "2023-05-17T17:39:36.505Z"
   },
   {
    "duration": 111,
    "start_time": "2023-05-17T17:39:36.613Z"
   },
   {
    "duration": 161,
    "start_time": "2023-05-17T17:39:36.725Z"
   },
   {
    "duration": 30,
    "start_time": "2023-05-17T17:39:36.888Z"
   },
   {
    "duration": 139,
    "start_time": "2023-05-17T17:39:36.919Z"
   },
   {
    "duration": 123,
    "start_time": "2023-05-17T17:39:37.059Z"
   },
   {
    "duration": 119,
    "start_time": "2023-05-17T17:39:37.185Z"
   },
   {
    "duration": 13,
    "start_time": "2023-05-17T17:39:37.305Z"
   },
   {
    "duration": 13,
    "start_time": "2023-05-17T17:39:37.321Z"
   },
   {
    "duration": 12,
    "start_time": "2023-05-17T17:39:37.336Z"
   },
   {
    "duration": 14,
    "start_time": "2023-05-17T17:39:37.349Z"
   },
   {
    "duration": 20,
    "start_time": "2023-05-17T17:39:37.364Z"
   },
   {
    "duration": 14,
    "start_time": "2023-05-17T17:39:37.385Z"
   },
   {
    "duration": 11,
    "start_time": "2023-05-17T17:39:37.401Z"
   },
   {
    "duration": 12,
    "start_time": "2023-05-17T17:39:37.414Z"
   },
   {
    "duration": 60,
    "start_time": "2023-05-17T17:39:37.427Z"
   },
   {
    "duration": 95,
    "start_time": "2023-05-17T17:39:37.492Z"
   },
   {
    "duration": 6,
    "start_time": "2023-05-17T17:39:37.588Z"
   },
   {
    "duration": 12,
    "start_time": "2023-05-17T17:39:37.595Z"
   },
   {
    "duration": 3,
    "start_time": "2023-05-17T17:39:37.608Z"
   },
   {
    "duration": 14,
    "start_time": "2023-05-17T17:39:37.613Z"
   },
   {
    "duration": 11,
    "start_time": "2023-05-17T17:39:37.628Z"
   },
   {
    "duration": 7,
    "start_time": "2023-05-17T17:39:37.684Z"
   },
   {
    "duration": 92,
    "start_time": "2023-05-17T17:39:37.693Z"
   },
   {
    "duration": 10,
    "start_time": "2023-05-17T17:39:37.786Z"
   },
   {
    "duration": 6,
    "start_time": "2023-05-17T17:39:37.797Z"
   },
   {
    "duration": 19,
    "start_time": "2023-05-17T17:39:37.804Z"
   },
   {
    "duration": 12,
    "start_time": "2023-05-17T17:39:37.825Z"
   },
   {
    "duration": 46,
    "start_time": "2023-05-17T17:39:37.839Z"
   },
   {
    "duration": 97,
    "start_time": "2023-05-17T17:39:37.889Z"
   },
   {
    "duration": 28,
    "start_time": "2023-05-17T17:39:37.988Z"
   },
   {
    "duration": 15,
    "start_time": "2023-05-17T17:39:38.017Z"
   },
   {
    "duration": 2043,
    "start_time": "2023-05-17T17:39:38.033Z"
   },
   {
    "duration": 1181,
    "start_time": "2023-05-17T17:55:38.319Z"
   },
   {
    "duration": 354,
    "start_time": "2023-05-17T17:55:39.502Z"
   },
   {
    "duration": 12,
    "start_time": "2023-05-17T17:55:39.859Z"
   },
   {
    "duration": 21,
    "start_time": "2023-05-17T17:55:39.873Z"
   },
   {
    "duration": 10,
    "start_time": "2023-05-17T17:55:39.896Z"
   },
   {
    "duration": 22,
    "start_time": "2023-05-17T17:55:39.907Z"
   },
   {
    "duration": 12,
    "start_time": "2023-05-17T17:55:39.931Z"
   },
   {
    "duration": 12,
    "start_time": "2023-05-17T17:55:39.945Z"
   },
   {
    "duration": 58,
    "start_time": "2023-05-17T17:55:39.958Z"
   },
   {
    "duration": 35,
    "start_time": "2023-05-17T17:55:40.018Z"
   },
   {
    "duration": 50,
    "start_time": "2023-05-17T17:55:40.055Z"
   },
   {
    "duration": 25,
    "start_time": "2023-05-17T17:55:40.107Z"
   },
   {
    "duration": 60,
    "start_time": "2023-05-17T17:55:40.134Z"
   },
   {
    "duration": 29,
    "start_time": "2023-05-17T17:55:40.198Z"
   },
   {
    "duration": 59,
    "start_time": "2023-05-17T17:55:40.228Z"
   },
   {
    "duration": 154,
    "start_time": "2023-05-17T17:55:40.288Z"
   },
   {
    "duration": 118,
    "start_time": "2023-05-17T17:55:40.444Z"
   },
   {
    "duration": 122,
    "start_time": "2023-05-17T17:55:40.564Z"
   },
   {
    "duration": 32,
    "start_time": "2023-05-17T17:55:40.687Z"
   },
   {
    "duration": 119,
    "start_time": "2023-05-17T17:55:40.721Z"
   },
   {
    "duration": 128,
    "start_time": "2023-05-17T17:55:40.842Z"
   },
   {
    "duration": 179,
    "start_time": "2023-05-17T17:55:40.972Z"
   },
   {
    "duration": 41,
    "start_time": "2023-05-17T17:55:41.152Z"
   },
   {
    "duration": 128,
    "start_time": "2023-05-17T17:55:41.195Z"
   },
   {
    "duration": 121,
    "start_time": "2023-05-17T17:55:41.325Z"
   },
   {
    "duration": 117,
    "start_time": "2023-05-17T17:55:41.448Z"
   },
   {
    "duration": 19,
    "start_time": "2023-05-17T17:55:41.566Z"
   },
   {
    "duration": 13,
    "start_time": "2023-05-17T17:55:41.586Z"
   },
   {
    "duration": 16,
    "start_time": "2023-05-17T17:55:41.601Z"
   },
   {
    "duration": 4,
    "start_time": "2023-05-17T17:55:41.618Z"
   },
   {
    "duration": 8,
    "start_time": "2023-05-17T17:55:41.624Z"
   },
   {
    "duration": 16,
    "start_time": "2023-05-17T17:55:41.633Z"
   },
   {
    "duration": 4,
    "start_time": "2023-05-17T17:55:41.650Z"
   },
   {
    "duration": 38,
    "start_time": "2023-05-17T17:55:41.655Z"
   },
   {
    "duration": 17,
    "start_time": "2023-05-17T17:55:41.695Z"
   },
   {
    "duration": 73,
    "start_time": "2023-05-17T17:55:41.713Z"
   },
   {
    "duration": 101,
    "start_time": "2023-05-17T17:55:41.788Z"
   },
   {
    "duration": 17,
    "start_time": "2023-05-17T17:55:41.890Z"
   },
   {
    "duration": 4,
    "start_time": "2023-05-17T17:55:41.909Z"
   },
   {
    "duration": 13,
    "start_time": "2023-05-17T17:55:41.915Z"
   },
   {
    "duration": 59,
    "start_time": "2023-05-17T17:55:41.933Z"
   },
   {
    "duration": 91,
    "start_time": "2023-05-17T17:55:41.994Z"
   },
   {
    "duration": 8,
    "start_time": "2023-05-17T17:55:42.087Z"
   },
   {
    "duration": 13,
    "start_time": "2023-05-17T17:55:42.096Z"
   },
   {
    "duration": 4,
    "start_time": "2023-05-17T17:55:42.111Z"
   },
   {
    "duration": 14,
    "start_time": "2023-05-17T17:55:42.116Z"
   },
   {
    "duration": 158,
    "start_time": "2023-05-17T17:55:42.131Z"
   },
   {
    "duration": 8,
    "start_time": "2023-05-17T17:55:42.291Z"
   },
   {
    "duration": 103,
    "start_time": "2023-05-17T17:55:42.302Z"
   },
   {
    "duration": 36,
    "start_time": "2023-05-17T17:55:42.407Z"
   },
   {
    "duration": 21,
    "start_time": "2023-05-17T17:55:42.445Z"
   },
   {
    "duration": 2446,
    "start_time": "2023-05-17T17:55:42.468Z"
   },
   {
    "duration": 1641,
    "start_time": "2023-05-17T18:01:30.735Z"
   },
   {
    "duration": 328,
    "start_time": "2023-05-17T18:01:32.378Z"
   },
   {
    "duration": 11,
    "start_time": "2023-05-17T18:01:32.708Z"
   },
   {
    "duration": 64,
    "start_time": "2023-05-17T18:01:32.720Z"
   },
   {
    "duration": 24,
    "start_time": "2023-05-17T18:01:32.786Z"
   },
   {
    "duration": 29,
    "start_time": "2023-05-17T18:01:32.812Z"
   },
   {
    "duration": 11,
    "start_time": "2023-05-17T18:01:32.843Z"
   },
   {
    "duration": 11,
    "start_time": "2023-05-17T18:01:32.855Z"
   },
   {
    "duration": 69,
    "start_time": "2023-05-17T18:01:32.867Z"
   },
   {
    "duration": 34,
    "start_time": "2023-05-17T18:01:32.937Z"
   },
   {
    "duration": 48,
    "start_time": "2023-05-17T18:01:32.973Z"
   },
   {
    "duration": 61,
    "start_time": "2023-05-17T18:01:33.023Z"
   },
   {
    "duration": 30,
    "start_time": "2023-05-17T18:01:33.086Z"
   },
   {
    "duration": 69,
    "start_time": "2023-05-17T18:01:33.120Z"
   },
   {
    "duration": 76,
    "start_time": "2023-05-17T18:01:33.191Z"
   },
   {
    "duration": 144,
    "start_time": "2023-05-17T18:01:33.269Z"
   },
   {
    "duration": 116,
    "start_time": "2023-05-17T18:01:33.415Z"
   },
   {
    "duration": 117,
    "start_time": "2023-05-17T18:01:33.533Z"
   },
   {
    "duration": 39,
    "start_time": "2023-05-17T18:01:33.651Z"
   },
   {
    "duration": 114,
    "start_time": "2023-05-17T18:01:33.691Z"
   },
   {
    "duration": 110,
    "start_time": "2023-05-17T18:01:33.807Z"
   },
   {
    "duration": 199,
    "start_time": "2023-05-17T18:01:33.919Z"
   },
   {
    "duration": 33,
    "start_time": "2023-05-17T18:01:34.120Z"
   },
   {
    "duration": 151,
    "start_time": "2023-05-17T18:01:34.156Z"
   },
   {
    "duration": 137,
    "start_time": "2023-05-17T18:01:34.309Z"
   },
   {
    "duration": 119,
    "start_time": "2023-05-17T18:01:34.447Z"
   },
   {
    "duration": 20,
    "start_time": "2023-05-17T18:01:34.567Z"
   },
   {
    "duration": 12,
    "start_time": "2023-05-17T18:01:34.588Z"
   },
   {
    "duration": 13,
    "start_time": "2023-05-17T18:01:34.601Z"
   },
   {
    "duration": 4,
    "start_time": "2023-05-17T18:01:34.616Z"
   },
   {
    "duration": 11,
    "start_time": "2023-05-17T18:01:34.621Z"
   },
   {
    "duration": 17,
    "start_time": "2023-05-17T18:01:34.634Z"
   },
   {
    "duration": 12,
    "start_time": "2023-05-17T18:01:34.652Z"
   },
   {
    "duration": 28,
    "start_time": "2023-05-17T18:01:34.665Z"
   },
   {
    "duration": 19,
    "start_time": "2023-05-17T18:01:34.694Z"
   },
   {
    "duration": 5,
    "start_time": "2023-05-17T18:01:34.884Z"
   },
   {
    "duration": 19,
    "start_time": "2023-05-17T18:01:34.891Z"
   },
   {
    "duration": 13,
    "start_time": "2023-05-17T18:01:34.911Z"
   },
   {
    "duration": 15,
    "start_time": "2023-05-17T18:01:34.925Z"
   },
   {
    "duration": 21,
    "start_time": "2023-05-17T18:01:34.942Z"
   },
   {
    "duration": 41,
    "start_time": "2023-05-17T18:01:34.967Z"
   },
   {
    "duration": 88,
    "start_time": "2023-05-17T18:01:35.010Z"
   },
   {
    "duration": 93,
    "start_time": "2023-05-17T18:01:35.100Z"
   },
   {
    "duration": 26,
    "start_time": "2023-05-17T18:01:35.195Z"
   },
   {
    "duration": 4,
    "start_time": "2023-05-17T18:01:35.222Z"
   },
   {
    "duration": 53,
    "start_time": "2023-05-17T18:01:35.227Z"
   },
   {
    "duration": 14,
    "start_time": "2023-05-17T18:01:35.281Z"
   },
   {
    "duration": 88,
    "start_time": "2023-05-17T18:01:35.297Z"
   },
   {
    "duration": 3,
    "start_time": "2023-05-17T18:01:35.387Z"
   },
   {
    "duration": 107,
    "start_time": "2023-05-17T18:01:35.392Z"
   },
   {
    "duration": 35,
    "start_time": "2023-05-17T18:01:35.501Z"
   },
   {
    "duration": 2264,
    "start_time": "2023-05-17T18:01:35.538Z"
   },
   {
    "duration": 1921,
    "start_time": "2023-05-18T10:34:35.284Z"
   },
   {
    "duration": 344,
    "start_time": "2023-05-18T10:34:37.207Z"
   },
   {
    "duration": 13,
    "start_time": "2023-05-18T10:34:37.552Z"
   },
   {
    "duration": 28,
    "start_time": "2023-05-18T10:34:37.566Z"
   },
   {
    "duration": 23,
    "start_time": "2023-05-18T10:34:37.595Z"
   },
   {
    "duration": 29,
    "start_time": "2023-05-18T10:34:37.619Z"
   },
   {
    "duration": 15,
    "start_time": "2023-05-18T10:34:37.649Z"
   },
   {
    "duration": 11,
    "start_time": "2023-05-18T10:34:37.666Z"
   },
   {
    "duration": 41,
    "start_time": "2023-05-18T10:34:37.678Z"
   },
   {
    "duration": 35,
    "start_time": "2023-05-18T10:34:37.722Z"
   },
   {
    "duration": 58,
    "start_time": "2023-05-18T10:34:37.758Z"
   },
   {
    "duration": 27,
    "start_time": "2023-05-18T10:34:37.818Z"
   },
   {
    "duration": 57,
    "start_time": "2023-05-18T10:34:37.846Z"
   },
   {
    "duration": 24,
    "start_time": "2023-05-18T10:34:37.905Z"
   },
   {
    "duration": 34,
    "start_time": "2023-05-18T10:34:37.931Z"
   },
   {
    "duration": 163,
    "start_time": "2023-05-18T10:34:37.966Z"
   },
   {
    "duration": 149,
    "start_time": "2023-05-18T10:34:38.130Z"
   },
   {
    "duration": 142,
    "start_time": "2023-05-18T10:34:38.280Z"
   },
   {
    "duration": 33,
    "start_time": "2023-05-18T10:34:38.423Z"
   },
   {
    "duration": 125,
    "start_time": "2023-05-18T10:34:38.458Z"
   },
   {
    "duration": 112,
    "start_time": "2023-05-18T10:34:38.599Z"
   },
   {
    "duration": 192,
    "start_time": "2023-05-18T10:34:38.712Z"
   },
   {
    "duration": 31,
    "start_time": "2023-05-18T10:34:38.906Z"
   },
   {
    "duration": 133,
    "start_time": "2023-05-18T10:34:38.939Z"
   },
   {
    "duration": 141,
    "start_time": "2023-05-18T10:34:39.073Z"
   },
   {
    "duration": 133,
    "start_time": "2023-05-18T10:34:39.215Z"
   },
   {
    "duration": 14,
    "start_time": "2023-05-18T10:34:39.350Z"
   },
   {
    "duration": 33,
    "start_time": "2023-05-18T10:34:39.368Z"
   },
   {
    "duration": 19,
    "start_time": "2023-05-18T10:34:39.404Z"
   },
   {
    "duration": 4,
    "start_time": "2023-05-18T10:34:39.424Z"
   },
   {
    "duration": 9,
    "start_time": "2023-05-18T10:34:39.430Z"
   },
   {
    "duration": 14,
    "start_time": "2023-05-18T10:34:39.440Z"
   },
   {
    "duration": 3,
    "start_time": "2023-05-18T10:34:39.456Z"
   },
   {
    "duration": 28,
    "start_time": "2023-05-18T10:34:39.461Z"
   },
   {
    "duration": 102,
    "start_time": "2023-05-18T10:34:39.499Z"
   },
   {
    "duration": 9,
    "start_time": "2023-05-18T10:34:39.603Z"
   },
   {
    "duration": 25,
    "start_time": "2023-05-18T10:34:39.685Z"
   },
   {
    "duration": 13,
    "start_time": "2023-05-18T10:34:39.712Z"
   },
   {
    "duration": 4,
    "start_time": "2023-05-18T10:34:39.727Z"
   },
   {
    "duration": 19,
    "start_time": "2023-05-18T10:34:39.732Z"
   },
   {
    "duration": 146,
    "start_time": "2023-05-18T10:34:39.752Z"
   },
   {
    "duration": 5,
    "start_time": "2023-05-18T10:34:39.904Z"
   },
   {
    "duration": 10,
    "start_time": "2023-05-18T10:34:39.911Z"
   },
   {
    "duration": 66,
    "start_time": "2023-05-18T10:34:39.923Z"
   },
   {
    "duration": 5,
    "start_time": "2023-05-18T10:34:39.999Z"
   },
   {
    "duration": 21,
    "start_time": "2023-05-18T10:34:40.005Z"
   },
   {
    "duration": 88,
    "start_time": "2023-05-18T10:34:40.027Z"
   },
   {
    "duration": 4,
    "start_time": "2023-05-18T10:34:40.185Z"
   },
   {
    "duration": 25,
    "start_time": "2023-05-18T10:34:40.190Z"
   },
   {
    "duration": 25,
    "start_time": "2023-05-18T10:34:40.217Z"
   },
   {
    "duration": 57,
    "start_time": "2023-05-18T10:34:40.245Z"
   },
   {
    "duration": 2205,
    "start_time": "2023-05-18T10:34:40.307Z"
   },
   {
    "duration": 21,
    "start_time": "2023-05-18T10:39:19.504Z"
   },
   {
    "duration": 5696,
    "start_time": "2023-05-18T10:39:23.422Z"
   },
   {
    "duration": 19,
    "start_time": "2023-05-18T10:39:29.525Z"
   },
   {
    "duration": 2293,
    "start_time": "2023-05-18T10:40:51.904Z"
   },
   {
    "duration": 3,
    "start_time": "2023-05-18T10:41:42.063Z"
   },
   {
    "duration": 51,
    "start_time": "2023-05-18T17:16:53.477Z"
   },
   {
    "duration": 1690,
    "start_time": "2023-05-18T17:17:00.555Z"
   },
   {
    "duration": 1689,
    "start_time": "2023-05-18T17:17:02.248Z"
   },
   {
    "duration": 123,
    "start_time": "2023-05-18T17:17:03.939Z"
   },
   {
    "duration": 0,
    "start_time": "2023-05-18T17:17:04.067Z"
   },
   {
    "duration": 0,
    "start_time": "2023-05-18T17:17:04.068Z"
   },
   {
    "duration": 0,
    "start_time": "2023-05-18T17:17:04.069Z"
   },
   {
    "duration": 0,
    "start_time": "2023-05-18T17:17:04.070Z"
   },
   {
    "duration": 0,
    "start_time": "2023-05-18T17:17:04.071Z"
   },
   {
    "duration": 0,
    "start_time": "2023-05-18T17:17:04.072Z"
   },
   {
    "duration": 0,
    "start_time": "2023-05-18T17:17:04.073Z"
   },
   {
    "duration": 0,
    "start_time": "2023-05-18T17:17:04.074Z"
   },
   {
    "duration": 0,
    "start_time": "2023-05-18T17:17:04.075Z"
   },
   {
    "duration": 1,
    "start_time": "2023-05-18T17:17:04.076Z"
   },
   {
    "duration": 0,
    "start_time": "2023-05-18T17:17:04.078Z"
   },
   {
    "duration": 0,
    "start_time": "2023-05-18T17:17:04.079Z"
   },
   {
    "duration": 0,
    "start_time": "2023-05-18T17:17:04.080Z"
   },
   {
    "duration": 0,
    "start_time": "2023-05-18T17:17:04.081Z"
   },
   {
    "duration": 0,
    "start_time": "2023-05-18T17:17:04.082Z"
   },
   {
    "duration": 0,
    "start_time": "2023-05-18T17:17:04.083Z"
   },
   {
    "duration": 0,
    "start_time": "2023-05-18T17:17:04.084Z"
   },
   {
    "duration": 0,
    "start_time": "2023-05-18T17:17:04.085Z"
   },
   {
    "duration": 0,
    "start_time": "2023-05-18T17:17:04.086Z"
   },
   {
    "duration": 0,
    "start_time": "2023-05-18T17:17:04.087Z"
   },
   {
    "duration": 0,
    "start_time": "2023-05-18T17:17:04.088Z"
   },
   {
    "duration": 0,
    "start_time": "2023-05-18T17:17:04.089Z"
   },
   {
    "duration": 0,
    "start_time": "2023-05-18T17:17:04.090Z"
   },
   {
    "duration": 0,
    "start_time": "2023-05-18T17:17:04.091Z"
   },
   {
    "duration": 0,
    "start_time": "2023-05-18T17:17:04.091Z"
   },
   {
    "duration": 0,
    "start_time": "2023-05-18T17:17:04.092Z"
   },
   {
    "duration": 0,
    "start_time": "2023-05-18T17:17:04.092Z"
   },
   {
    "duration": 0,
    "start_time": "2023-05-18T17:17:04.093Z"
   },
   {
    "duration": 0,
    "start_time": "2023-05-18T17:17:04.125Z"
   },
   {
    "duration": 0,
    "start_time": "2023-05-18T17:17:04.126Z"
   },
   {
    "duration": 0,
    "start_time": "2023-05-18T17:17:04.127Z"
   },
   {
    "duration": 0,
    "start_time": "2023-05-18T17:17:04.128Z"
   },
   {
    "duration": 0,
    "start_time": "2023-05-18T17:17:04.129Z"
   },
   {
    "duration": 0,
    "start_time": "2023-05-18T17:17:04.130Z"
   },
   {
    "duration": 0,
    "start_time": "2023-05-18T17:17:04.132Z"
   },
   {
    "duration": 0,
    "start_time": "2023-05-18T17:17:04.133Z"
   },
   {
    "duration": 0,
    "start_time": "2023-05-18T17:17:04.134Z"
   },
   {
    "duration": 0,
    "start_time": "2023-05-18T17:17:04.135Z"
   },
   {
    "duration": 0,
    "start_time": "2023-05-18T17:17:04.136Z"
   },
   {
    "duration": 0,
    "start_time": "2023-05-18T17:17:04.137Z"
   },
   {
    "duration": 0,
    "start_time": "2023-05-18T17:17:04.138Z"
   },
   {
    "duration": 0,
    "start_time": "2023-05-18T17:17:04.140Z"
   },
   {
    "duration": 0,
    "start_time": "2023-05-18T17:17:04.141Z"
   },
   {
    "duration": 0,
    "start_time": "2023-05-18T17:17:04.142Z"
   },
   {
    "duration": 0,
    "start_time": "2023-05-18T17:17:04.143Z"
   },
   {
    "duration": 0,
    "start_time": "2023-05-18T17:17:04.144Z"
   },
   {
    "duration": 0,
    "start_time": "2023-05-18T17:17:04.145Z"
   },
   {
    "duration": 0,
    "start_time": "2023-05-18T17:17:04.147Z"
   },
   {
    "duration": 0,
    "start_time": "2023-05-18T17:17:04.147Z"
   },
   {
    "duration": 0,
    "start_time": "2023-05-18T17:17:04.149Z"
   },
   {
    "duration": 9,
    "start_time": "2023-05-18T17:21:15.787Z"
   },
   {
    "duration": 12,
    "start_time": "2023-05-18T17:21:20.707Z"
   },
   {
    "duration": 15,
    "start_time": "2023-05-18T17:21:28.287Z"
   },
   {
    "duration": 22,
    "start_time": "2023-05-18T17:21:56.726Z"
   },
   {
    "duration": 18,
    "start_time": "2023-05-18T17:24:09.716Z"
   },
   {
    "duration": 12,
    "start_time": "2023-05-18T17:24:55.167Z"
   },
   {
    "duration": 13,
    "start_time": "2023-05-18T17:25:15.917Z"
   },
   {
    "duration": 12,
    "start_time": "2023-05-18T17:25:34.986Z"
   },
   {
    "duration": 4,
    "start_time": "2023-05-18T17:27:12.926Z"
   },
   {
    "duration": 3,
    "start_time": "2023-05-18T17:29:30.856Z"
   },
   {
    "duration": 13,
    "start_time": "2023-05-18T17:29:41.458Z"
   },
   {
    "duration": 13,
    "start_time": "2023-05-18T17:29:46.955Z"
   },
   {
    "duration": 12,
    "start_time": "2023-05-18T17:30:28.606Z"
   },
   {
    "duration": 3,
    "start_time": "2023-05-18T17:30:33.509Z"
   },
   {
    "duration": 3,
    "start_time": "2023-05-18T17:30:48.950Z"
   },
   {
    "duration": 4,
    "start_time": "2023-05-18T17:30:57.707Z"
   },
   {
    "duration": 4,
    "start_time": "2023-05-18T17:33:08.703Z"
   },
   {
    "duration": 3,
    "start_time": "2023-05-18T17:33:14.023Z"
   },
   {
    "duration": 4,
    "start_time": "2023-05-18T17:33:26.554Z"
   },
   {
    "duration": 13,
    "start_time": "2023-05-18T17:33:42.593Z"
   },
   {
    "duration": 390,
    "start_time": "2023-05-18T17:33:45.295Z"
   },
   {
    "duration": 13,
    "start_time": "2023-05-18T17:33:45.755Z"
   },
   {
    "duration": 10,
    "start_time": "2023-05-18T17:35:22.512Z"
   },
   {
    "duration": 4,
    "start_time": "2023-05-18T17:35:47.489Z"
   },
   {
    "duration": 3,
    "start_time": "2023-05-18T17:36:35.456Z"
   },
   {
    "duration": 3,
    "start_time": "2023-05-18T17:37:10.756Z"
   },
   {
    "duration": 3,
    "start_time": "2023-05-18T17:37:21.494Z"
   },
   {
    "duration": 4,
    "start_time": "2023-05-18T17:37:26.826Z"
   },
   {
    "duration": 10,
    "start_time": "2023-05-18T17:38:02.719Z"
   },
   {
    "duration": 1390,
    "start_time": "2023-05-18T17:38:10.493Z"
   },
   {
    "duration": 395,
    "start_time": "2023-05-18T17:38:11.885Z"
   },
   {
    "duration": 109,
    "start_time": "2023-05-18T17:38:12.282Z"
   },
   {
    "duration": 0,
    "start_time": "2023-05-18T17:38:12.394Z"
   },
   {
    "duration": 0,
    "start_time": "2023-05-18T17:38:12.395Z"
   },
   {
    "duration": 0,
    "start_time": "2023-05-18T17:38:12.398Z"
   },
   {
    "duration": 0,
    "start_time": "2023-05-18T17:38:12.400Z"
   },
   {
    "duration": 0,
    "start_time": "2023-05-18T17:38:12.401Z"
   },
   {
    "duration": 0,
    "start_time": "2023-05-18T17:38:12.402Z"
   },
   {
    "duration": 0,
    "start_time": "2023-05-18T17:38:12.403Z"
   },
   {
    "duration": 0,
    "start_time": "2023-05-18T17:38:12.425Z"
   },
   {
    "duration": 0,
    "start_time": "2023-05-18T17:38:12.427Z"
   },
   {
    "duration": 0,
    "start_time": "2023-05-18T17:38:12.428Z"
   },
   {
    "duration": 0,
    "start_time": "2023-05-18T17:38:12.429Z"
   },
   {
    "duration": 0,
    "start_time": "2023-05-18T17:38:12.430Z"
   },
   {
    "duration": 0,
    "start_time": "2023-05-18T17:38:12.431Z"
   },
   {
    "duration": 0,
    "start_time": "2023-05-18T17:38:12.432Z"
   },
   {
    "duration": 0,
    "start_time": "2023-05-18T17:38:12.433Z"
   },
   {
    "duration": 0,
    "start_time": "2023-05-18T17:38:12.434Z"
   },
   {
    "duration": 0,
    "start_time": "2023-05-18T17:38:12.435Z"
   },
   {
    "duration": 0,
    "start_time": "2023-05-18T17:38:12.436Z"
   },
   {
    "duration": 0,
    "start_time": "2023-05-18T17:38:12.437Z"
   },
   {
    "duration": 0,
    "start_time": "2023-05-18T17:38:12.438Z"
   },
   {
    "duration": 0,
    "start_time": "2023-05-18T17:38:12.439Z"
   },
   {
    "duration": 0,
    "start_time": "2023-05-18T17:38:12.441Z"
   },
   {
    "duration": 0,
    "start_time": "2023-05-18T17:38:12.442Z"
   },
   {
    "duration": 0,
    "start_time": "2023-05-18T17:38:12.444Z"
   },
   {
    "duration": 0,
    "start_time": "2023-05-18T17:38:12.445Z"
   },
   {
    "duration": 0,
    "start_time": "2023-05-18T17:38:12.447Z"
   },
   {
    "duration": 0,
    "start_time": "2023-05-18T17:38:12.448Z"
   },
   {
    "duration": 0,
    "start_time": "2023-05-18T17:38:12.450Z"
   },
   {
    "duration": 0,
    "start_time": "2023-05-18T17:38:12.451Z"
   },
   {
    "duration": 0,
    "start_time": "2023-05-18T17:38:12.452Z"
   },
   {
    "duration": 0,
    "start_time": "2023-05-18T17:38:12.453Z"
   },
   {
    "duration": 0,
    "start_time": "2023-05-18T17:38:12.455Z"
   },
   {
    "duration": 0,
    "start_time": "2023-05-18T17:38:12.456Z"
   },
   {
    "duration": 0,
    "start_time": "2023-05-18T17:38:12.458Z"
   },
   {
    "duration": 0,
    "start_time": "2023-05-18T17:38:12.459Z"
   },
   {
    "duration": 0,
    "start_time": "2023-05-18T17:38:12.460Z"
   },
   {
    "duration": 0,
    "start_time": "2023-05-18T17:38:12.466Z"
   },
   {
    "duration": 0,
    "start_time": "2023-05-18T17:38:12.467Z"
   },
   {
    "duration": 0,
    "start_time": "2023-05-18T17:38:12.468Z"
   },
   {
    "duration": 0,
    "start_time": "2023-05-18T17:38:12.469Z"
   },
   {
    "duration": 0,
    "start_time": "2023-05-18T17:38:12.526Z"
   },
   {
    "duration": 0,
    "start_time": "2023-05-18T17:38:12.527Z"
   },
   {
    "duration": 0,
    "start_time": "2023-05-18T17:38:12.528Z"
   },
   {
    "duration": 0,
    "start_time": "2023-05-18T17:38:12.529Z"
   },
   {
    "duration": 0,
    "start_time": "2023-05-18T17:38:12.530Z"
   },
   {
    "duration": 0,
    "start_time": "2023-05-18T17:38:12.531Z"
   },
   {
    "duration": 0,
    "start_time": "2023-05-18T17:38:12.532Z"
   },
   {
    "duration": 0,
    "start_time": "2023-05-18T17:38:12.533Z"
   },
   {
    "duration": 0,
    "start_time": "2023-05-18T17:38:12.534Z"
   },
   {
    "duration": 0,
    "start_time": "2023-05-18T17:38:12.535Z"
   },
   {
    "duration": 10,
    "start_time": "2023-05-18T17:40:03.481Z"
   },
   {
    "duration": 10,
    "start_time": "2023-05-18T17:40:14.620Z"
   },
   {
    "duration": 9,
    "start_time": "2023-05-18T17:40:23.192Z"
   },
   {
    "duration": 3,
    "start_time": "2023-05-18T17:40:38.887Z"
   },
   {
    "duration": 18,
    "start_time": "2023-05-18T17:40:46.257Z"
   },
   {
    "duration": 30,
    "start_time": "2023-05-18T17:41:01.282Z"
   },
   {
    "duration": 41,
    "start_time": "2023-05-18T17:41:36.225Z"
   },
   {
    "duration": 16,
    "start_time": "2023-05-18T17:41:40.644Z"
   },
   {
    "duration": 47,
    "start_time": "2023-05-18T17:42:11.966Z"
   },
   {
    "duration": 4,
    "start_time": "2023-05-18T17:47:38.403Z"
   },
   {
    "duration": 91,
    "start_time": "2023-05-18T17:47:46.402Z"
   },
   {
    "duration": 96,
    "start_time": "2023-05-18T17:47:50.609Z"
   },
   {
    "duration": 4,
    "start_time": "2023-05-18T17:47:54.017Z"
   },
   {
    "duration": 5,
    "start_time": "2023-05-18T17:48:15.944Z"
   },
   {
    "duration": 10,
    "start_time": "2023-05-18T17:49:04.858Z"
   },
   {
    "duration": 95,
    "start_time": "2023-05-18T17:49:21.420Z"
   },
   {
    "duration": 407,
    "start_time": "2023-05-18T17:49:24.344Z"
   },
   {
    "duration": 153,
    "start_time": "2023-05-18T17:49:42.018Z"
   },
   {
    "duration": 131,
    "start_time": "2023-05-18T17:51:06.390Z"
   },
   {
    "duration": 210,
    "start_time": "2023-05-18T17:51:20.727Z"
   },
   {
    "duration": 76,
    "start_time": "2023-05-18T17:52:52.894Z"
   },
   {
    "duration": 78,
    "start_time": "2023-05-18T17:53:01.348Z"
   },
   {
    "duration": 20,
    "start_time": "2023-05-18T17:53:06.055Z"
   },
   {
    "duration": 25,
    "start_time": "2023-05-18T17:54:52.893Z"
   },
   {
    "duration": 160,
    "start_time": "2023-05-18T17:55:31.014Z"
   },
   {
    "duration": 88,
    "start_time": "2023-05-18T17:57:18.470Z"
   },
   {
    "duration": 81,
    "start_time": "2023-05-18T17:57:28.913Z"
   },
   {
    "duration": 10,
    "start_time": "2023-05-18T18:05:34.174Z"
   },
   {
    "duration": 1468,
    "start_time": "2023-05-18T18:05:40.155Z"
   },
   {
    "duration": 424,
    "start_time": "2023-05-18T18:05:41.625Z"
   },
   {
    "duration": 34,
    "start_time": "2023-05-18T18:05:42.053Z"
   },
   {
    "duration": 65,
    "start_time": "2023-05-18T18:05:42.089Z"
   },
   {
    "duration": 147,
    "start_time": "2023-05-18T18:05:42.158Z"
   },
   {
    "duration": 3,
    "start_time": "2023-05-18T18:05:42.307Z"
   },
   {
    "duration": 3,
    "start_time": "2023-05-18T18:05:42.325Z"
   },
   {
    "duration": 5,
    "start_time": "2023-05-18T18:05:42.330Z"
   },
   {
    "duration": 125,
    "start_time": "2023-05-18T18:05:42.337Z"
   },
   {
    "duration": 42,
    "start_time": "2023-05-18T18:05:42.467Z"
   },
   {
    "duration": 211,
    "start_time": "2023-05-18T18:05:42.524Z"
   },
   {
    "duration": 188,
    "start_time": "2023-05-18T18:05:42.738Z"
   },
   {
    "duration": 179,
    "start_time": "2023-05-18T18:05:42.928Z"
   },
   {
    "duration": 53,
    "start_time": "2023-05-18T18:05:43.112Z"
   },
   {
    "duration": 150,
    "start_time": "2023-05-18T18:05:43.167Z"
   },
   {
    "duration": 180,
    "start_time": "2023-05-18T18:05:43.325Z"
   },
   {
    "duration": 258,
    "start_time": "2023-05-18T18:05:43.508Z"
   },
   {
    "duration": 35,
    "start_time": "2023-05-18T18:05:43.769Z"
   },
   {
    "duration": 178,
    "start_time": "2023-05-18T18:05:43.806Z"
   },
   {
    "duration": 152,
    "start_time": "2023-05-18T18:05:43.986Z"
   },
   {
    "duration": 146,
    "start_time": "2023-05-18T18:05:44.140Z"
   },
   {
    "duration": 15,
    "start_time": "2023-05-18T18:05:44.288Z"
   },
   {
    "duration": 31,
    "start_time": "2023-05-18T18:05:44.304Z"
   },
   {
    "duration": 21,
    "start_time": "2023-05-18T18:05:44.339Z"
   },
   {
    "duration": 9,
    "start_time": "2023-05-18T18:05:44.362Z"
   },
   {
    "duration": 15,
    "start_time": "2023-05-18T18:05:44.374Z"
   },
   {
    "duration": 34,
    "start_time": "2023-05-18T18:05:44.391Z"
   },
   {
    "duration": 5,
    "start_time": "2023-05-18T18:05:44.428Z"
   },
   {
    "duration": 21,
    "start_time": "2023-05-18T18:05:44.435Z"
   },
   {
    "duration": 67,
    "start_time": "2023-05-18T18:05:44.458Z"
   },
   {
    "duration": 8,
    "start_time": "2023-05-18T18:05:44.528Z"
   },
   {
    "duration": 91,
    "start_time": "2023-05-18T18:05:44.538Z"
   },
   {
    "duration": 18,
    "start_time": "2023-05-18T18:05:44.631Z"
   },
   {
    "duration": 5,
    "start_time": "2023-05-18T18:05:44.651Z"
   },
   {
    "duration": 16,
    "start_time": "2023-05-18T18:05:44.659Z"
   },
   {
    "duration": 57,
    "start_time": "2023-05-18T18:05:44.676Z"
   },
   {
    "duration": 9,
    "start_time": "2023-05-18T18:05:44.735Z"
   },
   {
    "duration": 10,
    "start_time": "2023-05-18T18:05:44.828Z"
   },
   {
    "duration": 20,
    "start_time": "2023-05-18T18:05:44.840Z"
   },
   {
    "duration": 5,
    "start_time": "2023-05-18T18:05:44.862Z"
   },
   {
    "duration": 18,
    "start_time": "2023-05-18T18:05:44.929Z"
   },
   {
    "duration": 82,
    "start_time": "2023-05-18T18:05:44.949Z"
   },
   {
    "duration": 7,
    "start_time": "2023-05-18T18:05:45.035Z"
   },
   {
    "duration": 89,
    "start_time": "2023-05-18T18:05:45.045Z"
   },
   {
    "duration": 42,
    "start_time": "2023-05-18T18:05:45.136Z"
   },
   {
    "duration": 19,
    "start_time": "2023-05-18T18:05:45.180Z"
   },
   {
    "duration": 3299,
    "start_time": "2023-05-18T18:05:45.201Z"
   },
   {
    "duration": 125,
    "start_time": "2023-05-18T18:05:48.501Z"
   },
   {
    "duration": 107,
    "start_time": "2023-05-18T18:06:05.421Z"
   },
   {
    "duration": 3940,
    "start_time": "2023-05-18T18:06:09.478Z"
   },
   {
    "duration": 3404,
    "start_time": "2023-05-18T18:06:56.248Z"
   },
   {
    "duration": 247,
    "start_time": "2023-05-18T18:08:40.567Z"
   },
   {
    "duration": 1344,
    "start_time": "2023-05-18T18:09:29.453Z"
   },
   {
    "duration": 77,
    "start_time": "2023-05-18T18:11:36.098Z"
   },
   {
    "duration": 1746,
    "start_time": "2023-05-18T18:11:48.319Z"
   },
   {
    "duration": 3556,
    "start_time": "2023-05-18T18:14:32.234Z"
   },
   {
    "duration": 3714,
    "start_time": "2023-05-18T18:15:49.818Z"
   },
   {
    "duration": 4388,
    "start_time": "2023-05-18T18:16:28.914Z"
   },
   {
    "duration": 1714,
    "start_time": "2023-05-18T18:16:45.487Z"
   },
   {
    "duration": 554,
    "start_time": "2023-05-18T18:16:47.204Z"
   },
   {
    "duration": 31,
    "start_time": "2023-05-18T18:16:47.760Z"
   },
   {
    "duration": 86,
    "start_time": "2023-05-18T18:16:47.794Z"
   },
   {
    "duration": 179,
    "start_time": "2023-05-18T18:16:47.882Z"
   },
   {
    "duration": 4,
    "start_time": "2023-05-18T18:16:48.063Z"
   },
   {
    "duration": 8,
    "start_time": "2023-05-18T18:16:48.069Z"
   },
   {
    "duration": 13,
    "start_time": "2023-05-18T18:16:48.080Z"
   },
   {
    "duration": 181,
    "start_time": "2023-05-18T18:16:48.096Z"
   },
   {
    "duration": 67,
    "start_time": "2023-05-18T18:16:48.280Z"
   },
   {
    "duration": 213,
    "start_time": "2023-05-18T18:16:48.349Z"
   },
   {
    "duration": 167,
    "start_time": "2023-05-18T18:16:48.564Z"
   },
   {
    "duration": 212,
    "start_time": "2023-05-18T18:16:48.733Z"
   },
   {
    "duration": 44,
    "start_time": "2023-05-18T18:16:48.949Z"
   },
   {
    "duration": 166,
    "start_time": "2023-05-18T18:16:48.995Z"
   },
   {
    "duration": 294,
    "start_time": "2023-05-18T18:16:49.163Z"
   },
   {
    "duration": 214,
    "start_time": "2023-05-18T18:16:49.460Z"
   },
   {
    "duration": 57,
    "start_time": "2023-05-18T18:16:49.676Z"
   },
   {
    "duration": 305,
    "start_time": "2023-05-18T18:16:49.735Z"
   },
   {
    "duration": 290,
    "start_time": "2023-05-18T18:16:50.044Z"
   },
   {
    "duration": 276,
    "start_time": "2023-05-18T18:16:50.338Z"
   },
   {
    "duration": 32,
    "start_time": "2023-05-18T18:16:50.622Z"
   },
   {
    "duration": 28,
    "start_time": "2023-05-18T18:16:50.664Z"
   },
   {
    "duration": 26,
    "start_time": "2023-05-18T18:16:50.695Z"
   },
   {
    "duration": 20,
    "start_time": "2023-05-18T18:16:50.735Z"
   },
   {
    "duration": 11,
    "start_time": "2023-05-18T18:16:50.758Z"
   },
   {
    "duration": 21,
    "start_time": "2023-05-18T18:16:50.771Z"
   },
   {
    "duration": 5,
    "start_time": "2023-05-18T18:16:50.799Z"
   },
   {
    "duration": 51,
    "start_time": "2023-05-18T18:16:50.806Z"
   },
   {
    "duration": 69,
    "start_time": "2023-05-18T18:16:50.859Z"
   },
   {
    "duration": 15,
    "start_time": "2023-05-18T18:16:50.930Z"
   },
   {
    "duration": 18,
    "start_time": "2023-05-18T18:16:50.948Z"
   },
   {
    "duration": 78,
    "start_time": "2023-05-18T18:16:50.968Z"
   },
   {
    "duration": 5,
    "start_time": "2023-05-18T18:16:51.049Z"
   },
   {
    "duration": 27,
    "start_time": "2023-05-18T18:16:51.056Z"
   },
   {
    "duration": 63,
    "start_time": "2023-05-18T18:16:51.086Z"
   },
   {
    "duration": 88,
    "start_time": "2023-05-18T18:16:51.153Z"
   },
   {
    "duration": 8,
    "start_time": "2023-05-18T18:16:51.253Z"
   },
   {
    "duration": 74,
    "start_time": "2023-05-18T18:16:51.263Z"
   },
   {
    "duration": 6,
    "start_time": "2023-05-18T18:16:51.351Z"
   },
   {
    "duration": 19,
    "start_time": "2023-05-18T18:16:51.359Z"
   },
   {
    "duration": 49,
    "start_time": "2023-05-18T18:16:51.380Z"
   },
   {
    "duration": 5,
    "start_time": "2023-05-18T18:16:51.432Z"
   },
   {
    "duration": 12,
    "start_time": "2023-05-18T18:16:51.439Z"
   },
   {
    "duration": 108,
    "start_time": "2023-05-18T18:16:51.453Z"
   },
   {
    "duration": 20,
    "start_time": "2023-05-18T18:16:51.563Z"
   },
   {
    "duration": 3215,
    "start_time": "2023-05-18T18:16:51.586Z"
   },
   {
    "duration": 3939,
    "start_time": "2023-05-18T18:16:54.803Z"
   },
   {
    "duration": 3416,
    "start_time": "2023-05-18T18:17:39.348Z"
   },
   {
    "duration": 3179,
    "start_time": "2023-05-18T18:17:53.051Z"
   },
   {
    "duration": 3485,
    "start_time": "2023-05-18T18:18:05.345Z"
   },
   {
    "duration": 3552,
    "start_time": "2023-05-18T18:18:35.074Z"
   },
   {
    "duration": 4319,
    "start_time": "2023-05-18T18:19:26.551Z"
   },
   {
    "duration": 4189,
    "start_time": "2023-05-18T18:19:39.303Z"
   },
   {
    "duration": 3854,
    "start_time": "2023-05-18T18:20:30.851Z"
   },
   {
    "duration": 3714,
    "start_time": "2023-05-18T18:20:39.442Z"
   },
   {
    "duration": 4409,
    "start_time": "2023-05-18T18:21:01.853Z"
   },
   {
    "duration": 1647,
    "start_time": "2023-05-18T18:21:25.646Z"
   },
   {
    "duration": 459,
    "start_time": "2023-05-18T18:21:27.295Z"
   },
   {
    "duration": 43,
    "start_time": "2023-05-18T18:21:27.757Z"
   },
   {
    "duration": 74,
    "start_time": "2023-05-18T18:21:27.801Z"
   },
   {
    "duration": 190,
    "start_time": "2023-05-18T18:21:27.878Z"
   },
   {
    "duration": 3,
    "start_time": "2023-05-18T18:21:28.069Z"
   },
   {
    "duration": 31,
    "start_time": "2023-05-18T18:21:28.074Z"
   },
   {
    "duration": 16,
    "start_time": "2023-05-18T18:21:28.108Z"
   },
   {
    "duration": 120,
    "start_time": "2023-05-18T18:21:28.126Z"
   },
   {
    "duration": 40,
    "start_time": "2023-05-18T18:21:28.248Z"
   },
   {
    "duration": 221,
    "start_time": "2023-05-18T18:21:28.290Z"
   },
   {
    "duration": 174,
    "start_time": "2023-05-18T18:21:28.513Z"
   },
   {
    "duration": 178,
    "start_time": "2023-05-18T18:21:28.689Z"
   },
   {
    "duration": 55,
    "start_time": "2023-05-18T18:21:28.872Z"
   },
   {
    "duration": 161,
    "start_time": "2023-05-18T18:21:28.930Z"
   },
   {
    "duration": 265,
    "start_time": "2023-05-18T18:21:29.093Z"
   },
   {
    "duration": 247,
    "start_time": "2023-05-18T18:21:29.360Z"
   },
   {
    "duration": 53,
    "start_time": "2023-05-18T18:21:29.609Z"
   },
   {
    "duration": 248,
    "start_time": "2023-05-18T18:21:29.665Z"
   },
   {
    "duration": 204,
    "start_time": "2023-05-18T18:21:29.915Z"
   },
   {
    "duration": 170,
    "start_time": "2023-05-18T18:21:30.121Z"
   },
   {
    "duration": 16,
    "start_time": "2023-05-18T18:21:30.293Z"
   },
   {
    "duration": 64,
    "start_time": "2023-05-18T18:21:30.311Z"
   },
   {
    "duration": 98,
    "start_time": "2023-05-18T18:21:30.378Z"
   },
   {
    "duration": 46,
    "start_time": "2023-05-18T18:21:30.478Z"
   },
   {
    "duration": 58,
    "start_time": "2023-05-18T18:21:30.527Z"
   },
   {
    "duration": 65,
    "start_time": "2023-05-18T18:21:30.588Z"
   },
   {
    "duration": 30,
    "start_time": "2023-05-18T18:21:30.656Z"
   },
   {
    "duration": 44,
    "start_time": "2023-05-18T18:21:30.689Z"
   },
   {
    "duration": 36,
    "start_time": "2023-05-18T18:21:30.736Z"
   },
   {
    "duration": 74,
    "start_time": "2023-05-18T18:21:30.779Z"
   },
   {
    "duration": 127,
    "start_time": "2023-05-18T18:21:30.856Z"
   },
   {
    "duration": 59,
    "start_time": "2023-05-18T18:21:30.986Z"
   },
   {
    "duration": 34,
    "start_time": "2023-05-18T18:21:31.048Z"
   },
   {
    "duration": 41,
    "start_time": "2023-05-18T18:21:31.084Z"
   },
   {
    "duration": 53,
    "start_time": "2023-05-18T18:21:31.128Z"
   },
   {
    "duration": 149,
    "start_time": "2023-05-18T18:21:31.184Z"
   },
   {
    "duration": 32,
    "start_time": "2023-05-18T18:21:31.338Z"
   },
   {
    "duration": 53,
    "start_time": "2023-05-18T18:21:31.371Z"
   },
   {
    "duration": 42,
    "start_time": "2023-05-18T18:21:31.426Z"
   },
   {
    "duration": 67,
    "start_time": "2023-05-18T18:21:31.472Z"
   },
   {
    "duration": 100,
    "start_time": "2023-05-18T18:21:31.542Z"
   },
   {
    "duration": 92,
    "start_time": "2023-05-18T18:21:31.644Z"
   },
   {
    "duration": 85,
    "start_time": "2023-05-18T18:21:31.740Z"
   },
   {
    "duration": 44,
    "start_time": "2023-05-18T18:21:31.828Z"
   },
   {
    "duration": 20,
    "start_time": "2023-05-18T18:21:31.874Z"
   },
   {
    "duration": 3167,
    "start_time": "2023-05-18T18:21:31.896Z"
   },
   {
    "duration": 3638,
    "start_time": "2023-05-18T18:21:35.065Z"
   },
   {
    "duration": 3951,
    "start_time": "2023-05-18T18:22:03.604Z"
   },
   {
    "duration": 4068,
    "start_time": "2023-05-18T18:22:21.595Z"
   },
   {
    "duration": 5348,
    "start_time": "2023-05-18T18:22:29.877Z"
   },
   {
    "duration": 4165,
    "start_time": "2023-05-18T18:22:47.660Z"
   },
   {
    "duration": 4123,
    "start_time": "2023-05-18T18:23:00.381Z"
   },
   {
    "duration": 3880,
    "start_time": "2023-05-18T18:23:34.589Z"
   },
   {
    "duration": 4051,
    "start_time": "2023-05-18T18:24:26.988Z"
   },
   {
    "duration": 4302,
    "start_time": "2023-05-18T18:24:39.344Z"
   },
   {
    "duration": 3699,
    "start_time": "2023-05-18T18:25:02.931Z"
   },
   {
    "duration": 1626,
    "start_time": "2023-05-18T18:26:06.934Z"
   },
   {
    "duration": 444,
    "start_time": "2023-05-18T18:26:08.563Z"
   },
   {
    "duration": 52,
    "start_time": "2023-05-18T18:26:09.011Z"
   },
   {
    "duration": 99,
    "start_time": "2023-05-18T18:26:09.066Z"
   },
   {
    "duration": 176,
    "start_time": "2023-05-18T18:26:09.168Z"
   },
   {
    "duration": 3,
    "start_time": "2023-05-18T18:26:09.347Z"
   },
   {
    "duration": 5,
    "start_time": "2023-05-18T18:26:09.352Z"
   },
   {
    "duration": 4,
    "start_time": "2023-05-18T18:26:09.360Z"
   },
   {
    "duration": 113,
    "start_time": "2023-05-18T18:26:09.366Z"
   },
   {
    "duration": 60,
    "start_time": "2023-05-18T18:26:09.481Z"
   },
   {
    "duration": 273,
    "start_time": "2023-05-18T18:26:09.544Z"
   },
   {
    "duration": 223,
    "start_time": "2023-05-18T18:26:09.819Z"
   },
   {
    "duration": 167,
    "start_time": "2023-05-18T18:26:10.047Z"
   },
   {
    "duration": 66,
    "start_time": "2023-05-18T18:26:10.224Z"
   },
   {
    "duration": 209,
    "start_time": "2023-05-18T18:26:10.293Z"
   },
   {
    "duration": 230,
    "start_time": "2023-05-18T18:26:10.504Z"
   },
   {
    "duration": 241,
    "start_time": "2023-05-18T18:26:10.736Z"
   },
   {
    "duration": 50,
    "start_time": "2023-05-18T18:26:10.979Z"
   },
   {
    "duration": 175,
    "start_time": "2023-05-18T18:26:11.031Z"
   },
   {
    "duration": 179,
    "start_time": "2023-05-18T18:26:11.208Z"
   },
   {
    "duration": 186,
    "start_time": "2023-05-18T18:26:11.390Z"
   },
   {
    "duration": 24,
    "start_time": "2023-05-18T18:26:11.579Z"
   },
   {
    "duration": 36,
    "start_time": "2023-05-18T18:26:11.606Z"
   },
   {
    "duration": 18,
    "start_time": "2023-05-18T18:26:11.644Z"
   },
   {
    "duration": 7,
    "start_time": "2023-05-18T18:26:11.664Z"
   },
   {
    "duration": 9,
    "start_time": "2023-05-18T18:26:11.673Z"
   },
   {
    "duration": 45,
    "start_time": "2023-05-18T18:26:11.683Z"
   },
   {
    "duration": 6,
    "start_time": "2023-05-18T18:26:11.729Z"
   },
   {
    "duration": 16,
    "start_time": "2023-05-18T18:26:11.737Z"
   },
   {
    "duration": 181,
    "start_time": "2023-05-18T18:26:11.755Z"
   },
   {
    "duration": 10,
    "start_time": "2023-05-18T18:26:11.939Z"
   },
   {
    "duration": 76,
    "start_time": "2023-05-18T18:26:11.952Z"
   },
   {
    "duration": 34,
    "start_time": "2023-05-18T18:26:12.031Z"
   },
   {
    "duration": 5,
    "start_time": "2023-05-18T18:26:12.068Z"
   },
   {
    "duration": 17,
    "start_time": "2023-05-18T18:26:12.075Z"
   },
   {
    "duration": 50,
    "start_time": "2023-05-18T18:26:12.094Z"
   },
   {
    "duration": 83,
    "start_time": "2023-05-18T18:26:12.147Z"
   },
   {
    "duration": 97,
    "start_time": "2023-05-18T18:26:12.232Z"
   },
   {
    "duration": 29,
    "start_time": "2023-05-18T18:26:12.331Z"
   },
   {
    "duration": 5,
    "start_time": "2023-05-18T18:26:12.366Z"
   },
   {
    "duration": 22,
    "start_time": "2023-05-18T18:26:12.374Z"
   },
   {
    "duration": 47,
    "start_time": "2023-05-18T18:26:12.399Z"
   },
   {
    "duration": 5,
    "start_time": "2023-05-18T18:26:12.525Z"
   },
   {
    "duration": 8,
    "start_time": "2023-05-18T18:26:12.532Z"
   },
   {
    "duration": 110,
    "start_time": "2023-05-18T18:26:12.542Z"
   },
   {
    "duration": 24,
    "start_time": "2023-05-18T18:26:12.655Z"
   },
   {
    "duration": 3065,
    "start_time": "2023-05-18T18:26:12.682Z"
   },
   {
    "duration": 3682,
    "start_time": "2023-05-18T18:26:15.750Z"
   },
   {
    "duration": 2271,
    "start_time": "2023-05-19T07:22:56.695Z"
   },
   {
    "duration": 365,
    "start_time": "2023-05-19T07:22:58.967Z"
   },
   {
    "duration": 25,
    "start_time": "2023-05-19T07:22:59.333Z"
   },
   {
    "duration": 39,
    "start_time": "2023-05-19T07:22:59.360Z"
   },
   {
    "duration": 124,
    "start_time": "2023-05-19T07:22:59.425Z"
   },
   {
    "duration": 2,
    "start_time": "2023-05-19T07:22:59.550Z"
   },
   {
    "duration": 5,
    "start_time": "2023-05-19T07:22:59.554Z"
   },
   {
    "duration": 18,
    "start_time": "2023-05-19T07:22:59.561Z"
   },
   {
    "duration": 75,
    "start_time": "2023-05-19T07:22:59.580Z"
   },
   {
    "duration": 35,
    "start_time": "2023-05-19T07:22:59.657Z"
   },
   {
    "duration": 168,
    "start_time": "2023-05-19T07:22:59.694Z"
   },
   {
    "duration": 122,
    "start_time": "2023-05-19T07:22:59.863Z"
   },
   {
    "duration": 129,
    "start_time": "2023-05-19T07:22:59.986Z"
   },
   {
    "duration": 37,
    "start_time": "2023-05-19T07:23:00.123Z"
   },
   {
    "duration": 164,
    "start_time": "2023-05-19T07:23:00.162Z"
   },
   {
    "duration": 212,
    "start_time": "2023-05-19T07:23:00.328Z"
   },
   {
    "duration": 149,
    "start_time": "2023-05-19T07:23:00.543Z"
   },
   {
    "duration": 46,
    "start_time": "2023-05-19T07:23:00.694Z"
   },
   {
    "duration": 147,
    "start_time": "2023-05-19T07:23:00.742Z"
   },
   {
    "duration": 149,
    "start_time": "2023-05-19T07:23:00.891Z"
   },
   {
    "duration": 149,
    "start_time": "2023-05-19T07:23:01.042Z"
   },
   {
    "duration": 14,
    "start_time": "2023-05-19T07:23:01.192Z"
   },
   {
    "duration": 54,
    "start_time": "2023-05-19T07:23:01.208Z"
   },
   {
    "duration": 38,
    "start_time": "2023-05-19T07:23:01.263Z"
   },
   {
    "duration": 38,
    "start_time": "2023-05-19T07:23:01.303Z"
   },
   {
    "duration": 89,
    "start_time": "2023-05-19T07:23:01.343Z"
   },
   {
    "duration": 50,
    "start_time": "2023-05-19T07:23:01.433Z"
   },
   {
    "duration": 44,
    "start_time": "2023-05-19T07:23:01.486Z"
   },
   {
    "duration": 44,
    "start_time": "2023-05-19T07:23:01.531Z"
   },
   {
    "duration": 57,
    "start_time": "2023-05-19T07:23:01.577Z"
   },
   {
    "duration": 265,
    "start_time": "2023-05-19T07:23:01.637Z"
   },
   {
    "duration": 34,
    "start_time": "2023-05-19T07:23:01.903Z"
   },
   {
    "duration": 27,
    "start_time": "2023-05-19T07:23:01.939Z"
   },
   {
    "duration": 20,
    "start_time": "2023-05-19T07:23:01.968Z"
   },
   {
    "duration": 33,
    "start_time": "2023-05-19T07:23:01.990Z"
   },
   {
    "duration": 38,
    "start_time": "2023-05-19T07:23:02.024Z"
   },
   {
    "duration": 168,
    "start_time": "2023-05-19T07:23:02.064Z"
   },
   {
    "duration": 116,
    "start_time": "2023-05-19T07:23:02.233Z"
   },
   {
    "duration": 20,
    "start_time": "2023-05-19T07:23:02.350Z"
   },
   {
    "duration": 8,
    "start_time": "2023-05-19T07:23:02.371Z"
   },
   {
    "duration": 46,
    "start_time": "2023-05-19T07:23:02.380Z"
   },
   {
    "duration": 18,
    "start_time": "2023-05-19T07:23:02.428Z"
   },
   {
    "duration": 178,
    "start_time": "2023-05-19T07:23:02.448Z"
   },
   {
    "duration": 10,
    "start_time": "2023-05-19T07:23:02.628Z"
   },
   {
    "duration": 50,
    "start_time": "2023-05-19T07:23:02.640Z"
   },
   {
    "duration": 16,
    "start_time": "2023-05-19T07:23:02.691Z"
   },
   {
    "duration": 2668,
    "start_time": "2023-05-19T07:23:02.708Z"
   },
   {
    "duration": 2971,
    "start_time": "2023-05-19T07:23:05.378Z"
   },
   {
    "duration": 1137,
    "start_time": "2023-05-19T07:38:43.533Z"
   },
   {
    "duration": 1173,
    "start_time": "2023-05-19T07:38:59.706Z"
   }
  ],
  "kernelspec": {
   "display_name": "Python 3 (ipykernel)",
   "language": "python",
   "name": "python3"
  },
  "language_info": {
   "codemirror_mode": {
    "name": "ipython",
    "version": 3
   },
   "file_extension": ".py",
   "mimetype": "text/x-python",
   "name": "python",
   "nbconvert_exporter": "python",
   "pygments_lexer": "ipython3",
   "version": "3.9.13"
  },
  "toc": {
   "base_numbering": 1,
   "nav_menu": {},
   "number_sections": true,
   "sideBar": true,
   "skip_h1_title": true,
   "title_cell": "Table of Contents",
   "title_sidebar": "Contents",
   "toc_cell": false,
   "toc_position": {},
   "toc_section_display": true,
   "toc_window_display": false
  }
 },
 "nbformat": 4,
 "nbformat_minor": 4
}
